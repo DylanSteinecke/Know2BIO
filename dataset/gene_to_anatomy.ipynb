{
 "cells": [
  {
   "cell_type": "code",
   "execution_count": 3,
   "id": "a1bc27df",
   "metadata": {
    "scrolled": true
   },
   "outputs": [],
   "source": [
    "import csv\n",
    "import json\n",
    "import pandas as pd\n",
    "import os\n",
    "import networkx as nx\n",
    "import obonet as obo\n",
    "import requests as req\n",
    "import collections\n",
    "import gzip\n",
    "import seaborn as sns\n",
    "import numpy as np\n",
    "import matplotlib.pyplot as plt\n",
    "import IPython, urllib.parse\n",
    "#import urllib.requests\n",
    "import requests as req\n",
    "import biomedkg_utils\n",
    "from biomedkg_utils import *\n",
    "%matplotlib inline"
   ]
  },
  {
   "cell_type": "markdown",
   "id": "aac2bd9e",
   "metadata": {},
   "source": [
    "## Download files\n",
    "Adapted from https://github.com/dhimmel/bgee/blob/master/download/download.sh"
   ]
  },
  {
   "cell_type": "code",
   "execution_count": 34,
   "id": "4f037516",
   "metadata": {},
   "outputs": [
    {
     "name": "stdout",
     "output_type": "stream",
     "text": [
      "--2022-07-15 18:34:56--  https://bgee.org/ftp/bgee_v13_2/download/calls/diff_expr_calls/Homo_sapiens_diffexpr-anatomy-simple.tsv.zip\n",
      "Resolving bgee.org (bgee.org)... 130.223.50.57\n",
      "Connecting to bgee.org (bgee.org)|130.223.50.57|:443... connected.\n",
      "HTTP request sent, awaiting response... 200 OK\n",
      "Server ignored If-Modified-Since header for file ‘input/Homo_sapiens_diffexpr-anatomy-simple.tsv.zip’.\n",
      "You might want to add --no-if-modified-since option.\n",
      "\n",
      "Archive:  input/Homo_sapiens_diffexpr-anatomy-simple.tsv.zip\n",
      "  inflating: Homo_sapiens_diffexpr-anatomy-simple.tsv  \n"
     ]
    }
   ],
   "source": [
    "urls = ['https://bgee.org/ftp/bgee_v13_2/download/calls/diff_expr_calls/Homo_sapiens_diffexpr-anatomy-simple.tsv.zip']\n",
    "\n",
    "for url in urls:\n",
    "    filename = url.split('/')[-1] \n",
    "    #os.remove(filename[:-4])\n",
    "    !wget -N -P input/ $url        # Download file\n",
    "    !unzip input/$filename        # Unzip file\n",
    "    #!mv filename[:-4] input/$filename[:-4] "
   ]
  },
  {
   "cell_type": "markdown",
   "id": "088c1f0b",
   "metadata": {},
   "source": [
    "### Load entrez gene for ensembl conversion"
   ]
  },
  {
   "cell_type": "code",
   "execution_count": 2,
   "id": "d590a5fa",
   "metadata": {},
   "outputs": [],
   "source": [
    "# Get Entrez Gene IDs\n",
    "temp = pd.read_csv('output/nodes/genes_nodes.csv')[['Gene (Entrez)']]\n",
    "entrez_genes = sorted([gene.split(':')[1] for gene in list(temp['Gene (Entrez)'])[1:]])\n",
    "#entrez_genes = sorted(list(json.load(open('output/protein2gene/all_entrez2uniprot.json')).keys()))[1:]\n",
    "entrez_ids = str(\",\".join(entrez_genes))"
   ]
  },
  {
   "cell_type": "code",
   "execution_count": 3,
   "id": "647351b2",
   "metadata": {},
   "outputs": [],
   "source": [
    "# Use MyGene.Info to get Ensembl IDs\n",
    "headers = {'content-type': 'application/x-www-form-urlencoded'}\n",
    "params = 'q=%s&scopes=entrezgene&fields=ensembl&species=human'%entrez_ids\n",
    "res = req.post('http://mygene.info/v3/query', \\\n",
    "                    data=params, \\\n",
    "                    headers=headers).json()"
   ]
  },
  {
   "cell_type": "code",
   "execution_count": 4,
   "id": "949cc055",
   "metadata": {},
   "outputs": [],
   "source": [
    "# Align/map Ensembl to Entrez\n",
    "ensembl_is_entrez = dict()\n",
    "\n",
    "for r in res:\n",
    "    \n",
    "    # Entrez ID\n",
    "    try:entrez_id = r['_id']\n",
    "    except:continue\n",
    "    \n",
    "    # Ensembl ID\n",
    "    try:\n",
    "        if type(r['ensembl']) == list:\n",
    "            for entry in r['ensembl']:\n",
    "                ensembl = entry['gene']\n",
    "                ensembl_is_entrez[ensembl] = entrez_id # 1 to 1\n",
    "                \n",
    "        elif type(r['ensembl']) == dict:\n",
    "            ensembl = r['ensembl']['gene']\n",
    "            ensembl_is_entrez[ensembl] = entrez_id # 1 to 1\n",
    "    except: continue"
   ]
  },
  {
   "cell_type": "code",
   "execution_count": 5,
   "id": "fa82d51e",
   "metadata": {},
   "outputs": [],
   "source": [
    "json.dump(ensembl_is_entrez, open('output/gene2gene/ensembl2entrez.json','w'))"
   ]
  },
  {
   "cell_type": "code",
   "execution_count": 2,
   "id": "31453973",
   "metadata": {},
   "outputs": [],
   "source": [
    "ensembl_is_entrez = json.load(open('output/gene2gene/ensembl2entrez.json'))"
   ]
  },
  {
   "cell_type": "markdown",
   "id": "fec83c4d",
   "metadata": {},
   "source": [
    "### Input differential expression data"
   ]
  },
  {
   "cell_type": "code",
   "execution_count": 3,
   "id": "721eaa02",
   "metadata": {},
   "outputs": [
    {
     "data": {
      "text/plain": [
       "over-expression     167758\n",
       "under-expression    156032\n",
       "Name: Differential expression, dtype: int64"
      ]
     },
     "metadata": {},
     "output_type": "display_data"
    },
    {
     "data": {
      "text/html": [
       "<div>\n",
       "<style scoped>\n",
       "    .dataframe tbody tr th:only-of-type {\n",
       "        vertical-align: middle;\n",
       "    }\n",
       "\n",
       "    .dataframe tbody tr th {\n",
       "        vertical-align: top;\n",
       "    }\n",
       "\n",
       "    .dataframe thead th {\n",
       "        text-align: right;\n",
       "    }\n",
       "</style>\n",
       "<table border=\"1\" class=\"dataframe\">\n",
       "  <thead>\n",
       "    <tr style=\"text-align: right;\">\n",
       "      <th></th>\n",
       "      <th>Gene ID</th>\n",
       "      <th>Gene name</th>\n",
       "      <th>Anatomical entity ID</th>\n",
       "      <th>Anatomical entity name</th>\n",
       "      <th>Developmental stage ID</th>\n",
       "      <th>Developmental stage name</th>\n",
       "      <th>Differential expression</th>\n",
       "      <th>Call quality</th>\n",
       "    </tr>\n",
       "  </thead>\n",
       "  <tbody>\n",
       "    <tr>\n",
       "      <th>794747</th>\n",
       "      <td>ENSG00000273492</td>\n",
       "      <td>AP000230.1</td>\n",
       "      <td>UBERON:0001134</td>\n",
       "      <td>skeletal muscle tissue</td>\n",
       "      <td>UBERON:0000113</td>\n",
       "      <td>post-juvenile adult stage</td>\n",
       "      <td>under-expression</td>\n",
       "      <td>high quality</td>\n",
       "    </tr>\n",
       "    <tr>\n",
       "      <th>794749</th>\n",
       "      <td>ENSG00000273492</td>\n",
       "      <td>AP000230.1</td>\n",
       "      <td>UBERON:0001987</td>\n",
       "      <td>placenta</td>\n",
       "      <td>UBERON:0000113</td>\n",
       "      <td>post-juvenile adult stage</td>\n",
       "      <td>under-expression</td>\n",
       "      <td>high quality</td>\n",
       "    </tr>\n",
       "    <tr>\n",
       "      <th>794750</th>\n",
       "      <td>ENSG00000273492</td>\n",
       "      <td>AP000230.1</td>\n",
       "      <td>UBERON:0002037</td>\n",
       "      <td>cerebellum</td>\n",
       "      <td>UBERON:0000113</td>\n",
       "      <td>post-juvenile adult stage</td>\n",
       "      <td>over-expression</td>\n",
       "      <td>high quality</td>\n",
       "    </tr>\n",
       "    <tr>\n",
       "      <th>794751</th>\n",
       "      <td>ENSG00000273492</td>\n",
       "      <td>AP000230.1</td>\n",
       "      <td>UBERON:0002046</td>\n",
       "      <td>thyroid gland</td>\n",
       "      <td>UBERON:0000113</td>\n",
       "      <td>post-juvenile adult stage</td>\n",
       "      <td>over-expression</td>\n",
       "      <td>high quality</td>\n",
       "    </tr>\n",
       "    <tr>\n",
       "      <th>794752</th>\n",
       "      <td>ENSG00000273492</td>\n",
       "      <td>AP000230.1</td>\n",
       "      <td>UBERON:0002367</td>\n",
       "      <td>prostate gland</td>\n",
       "      <td>UBERON:0000113</td>\n",
       "      <td>post-juvenile adult stage</td>\n",
       "      <td>under-expression</td>\n",
       "      <td>high quality</td>\n",
       "    </tr>\n",
       "  </tbody>\n",
       "</table>\n",
       "</div>"
      ],
      "text/plain": [
       "                Gene ID   Gene name Anatomical entity ID  \\\n",
       "794747  ENSG00000273492  AP000230.1       UBERON:0001134   \n",
       "794749  ENSG00000273492  AP000230.1       UBERON:0001987   \n",
       "794750  ENSG00000273492  AP000230.1       UBERON:0002037   \n",
       "794751  ENSG00000273492  AP000230.1       UBERON:0002046   \n",
       "794752  ENSG00000273492  AP000230.1       UBERON:0002367   \n",
       "\n",
       "        Anatomical entity name Developmental stage ID  \\\n",
       "794747  skeletal muscle tissue         UBERON:0000113   \n",
       "794749                placenta         UBERON:0000113   \n",
       "794750              cerebellum         UBERON:0000113   \n",
       "794751           thyroid gland         UBERON:0000113   \n",
       "794752          prostate gland         UBERON:0000113   \n",
       "\n",
       "         Developmental stage name Differential expression  Call quality  \n",
       "794747  post-juvenile adult stage        under-expression  high quality  \n",
       "794749  post-juvenile adult stage        under-expression  high quality  \n",
       "794750  post-juvenile adult stage         over-expression  high quality  \n",
       "794751  post-juvenile adult stage         over-expression  high quality  \n",
       "794752  post-juvenile adult stage        under-expression  high quality  "
      ]
     },
     "execution_count": 3,
     "metadata": {},
     "output_type": "execute_result"
    }
   ],
   "source": [
    "# Combined differential expression dataframe\n",
    "diffex_df = pd.read_table('input/Homo_sapiens_diffexpr-anatomy-simple.tsv.zip', compression='zip')\n",
    "diffex_df = diffex_df[diffex_df['Call quality']=='high quality']\n",
    "\n",
    "# Under expressed genes\n",
    "underexp_df = diffex_df[diffex_df['Differential expression']=='under-expression']\n",
    "\n",
    "# Over expressed genes\n",
    "overexp_df = diffex_df[diffex_df['Differential expression']=='over-expression']\n",
    "\n",
    "display(diffex_df['Differential expression'].value_counts())\n",
    "diffex_df.tail()"
   ]
  },
  {
   "cell_type": "code",
   "execution_count": 1,
   "id": "a1b40f90",
   "metadata": {},
   "outputs": [
    {
     "name": "stdout",
     "output_type": "stream",
     "text": [
      "anatomy_to_anatomy.ipynb:    \"with open('output/anatomy2anatomy/uberon2mesh.json','w') as fout:\\n\",\r\n",
      "gene_to_anatomy.ipynb:    \"uberon2mesh = json.load(open('output/anatomy2anatomy/uberon2mesh.json'))\\n\",\r\n"
     ]
    }
   ],
   "source": [
    "!grep -r \"uberon2mesh.json\" *.ipynb"
   ]
  },
  {
   "cell_type": "markdown",
   "id": "77a72ce4",
   "metadata": {},
   "source": [
    "## Gene -over/underexpressed- Anatomy"
   ]
  },
  {
   "cell_type": "code",
   "execution_count": 4,
   "id": "59792129",
   "metadata": {},
   "outputs": [
    {
     "name": "stdout",
     "output_type": "stream",
     "text": [
      "16437 70\n",
      "18914 70\n",
      "Under 16437 70\n",
      "Over 18914 70\n"
     ]
    }
   ],
   "source": [
    "# UBERON -is- MeSH Anatomy\n",
    "uberon2mesh = json.load(open('output/anatomy2anatomy/uberon2mesh.json'))\n",
    "\n",
    "# Gene -overexpressed in- Anatomy\n",
    "underexp_gene2anat, underexp_anat2gene = dict(), dict()\n",
    "underexp_gene2anat, underexp_anat2gene = gene_expressed_in_anatomy(underexp_df, underexp_gene2anat, underexp_anat2gene, uberon2mesh, ensembl_is_entrez)\n",
    "\n",
    "# Gene -underexpressed in- Anatomy\n",
    "overexp_gene2anat, overexp_anat2gene  = dict(), dict()\n",
    "overexp_gene2anat1, overexp_anat2gene1 = gene_expressed_in_anatomy(overexp_df, overexp_gene2anat, overexp_anat2gene, uberon2mesh, ensembl_is_entrez)\n",
    "\n",
    "print('Under', len(underexp_gene2anat), len(underexp_anat2gene))\n",
    "print('Over', len(overexp_gene2anat1), len(overexp_anat2gene1))\n",
    "\n",
    "# Prepare to export\n",
    "underexp_gene2anat = switch_dictset_to_dictlist(underexp_gene2anat)\n",
    "overexp_gene2anat = switch_dictset_to_dictlist(overexp_gene2anat)\n",
    "\n",
    "# Export\n",
    "json.dump(underexp_gene2anat, open('output/gene2anatomy/underexpressed_gene2anat.json','w'))\n",
    "json.dump(overexp_gene2anat, open('output/gene2anatomy/overexpressed_gene2anat.json','w'))"
   ]
  },
  {
   "cell_type": "markdown",
   "id": "16cab405",
   "metadata": {},
   "source": [
    "## Export Edges"
   ]
  },
  {
   "cell_type": "code",
   "execution_count": 5,
   "id": "428c535a",
   "metadata": {},
   "outputs": [],
   "source": [
    "# Output underexpressed genes\n",
    "output_edgefile_onerel_noweight(\n",
    "    outpath = 'output/gene2anatomy/edges_gene-underexpressed_in-anatomy.csv', \n",
    "    columns = ['Gene (Entrez)', 'Anatomy (MeSH)','Relationship'], \n",
    "    dictionary = underexp_gene2anat, \n",
    "    rel = '-underexpressed_in->', \n",
    "    prefix_col1='Entrez:', \n",
    "    prefix_col2='MeSH_Anatomy:')"
   ]
  },
  {
   "cell_type": "code",
   "execution_count": 6,
   "id": "29490ee5",
   "metadata": {},
   "outputs": [],
   "source": [
    "# Output overexpressed genes\n",
    "output_edgefile_onerel_noweight(\n",
    "    outpath = 'output/gene2anatomy/edges_gene-overexpressed_in-anatomy.csv', \n",
    "    columns = ['Gene (Entrez)', 'Anatomy (MeSH)','Relationship'], \n",
    "    dictionary = overexp_gene2anat, \n",
    "    rel = '-overexpressed_in->', \n",
    "    prefix_col1='Entrez:', \n",
    "    prefix_col2='MeSH_Anatomy:')"
   ]
  }
 ],
 "metadata": {
  "kernelspec": {
   "display_name": "Python 3 (ipykernel)",
   "language": "python",
   "name": "python3"
  },
  "language_info": {
   "codemirror_mode": {
    "name": "ipython",
    "version": 3
   },
   "file_extension": ".py",
   "mimetype": "text/x-python",
   "name": "python",
   "nbconvert_exporter": "python",
   "pygments_lexer": "ipython3",
   "version": "3.9.7"
  }
 },
 "nbformat": 4,
 "nbformat_minor": 5
}
