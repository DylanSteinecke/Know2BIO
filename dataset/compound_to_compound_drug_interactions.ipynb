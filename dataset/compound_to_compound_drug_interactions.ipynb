{
 "cells": [
  {
   "cell_type": "markdown",
   "id": "8b55dc41",
   "metadata": {},
   "source": [
    "## Drug-Drug Interactions\n",
    "DrugBank drug interacts with other DrugBank drug"
   ]
  },
  {
   "cell_type": "code",
   "execution_count": 2,
   "id": "ead1f1e5",
   "metadata": {},
   "outputs": [],
   "source": [
    "import json\n",
    "import csv\n",
    "import pandas as pd\n",
    "import parse_xml\n",
    "from biomed_apis import *\n",
    "from biomedkg_utils import *\n",
    "from parse_xml import *\n",
    "from lxml import etree\n",
    "import xml.etree.ElementTree as ET"
   ]
  },
  {
   "cell_type": "code",
   "execution_count": 3,
   "id": "9633c840",
   "metadata": {},
   "outputs": [],
   "source": [
    "tree = ET.parse('input/full_drugbank.xml')\n",
    "root = tree.getroot()"
   ]
  },
  {
   "cell_type": "markdown",
   "id": "175551b2",
   "metadata": {},
   "source": [
    "### DrugBank -interacts_with-> DrugBank "
   ]
  },
  {
   "cell_type": "code",
   "execution_count": 4,
   "id": "13271d18",
   "metadata": {
    "scrolled": true
   },
   "outputs": [],
   "source": [
    "drug2interacting_drugs = dict()\n",
    "for i, ele in enumerate(root):\n",
    "    # Main drug's DrugBank ID\n",
    "    db_id = ParseXML.getID(ele)\n",
    "    \n",
    "    # Interacting drugs' DrugBank IDs\n",
    "    interacting_drugs = ParseXML.getInteractingDrugs(ele)\n",
    "    \n",
    "    # Drug - Drug interaction\n",
    "    drug2interacting_drugs[db_id] = interacting_drugs"
   ]
  },
  {
   "cell_type": "code",
   "execution_count": 78,
   "id": "fc4912ce",
   "metadata": {
    "scrolled": true
   },
   "outputs": [],
   "source": [
    "output_edgefile_onerel_noweight('output/compound2compound/edges_drugbank-interacts_with->drugbank.csv',\n",
    "                               ['Compound (DrugBank)', 'Compound (DrugBank)', 'Relationship'],\n",
    "                               drug2interacting_drugs,\n",
    "                                '-interacts_with->',\n",
    "                               'DrugBank_Compound:',\n",
    "                               'DrugBank_Compound:')"
   ]
  },
  {
   "cell_type": "markdown",
   "id": "68d85d99",
   "metadata": {},
   "source": [
    "### MeSH -interacts_with-> MeSH "
   ]
  },
  {
   "cell_type": "code",
   "execution_count": 74,
   "id": "b1df0daa",
   "metadata": {},
   "outputs": [],
   "source": [
    "db2mesh = json.load(open('output/compound2compound/db2mesh.json'))\n",
    "meshdrug2interacting_drugs = dict()\n",
    "\n",
    "for db, intdbs in drug2interacting_drugs.items():\n",
    "    \n",
    "    try:\n",
    "        # Main MeSH\n",
    "        mesh_mains = db2mesh[db]\n",
    "        for mesh_main in mesh_mains:\n",
    "\n",
    "            # Interacting MeSH\n",
    "            for intdb in intdbs:\n",
    "                mesh_ints = db2mesh[intdb]\n",
    "                for mesh_int in mesh_ints:\n",
    "\n",
    "                    # MeSH -interacts- MeSH Drug/Compound\n",
    "                    meshdrug2interacting_drugs.setdefault(mesh_main, set()).add(mesh_int)         \n",
    "    except:\n",
    "        continue"
   ]
  },
  {
   "cell_type": "code",
   "execution_count": 77,
   "id": "88c7c6e6",
   "metadata": {},
   "outputs": [],
   "source": [
    "output_edgefile_onerel_noweight('output/compound2compound/edges_MeSH-interacts_with->MeSH.csv',\n",
    "                               ['Compound (MeSH)', 'Compound (MeSH)', 'Relationship'],\n",
    "                               meshdrug2interacting_drugs,\n",
    "                                '-interacts_with->',\n",
    "                               'MeSH_Compound:',\n",
    "                               'MeSH_Compound:')"
   ]
  }
 ],
 "metadata": {
  "kernelspec": {
   "display_name": "Python 3 (ipykernel)",
   "language": "python",
   "name": "python3"
  },
  "language_info": {
   "codemirror_mode": {
    "name": "ipython",
    "version": 3
   },
   "file_extension": ".py",
   "mimetype": "text/x-python",
   "name": "python",
   "nbconvert_exporter": "python",
   "pygments_lexer": "ipython3",
   "version": "3.9.7"
  }
 },
 "nbformat": 4,
 "nbformat_minor": 5
}
