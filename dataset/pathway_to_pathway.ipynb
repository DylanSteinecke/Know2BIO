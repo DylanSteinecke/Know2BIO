{
 "cells": [
  {
   "cell_type": "markdown",
   "metadata": {},
   "source": [
    "# Pathway to Pathway (Reactome)"
   ]
  },
  {
   "cell_type": "code",
   "execution_count": 1,
   "metadata": {},
   "outputs": [],
   "source": [
    "import pandas as pd \n",
    "import numpy as np\n",
    "import csv\n",
    "import json\n",
    "import biomedkg_utils\n",
    "from biomedkg_utils import *\n",
    "import matplotlib.pyplot as plt\n",
    "from matplotlib_venn import venn3, venn2"
   ]
  },
  {
   "cell_type": "markdown",
   "metadata": {},
   "source": [
    "### Human Reactome Pathways\n"
   ]
  },
  {
   "cell_type": "code",
   "execution_count": 4,
   "metadata": {},
   "outputs": [
    {
     "name": "stderr",
     "output_type": "stream",
     "text": [
      "--2023-06-18 23:38:45--  https://reactome.org/download/current/ReactomePathwaysRelation.txt\n",
      "Resolving reactome.org (reactome.org)... 100.25.71.177\n",
      "Connecting to reactome.org (reactome.org)|100.25.71.177|:443... connected.\n",
      "HTTP request sent, awaiting response... 200 OK\n",
      "Length: 593673 (580K) [text/plain]\n",
      "Saving to: ‘input/ReactomePathwaysRelation.txt’\n",
      "\n",
      "     0K .......... .......... .......... .......... ..........  8%  394K 1s\n",
      "    50K .......... .......... .......... .......... .......... 17%  787K 1s\n",
      "   100K .......... .......... .......... .......... .......... 25%  786K 1s\n",
      "   150K .......... .......... .......... .......... .......... 34%  789K 1s\n",
      "   200K .......... .......... .......... .......... .......... 43%  241M 0s\n",
      "   250K .......... .......... .......... .......... .......... 51%  205M 0s\n",
      "   300K .......... .......... .......... .......... .......... 60%  793K 0s\n",
      "   350K .......... .......... .......... .......... .......... 68%  278M 0s\n",
      "   400K .......... .......... .......... .......... .......... 77%  219M 0s\n",
      "   450K .......... .......... .......... .......... .......... 86%  220M 0s\n",
      "   500K .......... .......... .......... .......... .......... 94%  269M 0s\n",
      "   550K .......... .......... .........                       100%  277M=0.4s\n",
      "\n",
      "2023-06-18 23:38:46 (1.48 MB/s) - ‘input/ReactomePathwaysRelation.txt’ saved [593673/593673]\n",
      "\n"
     ]
    },
    {
     "data": {
      "text/html": [
       "<div>\n",
       "<style scoped>\n",
       "    .dataframe tbody tr th:only-of-type {\n",
       "        vertical-align: middle;\n",
       "    }\n",
       "\n",
       "    .dataframe tbody tr th {\n",
       "        vertical-align: top;\n",
       "    }\n",
       "\n",
       "    .dataframe thead th {\n",
       "        text-align: right;\n",
       "    }\n",
       "</style>\n",
       "<table border=\"1\" class=\"dataframe\">\n",
       "  <thead>\n",
       "    <tr style=\"text-align: right;\">\n",
       "      <th></th>\n",
       "      <th>Pathway (Reactome)</th>\n",
       "      <th>Pathway (Reactome).1</th>\n",
       "      <th>Relationship</th>\n",
       "      <th>Score</th>\n",
       "    </tr>\n",
       "  </thead>\n",
       "  <tbody>\n",
       "    <tr>\n",
       "      <th>2642</th>\n",
       "      <td>Reactome_Pathway:R-HSA-983705</td>\n",
       "      <td>Reactome_Pathway:R-HSA-983695</td>\n",
       "      <td>-pathway_is_parent_of-&gt;</td>\n",
       "      <td>1.0</td>\n",
       "    </tr>\n",
       "    <tr>\n",
       "      <th>2643</th>\n",
       "      <td>Reactome_Pathway:R-HSA-983712</td>\n",
       "      <td>Reactome_Pathway:R-HSA-2672351</td>\n",
       "      <td>-pathway_is_parent_of-&gt;</td>\n",
       "      <td>1.0</td>\n",
       "    </tr>\n",
       "    <tr>\n",
       "      <th>2644</th>\n",
       "      <td>Reactome_Pathway:R-HSA-983712</td>\n",
       "      <td>Reactome_Pathway:R-HSA-936837</td>\n",
       "      <td>-pathway_is_parent_of-&gt;</td>\n",
       "      <td>1.0</td>\n",
       "    </tr>\n",
       "    <tr>\n",
       "      <th>2645</th>\n",
       "      <td>Reactome_Pathway:R-HSA-991365</td>\n",
       "      <td>Reactome_Pathway:R-HSA-170670</td>\n",
       "      <td>-pathway_is_parent_of-&gt;</td>\n",
       "      <td>1.0</td>\n",
       "    </tr>\n",
       "    <tr>\n",
       "      <th>2646</th>\n",
       "      <td>Reactome_Pathway:R-HSA-991365</td>\n",
       "      <td>Reactome_Pathway:R-HSA-997272</td>\n",
       "      <td>-pathway_is_parent_of-&gt;</td>\n",
       "      <td>1.0</td>\n",
       "    </tr>\n",
       "  </tbody>\n",
       "</table>\n",
       "</div>"
      ],
      "text/plain": [
       "                 Pathway (Reactome)            Pathway (Reactome).1  \\\n",
       "2642  Reactome_Pathway:R-HSA-983705   Reactome_Pathway:R-HSA-983695   \n",
       "2643  Reactome_Pathway:R-HSA-983712  Reactome_Pathway:R-HSA-2672351   \n",
       "2644  Reactome_Pathway:R-HSA-983712   Reactome_Pathway:R-HSA-936837   \n",
       "2645  Reactome_Pathway:R-HSA-991365   Reactome_Pathway:R-HSA-170670   \n",
       "2646  Reactome_Pathway:R-HSA-991365   Reactome_Pathway:R-HSA-997272   \n",
       "\n",
       "                 Relationship  Score  \n",
       "2642  -pathway_is_parent_of->    1.0  \n",
       "2643  -pathway_is_parent_of->    1.0  \n",
       "2644  -pathway_is_parent_of->    1.0  \n",
       "2645  -pathway_is_parent_of->    1.0  \n",
       "2646  -pathway_is_parent_of->    1.0  "
      ]
     },
     "execution_count": 4,
     "metadata": {},
     "output_type": "execute_result"
    }
   ],
   "source": [
    "pw_prefix = 'Reactome_Pathway:'\n",
    "headers = ['Pathway (Reactome)','Pathway (Reactome)', 'Relationship', 'Score']\n",
    "os.system('wget -N -P input/ https://reactome.org/download/current/ReactomePathwaysRelation.txt')\n",
    "\n",
    "pw_tree_df = pd.read_table('input/ReactomePathwaysRelation.txt', header=None)\n",
    "pw_tree_df.columns = ['Parent', 'Child']\n",
    "human_pw_tree_df = pw_tree_df[pw_tree_df['Parent'].str.contains('-HSA-')].copy()\n",
    "human_pw_tree_df['Parent'] = [pw_prefix+pw for pw in human_pw_tree_df['Parent']]\n",
    "human_pw_tree_df['Child'] = [pw_prefix+pw for pw in human_pw_tree_df['Child']]\n",
    "relations = ['-pathway_is_parent_of->']*len(human_pw_tree_df)\n",
    "scores = [1.0]*len(human_pw_tree_df)\n",
    "human_pw_tree_df.insert(2, 'relation', relations)\n",
    "human_pw_tree_df.insert(3, 'scores', scores)\n",
    "human_pw_tree_df.columns = headers\n",
    "human_pw_tree_df\n",
    "\n",
    "human_pw_tree_df.to_csv('output/pathway2pathway/edges_reactomePathwayHierarchy.csv', index = False)\n",
    "human_pw_tree_df.to_csv('output/edges_to_use/Pathway_(Reactome)_2_Pathway_(Reactome).csv', index = False)\n",
    "df = pd.read_csv('output/pathway2pathway/edges_reactomePathwayHierarchy.csv')\n",
    "df.tail()"
   ]
  },
  {
   "cell_type": "markdown",
   "metadata": {},
   "source": [
    "# Pathway to Pathway (KEGG)"
   ]
  },
  {
   "cell_type": "code",
   "execution_count": 2,
   "metadata": {
    "scrolled": true
   },
   "outputs": [
    {
     "name": "stdout",
     "output_type": "stream",
     "text": [
      "  % Total    % Received % Xferd  Average Speed   Time    Time     Time  Current\n",
      "                                 Dload  Upload   Total   Spent    Left  Speed\n",
      "100 20907    0 20907    0     0  21381      0 --:--:-- --:--:-- --:--:-- 21377\n"
     ]
    }
   ],
   "source": [
    "! curl https://rest.kegg.jp/list/pathway/hsa > input/kegg_human_pathways.tsv"
   ]
  },
  {
   "cell_type": "code",
   "execution_count": 7,
   "metadata": {},
   "outputs": [],
   "source": [
    "# INSTRUCTIONS: Obtain the KEGG pathway hierarchy, manually formatted from the website\n",
    "# https://www.kegg.jp/kegg/pathway.html or downloaded from the GitHub: kegg_pathway_hierarchy.csv"
   ]
  },
  {
   "cell_type": "code",
   "execution_count": 8,
   "metadata": {},
   "outputs": [],
   "source": [
    "import networkx as nx\n",
    "\n",
    "kegg_hierarchy_file_name  = \"input/kegg_pathway_hierarchy.csv\"\n",
    "kegg_pathway_G = parse_kegg_hierarchy(kegg_hierarchy_file_name)"
   ]
  },
  {
   "cell_type": "code",
   "execution_count": 18,
   "metadata": {},
   "outputs": [],
   "source": [
    "# output kegg pathway hierarchy\n",
    "with open(\"input/kegg_pathway_hierchy.tsv\",\"w\") as out_file:\n",
    "    out_file.write(\"\\n\".join([\"\\t\".join([x,y]) for x,y in kegg_pathway_G.edges()]))"
   ]
  },
  {
   "cell_type": "code",
   "execution_count": 10,
   "metadata": {},
   "outputs": [
    {
     "name": "stdout",
     "output_type": "stream",
     "text": [
      "353 human_pathways.tsv; 347 intersection; 551 kegg_pathway_hierarchy.csv\n"
     ]
    }
   ],
   "source": [
    "kegg_pathway_mapping_file = \"input/kegg_human_pathways.tsv\"\n",
    "kegg_pathway_mapping = parse_mapping_table(kegg_pathway_mapping_file)\n",
    "\n",
    "from_human_pathway_mapping = set(int(k.strip(\"path:hsa\")) for k in kegg_pathway_mapping.keys())\n",
    "from_kegg_pathway_hierarchy = set(int(k.split(\" \")[0]) for k in kegg_pathway_G.nodes() if \".\" not in k)\n",
    "intersection = from_human_pathway_mapping.intersection(from_kegg_pathway_hierarchy)\n",
    "\n",
    "print(\"%d human_pathways.tsv; %d intersection; %d kegg_pathway_hierarchy.csv\"%(len(from_human_pathway_mapping),len(intersection),len(from_kegg_pathway_hierarchy)))\n",
    "\n",
    "\n",
    "human_pathways =  kegg_pathway_mapping.keys()\n",
    "kegg_pathway_ids = [k for k in kegg_pathway_G.nodes() if \".\" not in k]\n",
    "human_pathway_to_kegg_pathway_id = map_human_pathways_to_kegg_pathway_id(human_pathways, kegg_pathway_ids)"
   ]
  },
  {
   "cell_type": "code",
   "execution_count": 11,
   "metadata": {},
   "outputs": [],
   "source": [
    "# output kegg pathway to human pathway\n",
    "with open(\"input/kegg_human_pathway_to_pathway_id.tsv\",\"w\") as out_file:\n",
    "    out_file.write(\"\\n\".join([\"\\t\".join([x,y]) for x,y in human_pathway_to_kegg_pathway_id.items()]))"
   ]
  },
  {
   "cell_type": "code",
   "execution_count": 13,
   "metadata": {},
   "outputs": [],
   "source": [
    "'''Align Pathway ID -is- Pathway Name'''\n",
    "pathway_id2name = dict()\n",
    "pathway_name2id = dict()\n",
    "\n",
    "for line in open('input/kegg_human_pathway_to_pathway_id.tsv'):\n",
    "    line = line.strip().split('\\t')\n",
    "    \n",
    "    # Pathway ID, Pathway Name\n",
    "    pathway_id = line[0].replace('path:','path_')\n",
    "    pathway_name = process_pathway_name(line[1])\n",
    "    \n",
    "    # Pathway Name -is- Pathway ID\n",
    "    pathway_id2name[pathway_id] = pathway_name\n",
    "    pathway_name2id[pathway_name] = pathway_id"
   ]
  },
  {
   "cell_type": "code",
   "execution_count": 19,
   "metadata": {},
   "outputs": [],
   "source": [
    "''' Pathway -parent of-> Pathway '''\n",
    "parent2child_kegg_pathway = dict()\n",
    "\n",
    "for line in open('input/kegg_pathway_hierchy.tsv'):\n",
    "    line = line.strip().split('\\t')\n",
    "    \n",
    "    # Pathways' Names\n",
    "    parent_pathway_name = line[0].replace('path:','path_')\n",
    "    child_pathway_name  = line[1].strip().replace('path:','path_')\n",
    "    \n",
    "    # Is the parent pathway good (human or a category)?\n",
    "    cleaned_parent_pathway_name = process_pathway_name(parent_pathway_name)\n",
    "    if cleaned_parent_pathway_name in pathway_name2id: \n",
    "        parent_human_pathway = True\n",
    "        parent_pathway_category = False\n",
    "    else:\n",
    "        parent_human_pathway = False\n",
    "        parent_pathway_category = check_if_pathway_category(parent_pathway_name)\n",
    "    \n",
    "    if parent_pathway_category:\n",
    "        parent_pathway_id = parent_pathway_name\n",
    "    elif parent_human_pathway:\n",
    "        parent_pathway_id = pathway_name2id[cleaned_parent_pathway_name]\n",
    "    else:\n",
    "        continue\n",
    "    \n",
    "    \n",
    "    # Is the child pathway good (human or a category)?\n",
    "    cleaned_child_pathway_name = process_pathway_name(child_pathway_name)\n",
    "    if cleaned_child_pathway_name in pathway_name2id:\n",
    "        child_human_pathway = True\n",
    "        child_pathway_category = False\n",
    "    else:\n",
    "        child_human_pathway = False\n",
    "        child_pathway_category = check_if_pathway_category(child_pathway_name)\n",
    "\n",
    "    if child_pathway_category:\n",
    "        child_pathway_id = child_pathway_name\n",
    "    elif child_human_pathway:\n",
    "        child_pathway_id = pathway_name2id[cleaned_child_pathway_name]\n",
    "    else:\n",
    "        continue\n",
    "        \n",
    "    # Parent Pathway - Child Pathway\n",
    "    parent2child_kegg_pathway.setdefault(parent_pathway_id, set()).add(child_pathway_id)\n",
    "    \n",
    "    \n",
    "# Output edges    \n",
    "file = 'Pathway_(KEGG)_2_Pathway_(KEGG).csv'\n",
    "outpath = os.path.join('output/pathway2pathway/', file)\n",
    "output_edgefile_onerel_noweight(\n",
    "    outpath = outpath,\n",
    "    columns = ['Pathway (KEGG)','Pathway (KEGG)','Relationship'],\n",
    "    dictionary = parent2child_kegg_pathway,\n",
    "    rel = '-parent_of->',\n",
    "    prefix_col1='KEGG_Pathway:',\n",
    "    prefix_col2='KEGG_Pathway:'\n",
    ")\n",
    "df = pd.read_csv(outpath)\n",
    "df.to_csv(os.path.join('output/edges', file), index=False)\n",
    "df.to_csv(os.path.join('output/edges_to_use/', file), index=False)"
   ]
  }
 ],
 "metadata": {
  "kernelspec": {
   "display_name": "Python 3 (ipykernel)",
   "language": "python",
   "name": "python3"
  },
  "language_info": {
   "codemirror_mode": {
    "name": "ipython",
    "version": 3
   },
   "file_extension": ".py",
   "mimetype": "text/x-python",
   "name": "python",
   "nbconvert_exporter": "python",
   "pygments_lexer": "ipython3",
   "version": "3.9.7"
  }
 },
 "nbformat": 4,
 "nbformat_minor": 2
}
