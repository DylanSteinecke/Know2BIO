{
 "cells": [
  {
   "cell_type": "markdown",
   "metadata": {},
   "source": [
    "# Protein-Gene Mappings\n",
    "- Protein = UniProt ID\n",
    "- Gene = Entrez ID"
   ]
  },
  {
   "cell_type": "code",
   "execution_count": 33,
   "metadata": {
    "scrolled": true
   },
   "outputs": [
    {
     "data": {
      "text/plain": [
       "0"
      ]
     },
     "execution_count": 33,
     "metadata": {},
     "output_type": "execute_result"
    },
    {
     "name": "stderr",
     "output_type": "stream",
     "text": [
      "--2023-06-14 13:54:01--  https://www.genenames.org/cgi-bin/download/custom?col=gd_app_name\n",
      "Resolving www.genenames.org (www.genenames.org)... 193.62.193.83\n",
      "Connecting to www.genenames.org (www.genenames.org)|193.62.193.83|:443... connected.\n",
      "HTTP request sent, awaiting response... 200 OK\n",
      "Length: unspecified [text/plain]\n",
      "Saving to: ‘input/custom?col=gd_app_name’\n",
      "\n",
      "     0K .......... .......... .......... .......... ..........  146K\n",
      "    50K .......... .......... .......... .......... ..........  146K\n",
      "   100K .......... .......... .......... .......... ..........  292K\n",
      "   150K .......... .......... .......... .......... ..........  291K\n",
      "   200K .......... .......... .......... .......... ..........  235K\n",
      "   250K .......... .......... .......... .......... ..........  292K\n",
      "   300K .......... .......... .......... .......... ..........  167K\n",
      "   350K .......... .......... .......... .......... .......... 48.7M\n",
      "   400K .......... .......... .......... .......... ..........  146K\n",
      "   450K .......... .......... .......... .......... ..........  292K\n",
      "   500K .......... .......... .......... .......... ..........  291K\n",
      "   550K .......... .......... .......... .......... ..........  292K\n",
      "   600K .......... .......... .......... .......... ..........  562K\n",
      "   650K .......... .......... .......... .......... ..........  269K\n",
      "   700K .......... .......... .......... .......... ..........  291K\n",
      "   750K .......... .......... .......... .......... ..........  318K\n",
      "   800K .......... .......... .......... .......... ..........  291K\n",
      "   850K .......... .......... .......... .......... ..........  608K\n",
      "   900K .......... .......... .......... .......... ..........  560K\n",
      "   950K .......... .......... .......... .......... ..........  609K\n",
      "  1000K .......... .......... .......... .......... ..........  559K\n",
      "  1050K .......... .......... .......... .......... .......... 6.52M\n",
      "  1100K .......... .......... .......... .......... ..........  423K\n",
      "  1150K .......... .......... .......... .......... .......... 1.06M\n",
      "  1200K .......... .......... .......... .......... ..........  597K\n",
      "  1250K .......... .......... .......... .......... ..........  574K\n",
      "  1300K .......... .......... .......... .......... ..........  136M\n",
      "  1350K .......... .......... .......... .......... .......... 3.35M\n",
      "  1400K .......... .......... .......... .......... ..........  712K\n",
      "  1450K .......... .......... .......... .......... ..........  578K\n",
      "  1500K .......... .......... .......... .......... ..........  158M\n",
      "  1550K .......... .......... .......... .......... .......... 3.39M\n",
      "  1600K .......... .......... .......... .......... ..........  704K\n",
      "  1650K .......... .......... .......... .......... ..........  585K\n",
      "  1700K .......... .......... .......... .......... ..........  142M\n",
      "  1750K .......... .......... .......                           180M=4.4s\n",
      "\n",
      "Last-modified header missing -- time-stamps turned off.\n",
      "2023-06-14 13:54:07 (406 KB/s) - ‘input/custom?col=gd_app_name’ saved [1820211]\n",
      "\n"
     ]
    }
   ],
   "source": [
    "import json\n",
    "import pandas as pd\n",
    "import csv\n",
    "import os\n",
    "import json\n",
    "import urllib.parse\n",
    "import urllib.request\n",
    "import numpy as np\n",
    "from biomed_apis import *\n",
    "from biomedkg_utils import *\n",
    "# INSTRUCTIONS: Download a set of as many genes as you can (ideally all human genes)\n",
    "# NOTE: URL just broke. HGNC website seems to not work correctly right now\n",
    "os.system('! wget -N -P input/ https://www.genenames.org/cgi-bin/download/custom?col=gd_app_name&col=gd_pub_acc_ids&col=md_prot_id&col=gd_pub_eg_id&status=Approved&hgnc_dbtag=on&order_by=gd_app_sym_sort&format=text&submit=submit')"
   ]
  },
  {
   "cell_type": "markdown",
   "metadata": {},
   "source": [
    "## Gene-is-Protein (via HGNC)"
   ]
  },
  {
   "cell_type": "code",
   "execution_count": 12,
   "metadata": {},
   "outputs": [
    {
     "data": {
      "text/plain": [
       "0"
      ]
     },
     "execution_count": 12,
     "metadata": {},
     "output_type": "execute_result"
    }
   ],
   "source": [
    "os.system('mv input/custom?col=gd_app_name input/custom_entrez_uniprot.txt')"
   ]
  },
  {
   "cell_type": "markdown",
   "metadata": {},
   "source": [
    "### Gene-[encodes]->Protein JSON, Protein-[encoded by]->Gene JSON\n",
    "Entrez Gene, UniProt Protein"
   ]
  },
  {
   "cell_type": "code",
   "execution_count": 3,
   "metadata": {},
   "outputs": [],
   "source": [
    "protein_id_2_gene_id, gene_id_2_protein_id = dict(), dict()\n",
    "for line in open('input/custom_entrez_uniprot.txt','r'):\n",
    "    line = line.split('\\t')\n",
    "    protein_ids = line[2].strip() # UniProt Protein ID\n",
    "    gene_id = line[3].strip()     # Entrez Gene ID\n",
    "    \n",
    "    if 'UniProt ID(supplied by UniProt)' not in protein_ids:\n",
    "        protein_ids = protein_ids.replace('_','').split(',')\n",
    "        for protein_id in protein_ids:\n",
    "            if protein_id != '' and gene_id != '':\n",
    "                protein_id_2_gene_id.setdefault(protein_id.strip(), set()).add(gene_id.strip())\n",
    "                gene_id_2_protein_id.setdefault(gene_id.strip(),set()).add(protein_id.strip())\n",
    "        \n",
    "protein_id_2_gene_id = switch_dictset_to_dictlist(protein_id_2_gene_id)\n",
    "gene_id_2_protein_id = switch_dictset_to_dictlist(gene_id_2_protein_id)"
   ]
  },
  {
   "cell_type": "markdown",
   "metadata": {},
   "source": [
    "## More Gene-is-Protein (via UniProt API)\n",
    "This gets all reviewed (I think) human proteins plus some other unreviewed ones taken from non-UniProt databases"
   ]
  },
  {
   "cell_type": "code",
   "execution_count": 9,
   "metadata": {},
   "outputs": [],
   "source": [
    "# Reviewed human proteome\n",
    "url = 'https://rest.uniprot.org/uniprotkb/stream?fields=accession%2Creviewed%2Cid%2Cprotein_name%2Cgene_names&format=json&query=%28reviewed%3Atrue%20AND%20proteome%3Aup000005640%29'\n",
    "res = requests.get(url)\n",
    "r = res.json()\n",
    "\n",
    "\n",
    "# Proteins from other sources\n",
    "proteins_from_go = set(pd.read_csv('output/edges/edges_protein2go.csv')['Protein (UniProt)'])\n",
    "proteins_from_entrez_mapping = set(protein_id_2_gene_id.keys())\n",
    "proteins_from_human_proteome = set([entry['primaryAccession'] for entry in r['results']])\n",
    "proteins_from_reactome_pathways = set(pd.read_csv('output/edges/edges_protein2reactomePathway.csv')['Protein (UniProt)']) \n",
    "#proteins_from_reactome_ppi = set(pd.read_csv('output/edges/edges_protein2protein_reactome.csv')['Protein (UniProt)'])\n",
    "#proteins_from_reactome_ppi = set(pd.read_csv('output/edges/edges_protein2protein_reactome.csv')['Protein (UniProt).1'])\n",
    "proteins_from_reactome_reactions = set(pd.read_csv('output/edges/edges_protein2reaction.csv')['Protein (UniProt)'])\n",
    "\n",
    "# Combine all those proteins\n",
    "protein_set = proteins_from_human_proteome\n",
    "protein_set = proteins_from_entrez_mapping.union(protein_set) \n",
    "protein_set = proteins_from_go.union(protein_set)    \n",
    "protein_set = proteins_from_reactome_pathways.union(protein_set)    \n",
    "protein_set = proteins_from_reactome_ppi.union(protein_set)    \n",
    "protein_set = proteins_from_reactome_reactions.union(protein_set)   "
   ]
  },
  {
   "cell_type": "code",
   "execution_count": 10,
   "metadata": {},
   "outputs": [],
   "source": [
    "protein_list = list(protein_set)\n",
    "protein_set = set()\n",
    "for protein_ids in protein_list:\n",
    "    \n",
    "    # Split each \"protein\" into multiple proteins if there are multiple\n",
    "    protein_ids = protein_ids.split(', ')\n",
    "    \n",
    "    for protein_id in protein_ids:\n",
    "        \n",
    "        # Remove \"UniProt:\" prefix\n",
    "        if 'UniProt:' in protein_id:\n",
    "            protein_id = protein_id.split('UniProt:')[1].strip().split('_')[0]\n",
    "\n",
    "        # Don't add numbers (genes), add UniProt IDs\n",
    "        if not protein_id[0:].isnumeric():\n",
    "            protein_set.add(protein_id)\n",
    "\n",
    "json.dump(list(protein_set), open('output/protein2protein/human_proteins.json','w'))\n",
    "\n",
    "len(protein_set)"
   ]
  },
  {
   "cell_type": "code",
   "execution_count": 49,
   "metadata": {},
   "outputs": [
    {
     "name": "stdout",
     "output_type": "stream",
     "text": [
      "Job still running. Retrying in 3s\n",
      "Job still running. Retrying in 3s\n",
      "Job still running. Retrying in 3s\n",
      "Job still running. Retrying in 3s\n",
      "Fetched: 20034 / 20034\r"
     ]
    }
   ],
   "source": [
    "job_id = submit_id_mapping_UniProtAPI(\n",
    "                  from_db = 'UniProtKB_AC-ID',\n",
    "                  to_db = 'GeneID', \n",
    "                  ids = protein_set)\n",
    "\n",
    "# This checks on the job until it is finished\n",
    "if check_id_mapping_results_ready_UniProtAPI(job_id):\n",
    "    link = get_id_mapping_results_link_UniProtAPI(job_id)\n",
    "    results = get_id_mapping_results_search_UniProtAPI(link)"
   ]
  },
  {
   "cell_type": "code",
   "execution_count": 50,
   "metadata": {},
   "outputs": [
    {
     "name": "stdout",
     "output_type": "stream",
     "text": [
      "Before UniProt API\n",
      "Entrez-is-UniProt 20878 UniProt-is-Entrez 20876\n",
      "\n",
      "After UniProt API\n",
      "Entrez-is-UniProt 20882 UniProt-is-Entrez 20881\n"
     ]
    }
   ],
   "source": [
    "print('Before UniProt API')\n",
    "print('Entrez-is-UniProt', len(gene_id_2_protein_id), \n",
    "      'UniProt-is-Entrez', len(protein_id_2_gene_id))\n",
    "\n",
    "gene_id_2_protein_id = switch_dictlist_to_dictset(gene_id_2_protein_id)\n",
    "protein_id_2_gene_id = switch_dictlist_to_dictset(protein_id_2_gene_id)\n",
    "\n",
    "for protein_to_gene in results['results']:\n",
    "    protein_id = protein_to_gene['from'].strip()\n",
    "    gene_id = protein_to_gene['to'].strip()\n",
    "    if gene_id != '' and protein_id != '':\n",
    "        gene_id_2_protein_id.setdefault(gene_id, set()).add(protein_id)\n",
    "        protein_id_2_gene_id.setdefault(protein_id, set()).add(gene_id)\n",
    "    \n",
    "print('\\nAfter UniProt API')\n",
    "print('Entrez-is-UniProt', len(gene_id_2_protein_id), \n",
    "      'UniProt-is-Entrez', len(protein_id_2_gene_id))"
   ]
  },
  {
   "cell_type": "markdown",
   "metadata": {},
   "source": [
    "### Export\n",
    "Gene-is-Protein, Protein-is-Gene"
   ]
  },
  {
   "cell_type": "code",
   "execution_count": 51,
   "metadata": {},
   "outputs": [],
   "source": [
    "gene_id_2_protein_id = switch_dictset_to_dictlist(gene_id_2_protein_id)\n",
    "protein_id_2_gene_id = switch_dictset_to_dictlist(protein_id_2_gene_id)\n",
    "\n",
    "json.dump(gene_id_2_protein_id, open('output/protein2gene/all_entrez2uniprot.json','w'))\n",
    "json.dump(protein_id_2_gene_id, open('output/protein2gene/all_uniprot2entrez.json','w'))\n",
    "\n",
    "# Edges\n",
    "gene2prot_dict = json.load(open('output/protein2gene/all_entrez2uniprot.json'))\n",
    "with open('output/edges/edges_gene-ENCODES->protein.csv','w') as fout1:\n",
    "    writerE = csv.writer(fout1)\n",
    "    writerE.writerow(['Gene (Entrez)','Protein (UniProt)', 'Relationship'])\n",
    "    \n",
    "    with open('output/protein2gene/edges_gene-ENCODES->protein.csv','w') as fout:\n",
    "        writer = csv.writer(fout)\n",
    "        writer.writerow(['Gene (Entrez)','Protein (UniProt)', 'Relationship'])\n",
    "        for gene, proteins in gene2prot_dict.items():\n",
    "            for protein in proteins:\n",
    "                writer.writerow(['Entrez:'+gene, 'UniProt:'+protein, '-encodes->'])\n",
    "                writerE.writerow(['Entrez:'+gene, 'UniProt:'+protein, '-encodes->'])\n",
    "                \n",
    "os.system('cp \"edges/edges_gene-ENCODES->protein.csv\" \"edges/Gene_(Entrez)_2_Protein_(UniProt).csv\"')\n",
    "os.system('cp \"edges/edges_gene-ENCODES->protein.csv\" \"edges to use/Gene_(Entrez)_2_Protein_(UniProt).csv\"')"
   ]
  }
 ],
 "metadata": {
  "kernelspec": {
   "display_name": "Python 3 (ipykernel)",
   "language": "python",
   "name": "python3"
  },
  "language_info": {
   "codemirror_mode": {
    "name": "ipython",
    "version": 3
   },
   "file_extension": ".py",
   "mimetype": "text/x-python",
   "name": "python",
   "nbconvert_exporter": "python",
   "pygments_lexer": "ipython3",
   "version": "3.9.7"
  }
 },
 "nbformat": 4,
 "nbformat_minor": 2
}
