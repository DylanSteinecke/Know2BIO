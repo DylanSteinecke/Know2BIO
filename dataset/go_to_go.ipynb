{
 "cells": [
  {
   "cell_type": "markdown",
   "metadata": {},
   "source": [
    "# GO Function Hierarchy/Ontology\n",
    "Includes molecular function, biological process, and cellular component ontologies"
   ]
  },
  {
   "cell_type": "code",
   "execution_count": 2,
   "metadata": {},
   "outputs": [],
   "source": [
    "import csv\n",
    "import pandas as pd\n",
    "import json\n",
    "import os\n",
    "import urllib.request\n",
    "import obonet\n",
    "from myutils import *"
   ]
  },
  {
   "cell_type": "code",
   "execution_count": 3,
   "metadata": {},
   "outputs": [],
   "source": [
    "# Download MeSH xml\n",
    "url = 'http://purl.obolibrary.org/obo/go/go-basic.obo'\n",
    "dest = 'input/go-basic.obo'\n",
    "urllib.request.urlretrieve(url, dest);"
   ]
  },
  {
   "cell_type": "code",
   "execution_count": 13,
   "metadata": {},
   "outputs": [],
   "source": [
    "# Convert GO obo file to dict\n",
    "def go_obo_to_dict(go_obo_path):\n",
    "    ID = ''\n",
    "    go_dict = dict()\n",
    "    with open(go_obo_path) as fin:\n",
    "        for line in fin:\n",
    "            if line.startswith('id: '):\n",
    "                ID = line.split('id: ')[1].strip('\\n')\n",
    "                continue\n",
    "            if ': ' in line and ID != '':\n",
    "                k = line.split(': ')[0]\n",
    "                v = line.split(': ')[1].strip('\\n')\n",
    "                go_dict.setdefault(ID,dict()).setdefault(k,[]).append(v)\n",
    "    return go_dict\n",
    "                \n",
    "go_dict = go_obo_to_dict(go_obo_path='input/go-basic.obo')"
   ]
  },
  {
   "cell_type": "code",
   "execution_count": 15,
   "metadata": {},
   "outputs": [],
   "source": [
    "go_id_to_go_ont = dict()\n",
    "for go_id, values in go_dict.items():\n",
    "    go_ont_name = values['namespace'][0]\n",
    "    go_id_to_go_ont[go_id] = go_ont_name\n",
    "    \n",
    "go_ontology_names = set(go_id_to_go_ont.values())\n",
    "go_ontology_names.remove('external')"
   ]
  },
  {
   "cell_type": "code",
   "execution_count": 16,
   "metadata": {},
   "outputs": [],
   "source": [
    "file_name = 'CC_MF_BP_(GO)_2_CC_MF_BP_(GO).csv'\n",
    "with open(f'output/go2go/{file_name}', 'w') as fout:  \n",
    "    writer = csv.writer(fout)\n",
    "    writer.writerow(['CC_MF_BP_(GO)', 'CC_MF_BP_(GO)', 'Relationship'])\n",
    "    \n",
    "    for go_id, values in go_dict.items():\n",
    "        if not go_id.startswith('GO:'):\n",
    "            continue\n",
    "        go_id = go_id_to_go_ont[go_id]+':'+go_id.split('GO:')[1]\n",
    "            \n",
    "        # 'is_a' relationships\n",
    "        try:\n",
    "            is_a_gos = [go.split(' !')[0] for go in values['is_a']]\n",
    "            for other_go in is_a_gos:\n",
    "                ont_type = go_id_to_go_ont[other_go]\n",
    "                other_go = ont_type+':'+other_go.split('GO:')[1]\n",
    "            writer.writerow([go_id, other_go, '-is_a-'])\n",
    "        except:\n",
    "            pass\n",
    "\n",
    "        # 'part_of', 'regulates', etc. relationships\n",
    "        try:\n",
    "            rel_gos = [r_g.split(' !')[0].split(' ') for r_g in values['relationship']]\n",
    "            for rel, other_go in rel_gos:\n",
    "                other_go = ont_type+':'+other_go.split('GO:')[1]\n",
    "                writer.writerow([go_id, other_go, f'-{rel}->'])\n",
    "        except:\n",
    "            pass"
   ]
  },
  {
   "cell_type": "code",
   "execution_count": 20,
   "metadata": {},
   "outputs": [],
   "source": [
    "df = pd.read_csv(f'output/go2go/{file_name}')\n",
    "df.to_csv(f'output/edges/{file_name}', index=False)\n",
    "df.to_csv(f'output/edges_to_use/{file_name}', index=False)"
   ]
  },
  {
   "cell_type": "code",
   "execution_count": 22,
   "metadata": {},
   "outputs": [
    {
     "name": "stdout",
     "output_type": "stream",
     "text": [
      "molecular_function\n"
     ]
    },
    {
     "data": {
      "text/plain": [
       "{'-is_a->': 13735, '-part_of->': 11}"
      ]
     },
     "metadata": {},
     "output_type": "display_data"
    },
    {
     "data": {
      "text/html": [
       "<div>\n",
       "<style scoped>\n",
       "    .dataframe tbody tr th:only-of-type {\n",
       "        vertical-align: middle;\n",
       "    }\n",
       "\n",
       "    .dataframe tbody tr th {\n",
       "        vertical-align: top;\n",
       "    }\n",
       "\n",
       "    .dataframe thead th {\n",
       "        text-align: right;\n",
       "    }\n",
       "</style>\n",
       "<table border=\"1\" class=\"dataframe\">\n",
       "  <thead>\n",
       "    <tr style=\"text-align: right;\">\n",
       "      <th></th>\n",
       "      <th>Molecular_Function (GO)</th>\n",
       "      <th>Molecular_Function (GO).1</th>\n",
       "      <th>Relationship</th>\n",
       "    </tr>\n",
       "  </thead>\n",
       "  <tbody>\n",
       "    <tr>\n",
       "      <th>0</th>\n",
       "      <td>molecular_function:0000006</td>\n",
       "      <td>molecular_function:0005385</td>\n",
       "      <td>-is_a-&gt;</td>\n",
       "    </tr>\n",
       "    <tr>\n",
       "      <th>1</th>\n",
       "      <td>molecular_function:0000007</td>\n",
       "      <td>molecular_function:0005385</td>\n",
       "      <td>-is_a-&gt;</td>\n",
       "    </tr>\n",
       "    <tr>\n",
       "      <th>2</th>\n",
       "      <td>molecular_function:0000009</td>\n",
       "      <td>molecular_function:0000030</td>\n",
       "      <td>-is_a-&gt;</td>\n",
       "    </tr>\n",
       "  </tbody>\n",
       "</table>\n",
       "</div>"
      ],
      "text/plain": [
       "      Molecular_Function (GO)   Molecular_Function (GO).1 Relationship\n",
       "0  molecular_function:0000006  molecular_function:0005385      -is_a->\n",
       "1  molecular_function:0000007  molecular_function:0005385      -is_a->\n",
       "2  molecular_function:0000009  molecular_function:0000030      -is_a->"
      ]
     },
     "metadata": {},
     "output_type": "display_data"
    },
    {
     "name": "stdout",
     "output_type": "stream",
     "text": [
      "cellular_component\n"
     ]
    },
    {
     "data": {
      "text/plain": [
       "{'-is_a->': 4683, '-part_of->': 1829}"
      ]
     },
     "metadata": {},
     "output_type": "display_data"
    },
    {
     "data": {
      "text/html": [
       "<div>\n",
       "<style scoped>\n",
       "    .dataframe tbody tr th:only-of-type {\n",
       "        vertical-align: middle;\n",
       "    }\n",
       "\n",
       "    .dataframe tbody tr th {\n",
       "        vertical-align: top;\n",
       "    }\n",
       "\n",
       "    .dataframe thead th {\n",
       "        text-align: right;\n",
       "    }\n",
       "</style>\n",
       "<table border=\"1\" class=\"dataframe\">\n",
       "  <thead>\n",
       "    <tr style=\"text-align: right;\">\n",
       "      <th></th>\n",
       "      <th>Cellular_Component (GO)</th>\n",
       "      <th>Cellular_Component (GO).1</th>\n",
       "      <th>Relationship</th>\n",
       "    </tr>\n",
       "  </thead>\n",
       "  <tbody>\n",
       "    <tr>\n",
       "      <th>0</th>\n",
       "      <td>cellular_component:0000015</td>\n",
       "      <td>cellular_component:1902494</td>\n",
       "      <td>-is_a-&gt;</td>\n",
       "    </tr>\n",
       "    <tr>\n",
       "      <th>1</th>\n",
       "      <td>cellular_component:0000015</td>\n",
       "      <td>cellular_component:0005829</td>\n",
       "      <td>-part_of-&gt;</td>\n",
       "    </tr>\n",
       "    <tr>\n",
       "      <th>2</th>\n",
       "      <td>cellular_component:0000109</td>\n",
       "      <td>cellular_component:0140513</td>\n",
       "      <td>-is_a-&gt;</td>\n",
       "    </tr>\n",
       "  </tbody>\n",
       "</table>\n",
       "</div>"
      ],
      "text/plain": [
       "      Cellular_Component (GO)   Cellular_Component (GO).1 Relationship\n",
       "0  cellular_component:0000015  cellular_component:1902494      -is_a->\n",
       "1  cellular_component:0000015  cellular_component:0005829   -part_of->\n",
       "2  cellular_component:0000109  cellular_component:0140513      -is_a->"
      ]
     },
     "metadata": {},
     "output_type": "display_data"
    },
    {
     "name": "stdout",
     "output_type": "stream",
     "text": [
      "biological_process\n"
     ]
    },
    {
     "data": {
      "text/plain": [
       "{'-is_a->': 50232,\n",
       " '-regulates->': 3120,\n",
       " '-part_of->': 4969,\n",
       " '-negatively_regulates->': 2704,\n",
       " '-positively_regulates->': 2692}"
      ]
     },
     "metadata": {},
     "output_type": "display_data"
    },
    {
     "data": {
      "text/html": [
       "<div>\n",
       "<style scoped>\n",
       "    .dataframe tbody tr th:only-of-type {\n",
       "        vertical-align: middle;\n",
       "    }\n",
       "\n",
       "    .dataframe tbody tr th {\n",
       "        vertical-align: top;\n",
       "    }\n",
       "\n",
       "    .dataframe thead th {\n",
       "        text-align: right;\n",
       "    }\n",
       "</style>\n",
       "<table border=\"1\" class=\"dataframe\">\n",
       "  <thead>\n",
       "    <tr style=\"text-align: right;\">\n",
       "      <th></th>\n",
       "      <th>Biological_Process (GO)</th>\n",
       "      <th>Biological_Process (GO).1</th>\n",
       "      <th>Relationship</th>\n",
       "    </tr>\n",
       "  </thead>\n",
       "  <tbody>\n",
       "    <tr>\n",
       "      <th>0</th>\n",
       "      <td>biological_process:0000001</td>\n",
       "      <td>biological_process:0048308</td>\n",
       "      <td>-is_a-&gt;</td>\n",
       "    </tr>\n",
       "    <tr>\n",
       "      <th>1</th>\n",
       "      <td>biological_process:0000001</td>\n",
       "      <td>biological_process:0048311</td>\n",
       "      <td>-is_a-&gt;</td>\n",
       "    </tr>\n",
       "    <tr>\n",
       "      <th>2</th>\n",
       "      <td>biological_process:0000002</td>\n",
       "      <td>biological_process:0007005</td>\n",
       "      <td>-is_a-&gt;</td>\n",
       "    </tr>\n",
       "  </tbody>\n",
       "</table>\n",
       "</div>"
      ],
      "text/plain": [
       "      Biological_Process (GO)   Biological_Process (GO).1 Relationship\n",
       "0  biological_process:0000001  biological_process:0048308      -is_a->\n",
       "1  biological_process:0000001  biological_process:0048311      -is_a->\n",
       "2  biological_process:0000002  biological_process:0007005      -is_a->"
      ]
     },
     "metadata": {},
     "output_type": "display_data"
    }
   ],
   "source": [
    "for go2go_type in go_ontology_names:\n",
    "    cap_go2go_type = '_'.join([w.capitalize() for w in go2go_type.split('_')])\n",
    "    \n",
    "    # Output GO-[rel]->GO\n",
    "    with open(f'output/go2go/{cap_go2go_type}_(GO)_2_{cap_go2go_type}_(GO).csv','w') as fout:\n",
    "        writer = csv.writer(fout)\n",
    "        writer.writerow([f'{cap_go2go_type} (GO)', f'{cap_go2go_type} (GO)','Relationship'])\n",
    "        go2go = dict()\n",
    "        rel_counts = dict()\n",
    "\n",
    "        for go, values in go_dict.items():\n",
    "            if values['namespace'][0] == go2go_type:\n",
    "                \n",
    "                for value in values:\n",
    "                    ### Obsolete? ###\n",
    "                    if value == 'is_obsolete' and go_dict[go][value] == ['true']:\n",
    "                        continue\n",
    "                    if value == 'replaced_by':\n",
    "                        continue\n",
    "                    if 'GO' not in go:\n",
    "                        continue\n",
    "\n",
    "                        \n",
    "                    ### Relationships ###\n",
    "                    if value == 'is_a':\n",
    "                        rel_type = '-'+value+'->'\n",
    "                        start_node = go.split('GO:')[1]\n",
    "                        start_node = go2go_type+':'+start_node\n",
    "                        end_nodes = go_dict[go][value]\n",
    "                        for end_node in end_nodes:\n",
    "                            end_node = end_node.split('GO:')[1]\n",
    "                            end_node = go2go_type+':'+end_node\n",
    "                            go2go.setdefault(start_node, dict()).setdefault(rel_type,[]).append(end_node.split(' !')[0])\n",
    "                            writer.writerow([start_node, end_node.split(' !')[0], rel_type])\n",
    "                            rel_counts[rel_type] = rel_counts.setdefault(rel_type,0) + 1\n",
    "\n",
    "                    elif value == 'relationship':\n",
    "                        rels = go_dict[go][value]\n",
    "                        for rel in rels:\n",
    "                            rel_type = '-'+rel.split(' ')[0]+'->'\n",
    "                            start_node = go.split('GO:')[1]\n",
    "                            start_node = go2go_type+':'+start_node\n",
    "                            end_node = rel.split(' ')[1]\n",
    "                            end_node = end_node.split('GO:')[1]\n",
    "                            end_node = go2go_type+':'+end_node\n",
    "                            go2go.setdefault(start_node, dict()).setdefault(rel_type,[]).append(end_node)\n",
    "                            writer.writerow([start_node, end_node, rel_type])\n",
    "                            rel_counts[rel_type] = rel_counts.setdefault(rel_type,0) + 1    \n",
    "\n",
    "    df = pd.read_csv(f'output/go2go/{cap_go2go_type}_(GO)_2_{cap_go2go_type}_(GO).csv')\n",
    "    df.to_csv(f'output/go2go/{cap_go2go_type}_(GO)_2_{cap_go2go_type}_(GO).csv', index=False)\n",
    "    \n",
    "    df.to_csv(f'output/go2go/{cap_go2go_type}_(GO)_2_{cap_go2go_type}_(GO).csv', index=False)\n",
    "    df.to_csv(f'output/edges/{cap_go2go_type}_(GO)_2_{cap_go2go_type}_(GO).csv', index=False)\n",
    "    df.to_csv(f'output/edges_to_use/{cap_go2go_type}_(GO)_2_{cap_go2go_type}_(GO).csv', index=False)\n",
    "    \n",
    "    \n",
    "    print(go2go_type)\n",
    "    display(rel_counts) # Relationship counts\n",
    "    display(df.head(3))"
   ]
  }
 ],
 "metadata": {
  "kernelspec": {
   "display_name": "Python 3 (ipykernel)",
   "language": "python",
   "name": "python3"
  },
  "language_info": {
   "codemirror_mode": {
    "name": "ipython",
    "version": 3
   },
   "file_extension": ".py",
   "mimetype": "text/x-python",
   "name": "python",
   "nbconvert_exporter": "python",
   "pygments_lexer": "ipython3",
   "version": "3.9.7"
  }
 },
 "nbformat": 4,
 "nbformat_minor": 2
}
