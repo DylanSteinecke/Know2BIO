{
 "cells": [
  {
   "cell_type": "code",
   "execution_count": 10,
   "id": "703bbc31",
   "metadata": {},
   "outputs": [],
   "source": [
    "import pandas as pd\n",
    "import os\n",
    "import csv\n",
    "import json\n",
    "import math"
   ]
  },
  {
   "cell_type": "code",
   "execution_count": null,
   "id": "025a36c1",
   "metadata": {},
   "outputs": [],
   "source": [
    "# INSTRUCTIONS (Download the Reactome Neo4j graph):\n",
    "# Download the Reactome database as a Neo4j graph: https://reactome.org/download-data/ is the main page\n",
    "# These are the possible files: https://reactome.org/download/current/reactome.graphdb.tgz \n",
    "# or https://reactome.org/download/current/reactome.graphdb.dump\\n\",\n",
    "Neo4j Command:\n",
    "    MATCH p=(pw:Pathway)-[edge:hasEvent]-(r:ReactionLikeEvent)\n",
    "    WHERE toLower(pw.speciesName) = 'homo sapiens'\n",
    "    WITH collect(pw) as pathways, collect(r) as RLEs , collect(edge) as relation\n",
    "    CALL apoc.export.csv.data(pathways + RLEs, relation, 'human_pathway_reaction.csv', {})\n",
    "    YIELD file, source, format, nodes, relationships, properties, time, rows, batchSize, batches, done, data\n",
    "    RETURN file, source, format, nodes, relationships, properties, time, rows, batchSize, batches, done, data"
   ]
  },
  {
   "cell_type": "code",
   "execution_count": 2,
   "id": "3850e8cb",
   "metadata": {
    "scrolled": true
   },
   "outputs": [
    {
     "name": "stderr",
     "output_type": "stream",
     "text": [
      "/home/ubuntu/anaconda3/lib/python3.9/site-packages/IPython/core/interactiveshell.py:3444: DtypeWarning: Columns (1,2,4,7,8,9,10,11,12,13,14,15,16,17,18,19,20,21,22) have mixed types.Specify dtype option on import or set low_memory=False.\n",
      "  exec(code_obj, self.user_global_ns, self.user_ns)\n"
     ]
    }
   ],
   "source": [
    "nodes = pd.read_csv('input/human_pathway_reaction.csv')[['_id', 'stId','displayName', 'name']]\n",
    "edges = pd.read_excel('input/human_pathways_reaction-like-event_edges.xlsx')"
   ]
  },
  {
   "cell_type": "code",
   "execution_count": 12,
   "id": "d4b8484c",
   "metadata": {},
   "outputs": [
    {
     "data": {
      "text/html": [
       "<div>\n",
       "<style scoped>\n",
       "    .dataframe tbody tr th:only-of-type {\n",
       "        vertical-align: middle;\n",
       "    }\n",
       "\n",
       "    .dataframe tbody tr th {\n",
       "        vertical-align: top;\n",
       "    }\n",
       "\n",
       "    .dataframe thead th {\n",
       "        text-align: right;\n",
       "    }\n",
       "</style>\n",
       "<table border=\"1\" class=\"dataframe\">\n",
       "  <thead>\n",
       "    <tr style=\"text-align: right;\">\n",
       "      <th></th>\n",
       "      <th>_start</th>\n",
       "      <th>_end</th>\n",
       "      <th>_type</th>\n",
       "      <th>order</th>\n",
       "    </tr>\n",
       "  </thead>\n",
       "  <tbody>\n",
       "    <tr>\n",
       "      <th>14920</th>\n",
       "      <td>1474231</td>\n",
       "      <td>1475330</td>\n",
       "      <td>hasEvent</td>\n",
       "      <td>1</td>\n",
       "    </tr>\n",
       "    <tr>\n",
       "      <th>14921</th>\n",
       "      <td>1697874</td>\n",
       "      <td>1698341</td>\n",
       "      <td>hasEvent</td>\n",
       "      <td>7</td>\n",
       "    </tr>\n",
       "    <tr>\n",
       "      <th>14922</th>\n",
       "      <td>1864535</td>\n",
       "      <td>1864536</td>\n",
       "      <td>hasEvent</td>\n",
       "      <td>1</td>\n",
       "    </tr>\n",
       "    <tr>\n",
       "      <th>14923</th>\n",
       "      <td>729530</td>\n",
       "      <td>730703</td>\n",
       "      <td>hasEvent</td>\n",
       "      <td>9</td>\n",
       "    </tr>\n",
       "    <tr>\n",
       "      <th>14924</th>\n",
       "      <td>1609237</td>\n",
       "      <td>1609250</td>\n",
       "      <td>hasEvent</td>\n",
       "      <td>28</td>\n",
       "    </tr>\n",
       "  </tbody>\n",
       "</table>\n",
       "</div>"
      ],
      "text/plain": [
       "        _start     _end     _type  order\n",
       "14920  1474231  1475330  hasEvent      1\n",
       "14921  1697874  1698341  hasEvent      7\n",
       "14922  1864535  1864536  hasEvent      1\n",
       "14923   729530   730703  hasEvent      9\n",
       "14924  1609237  1609250  hasEvent     28"
      ]
     },
     "execution_count": 12,
     "metadata": {},
     "output_type": "execute_result"
    }
   ],
   "source": [
    "db2reactome_id = dict(zip(nodes._id, nodes.stId))\n",
    "db2reactome_id = {int(db):reactome_id for db, reactome_id in db2reactome_id.items() if not math.isnan(db)}\n",
    "#db2reactome_id[931828]\n",
    "edges.tail()"
   ]
  },
  {
   "cell_type": "code",
   "execution_count": 13,
   "id": "d866fee7",
   "metadata": {},
   "outputs": [],
   "source": [
    "# Edges\n",
    "edge_list = list()\n",
    "\n",
    "for i in range(0,len(edges)):\n",
    "    pathway = edges['_start'].iloc[i]\n",
    "    reaction = edges['_end'].iloc[i]\n",
    "    rel = edges['_type'].iloc[i]\n",
    "    \n",
    "    try:\n",
    "        pathway = db2reactome_id[pathway]\n",
    "        reaction = db2reactome_id[reaction]        \n",
    "        edge_list.append([pathway, reaction])\n",
    "        \n",
    "    except:\n",
    "        continue"
   ]
  },
  {
   "cell_type": "code",
   "execution_count": 16,
   "id": "ca9229a7",
   "metadata": {},
   "outputs": [],
   "source": [
    "# Output Edges\n",
    "file = 'Reaction_(Reactome)_2_Pathway_(Reactome).csv'\n",
    "with open(os.path.join('output/pathway2reaction',file),'w') as fout:\n",
    "    writer = csv.writer(fout)\n",
    "    writer.writerow(['Reaction (Reactome)','Pathway (Reactome)','Relationship'])\n",
    "    relationship = '-involved_in->'\n",
    "            \n",
    "\n",
    "    for edge in edge_list:\n",
    "        pathway = edge[0]\n",
    "        reaction = edge[1]\n",
    "        writer.writerow(['Reactome_Reaction:'+reaction, 'Reactome_Pathway:'+pathway, relationship])"
   ]
  },
  {
   "cell_type": "code",
   "execution_count": 17,
   "id": "98a42aa7",
   "metadata": {
    "scrolled": true
   },
   "outputs": [
    {
     "data": {
      "text/html": [
       "<div>\n",
       "<style scoped>\n",
       "    .dataframe tbody tr th:only-of-type {\n",
       "        vertical-align: middle;\n",
       "    }\n",
       "\n",
       "    .dataframe tbody tr th {\n",
       "        vertical-align: top;\n",
       "    }\n",
       "\n",
       "    .dataframe thead th {\n",
       "        text-align: right;\n",
       "    }\n",
       "</style>\n",
       "<table border=\"1\" class=\"dataframe\">\n",
       "  <thead>\n",
       "    <tr style=\"text-align: right;\">\n",
       "      <th></th>\n",
       "      <th>Reaction (Reactome)</th>\n",
       "      <th>Pathway (Reactome)</th>\n",
       "      <th>Relationship</th>\n",
       "    </tr>\n",
       "  </thead>\n",
       "  <tbody>\n",
       "    <tr>\n",
       "      <th>0</th>\n",
       "      <td>Reactome_Reaction:R-HSA-8851908</td>\n",
       "      <td>Reactome_Pathway:R-HSA-8851907</td>\n",
       "      <td>-involved_in-&gt;</td>\n",
       "    </tr>\n",
       "    <tr>\n",
       "      <th>1</th>\n",
       "      <td>Reactome_Reaction:R-HSA-2265534</td>\n",
       "      <td>Reactome_Pathway:R-HSA-2206308</td>\n",
       "      <td>-involved_in-&gt;</td>\n",
       "    </tr>\n",
       "    <tr>\n",
       "      <th>2</th>\n",
       "      <td>Reactome_Reaction:R-HSA-8852019</td>\n",
       "      <td>Reactome_Pathway:R-HSA-8851907</td>\n",
       "      <td>-involved_in-&gt;</td>\n",
       "    </tr>\n",
       "    <tr>\n",
       "      <th>3</th>\n",
       "      <td>Reactome_Reaction:R-HSA-8865774</td>\n",
       "      <td>Reactome_Pathway:R-HSA-8955332</td>\n",
       "      <td>-involved_in-&gt;</td>\n",
       "    </tr>\n",
       "    <tr>\n",
       "      <th>4</th>\n",
       "      <td>Reactome_Reaction:R-HSA-9697747</td>\n",
       "      <td>Reactome_Pathway:R-HSA-5357905</td>\n",
       "      <td>-involved_in-&gt;</td>\n",
       "    </tr>\n",
       "    <tr>\n",
       "      <th>...</th>\n",
       "      <td>...</td>\n",
       "      <td>...</td>\n",
       "      <td>...</td>\n",
       "    </tr>\n",
       "    <tr>\n",
       "      <th>14920</th>\n",
       "      <td>Reactome_Reaction:R-HSA-3301237</td>\n",
       "      <td>Reactome_Pathway:R-HSA-3214847</td>\n",
       "      <td>-involved_in-&gt;</td>\n",
       "    </tr>\n",
       "    <tr>\n",
       "      <th>14921</th>\n",
       "      <td>Reactome_Reaction:R-HSA-9611852</td>\n",
       "      <td>Reactome_Pathway:R-HSA-390696</td>\n",
       "      <td>-involved_in-&gt;</td>\n",
       "    </tr>\n",
       "    <tr>\n",
       "      <th>14922</th>\n",
       "      <td>Reactome_Reaction:R-HSA-2328129</td>\n",
       "      <td>Reactome_Pathway:R-HSA-3000171</td>\n",
       "      <td>-involved_in-&gt;</td>\n",
       "    </tr>\n",
       "    <tr>\n",
       "      <th>14923</th>\n",
       "      <td>Reactome_Reaction:R-HSA-8850945</td>\n",
       "      <td>Reactome_Pathway:R-HSA-8948751</td>\n",
       "      <td>-involved_in-&gt;</td>\n",
       "    </tr>\n",
       "    <tr>\n",
       "      <th>14924</th>\n",
       "      <td>Reactome_Reaction:R-HSA-9007625</td>\n",
       "      <td>Reactome_Pathway:R-HSA-8953750</td>\n",
       "      <td>-involved_in-&gt;</td>\n",
       "    </tr>\n",
       "  </tbody>\n",
       "</table>\n",
       "<p>14925 rows × 3 columns</p>\n",
       "</div>"
      ],
      "text/plain": [
       "                   Reaction (Reactome)              Pathway (Reactome)  \\\n",
       "0      Reactome_Reaction:R-HSA-8851908  Reactome_Pathway:R-HSA-8851907   \n",
       "1      Reactome_Reaction:R-HSA-2265534  Reactome_Pathway:R-HSA-2206308   \n",
       "2      Reactome_Reaction:R-HSA-8852019  Reactome_Pathway:R-HSA-8851907   \n",
       "3      Reactome_Reaction:R-HSA-8865774  Reactome_Pathway:R-HSA-8955332   \n",
       "4      Reactome_Reaction:R-HSA-9697747  Reactome_Pathway:R-HSA-5357905   \n",
       "...                                ...                             ...   \n",
       "14920  Reactome_Reaction:R-HSA-3301237  Reactome_Pathway:R-HSA-3214847   \n",
       "14921  Reactome_Reaction:R-HSA-9611852   Reactome_Pathway:R-HSA-390696   \n",
       "14922  Reactome_Reaction:R-HSA-2328129  Reactome_Pathway:R-HSA-3000171   \n",
       "14923  Reactome_Reaction:R-HSA-8850945  Reactome_Pathway:R-HSA-8948751   \n",
       "14924  Reactome_Reaction:R-HSA-9007625  Reactome_Pathway:R-HSA-8953750   \n",
       "\n",
       "         Relationship  \n",
       "0      -involved_in->  \n",
       "1      -involved_in->  \n",
       "2      -involved_in->  \n",
       "3      -involved_in->  \n",
       "4      -involved_in->  \n",
       "...               ...  \n",
       "14920  -involved_in->  \n",
       "14921  -involved_in->  \n",
       "14922  -involved_in->  \n",
       "14923  -involved_in->  \n",
       "14924  -involved_in->  \n",
       "\n",
       "[14925 rows x 3 columns]"
      ]
     },
     "execution_count": 17,
     "metadata": {},
     "output_type": "execute_result"
    }
   ],
   "source": [
    "df = pd.read_csv(os.path.join('output/pathway2reaction',file))\n",
    "df.to_csv(os.path.join('output/edges/', file), index=False)\n",
    "df.to_csv(os.path.join('output/edges to use/',file), index=False)\n",
    "df"
   ]
  },
  {
   "cell_type": "code",
   "execution_count": 27,
   "id": "913fced6",
   "metadata": {},
   "outputs": [
    {
     "data": {
      "text/plain": [
       "2127"
      ]
     },
     "execution_count": 27,
     "metadata": {},
     "output_type": "execute_result"
    }
   ],
   "source": [
    "len(set(df['Pathway (Reactome)']))"
   ]
  },
  {
   "cell_type": "code",
   "execution_count": 28,
   "id": "7578e87e",
   "metadata": {},
   "outputs": [
    {
     "data": {
      "text/plain": [
       "14094"
      ]
     },
     "execution_count": 28,
     "metadata": {},
     "output_type": "execute_result"
    }
   ],
   "source": [
    "len(set(df['Reaction (Reactome)']))"
   ]
  },
  {
   "cell_type": "markdown",
   "id": "0669b721",
   "metadata": {},
   "source": [
    "#### 14925 "
   ]
  }
 ],
 "metadata": {
  "kernelspec": {
   "display_name": "Python 3 (ipykernel)",
   "language": "python",
   "name": "python3"
  },
  "language_info": {
   "codemirror_mode": {
    "name": "ipython",
    "version": 3
   },
   "file_extension": ".py",
   "mimetype": "text/x-python",
   "name": "python",
   "nbconvert_exporter": "python",
   "pygments_lexer": "ipython3",
   "version": "3.9.7"
  }
 },
 "nbformat": 4,
 "nbformat_minor": 5
}
