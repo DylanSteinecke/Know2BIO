{
 "cells": [
  {
   "cell_type": "code",
   "execution_count": 1,
   "metadata": {},
   "outputs": [],
   "source": [
    "import json, csv\n",
    "import pandas as pd\n",
    "import numpy as np\n",
    "import parse_xml\n",
    "import requests \n",
    "import subprocess\n",
    "import os \n",
    "import urllib.parse\n",
    "import urllib.request\n",
    "import biomedkg_utils\n",
    "import biomed_apis\n",
    "import requests\n",
    "from bs4 import BeautifulSoup\n",
    "import html\n",
    "from biomed_apis import *\n",
    "from biomedkg_utils import *\n",
    "from parse_xml import *\n",
    "from lxml import etree\n",
    "import xml.etree.ElementTree as ET\n",
    "from multiprocessing import Pool, cpu_count\n",
    "from multiprocessing import Process"
   ]
  },
  {
   "cell_type": "code",
   "execution_count": 3,
   "metadata": {
    "scrolled": true
   },
   "outputs": [],
   "source": [
    "# You need an authorized DrugBank account for this\n",
    "# ! curl -Lfv -o input/drugbank_all_full_database.xml.zip -u USERNAME:PASSWORD https://go.drugbank.com/releases/5-1-9/downloads/all-full-database\n",
    "#! unzip input/drugbank_all_full_database.xml.zip\n",
    "#! mv 'full database.xml' input/full_drugbank.xml"
   ]
  },
  {
   "cell_type": "markdown",
   "metadata": {},
   "source": [
    "## DrugBank - Protein\n",
    "- Drugs-[targets, carried_by, transported_by, or uses_enzyme]->Protein"
   ]
  },
  {
   "cell_type": "code",
   "execution_count": 2,
   "metadata": {},
   "outputs": [],
   "source": [
    "tree = ET.parse('input/full_drugbank.xml')\n",
    "root = tree.getroot()"
   ]
  },
  {
   "cell_type": "markdown",
   "metadata": {},
   "source": [
    "##### Makes dataframe of selected info about all drugs"
   ]
  },
  {
   "cell_type": "code",
   "execution_count": 3,
   "metadata": {},
   "outputs": [
    {
     "name": "stdout",
     "output_type": "stream",
     "text": [
      "14593\r"
     ]
    },
    {
     "data": {
      "text/html": [
       "<div>\n",
       "<style scoped>\n",
       "    .dataframe tbody tr th:only-of-type {\n",
       "        vertical-align: middle;\n",
       "    }\n",
       "\n",
       "    .dataframe tbody tr th {\n",
       "        vertical-align: top;\n",
       "    }\n",
       "\n",
       "    .dataframe thead th {\n",
       "        text-align: right;\n",
       "    }\n",
       "</style>\n",
       "<table border=\"1\" class=\"dataframe\">\n",
       "  <thead>\n",
       "    <tr style=\"text-align: right;\">\n",
       "      <th></th>\n",
       "      <th>ID</th>\n",
       "      <th>Name</th>\n",
       "      <th>Synonyms</th>\n",
       "      <th>ATC</th>\n",
       "      <th>Pathways</th>\n",
       "      <th>Indications</th>\n",
       "      <th>Drug--&gt;Protein</th>\n",
       "    </tr>\n",
       "  </thead>\n",
       "  <tbody>\n",
       "    <tr>\n",
       "      <th>0</th>\n",
       "      <td>DB00001</td>\n",
       "      <td>Lepirudin</td>\n",
       "      <td>[hirudin variant-1, lepirudin, lepirudin recom...</td>\n",
       "      <td>[B01AE02]</td>\n",
       "      <td>[{'name': 'Lepirudin Action Pathway', 'smpdb_i...</td>\n",
       "      <td>For the treatment of heparin-induced thrombocy...</td>\n",
       "      <td>[{'carriers': []}, {'targets': [{'name': 'Prot...</td>\n",
       "    </tr>\n",
       "    <tr>\n",
       "      <th>1</th>\n",
       "      <td>DB00002</td>\n",
       "      <td>Cetuximab</td>\n",
       "      <td>[cetuximab, cétuximab, cetuximabum]</td>\n",
       "      <td>[L01XC06]</td>\n",
       "      <td>[{'name': 'Cetuximab Action Pathway', 'smpdb_i...</td>\n",
       "      <td>Cetuximab indicated for the treatment of local...</td>\n",
       "      <td>[{'carriers': []}, {'targets': [{'name': 'Epid...</td>\n",
       "    </tr>\n",
       "  </tbody>\n",
       "</table>\n",
       "</div>"
      ],
      "text/plain": [
       "        ID       Name                                           Synonyms  \\\n",
       "0  DB00001  Lepirudin  [hirudin variant-1, lepirudin, lepirudin recom...   \n",
       "1  DB00002  Cetuximab                [cetuximab, cétuximab, cetuximabum]   \n",
       "\n",
       "         ATC                                           Pathways  \\\n",
       "0  [B01AE02]  [{'name': 'Lepirudin Action Pathway', 'smpdb_i...   \n",
       "1  [L01XC06]  [{'name': 'Cetuximab Action Pathway', 'smpdb_i...   \n",
       "\n",
       "                                         Indications  \\\n",
       "0  For the treatment of heparin-induced thrombocy...   \n",
       "1  Cetuximab indicated for the treatment of local...   \n",
       "\n",
       "                                      Drug-->Protein  \n",
       "0  [{'carriers': []}, {'targets': [{'name': 'Prot...  \n",
       "1  [{'carriers': []}, {'targets': [{'name': 'Epid...  "
      ]
     },
     "execution_count": 3,
     "metadata": {},
     "output_type": "execute_result"
    }
   ],
   "source": [
    "compoundprotein_df = pd.DataFrame(columns=['ID','Name','Synonyms','ATC','Pathways','Indications','Drug-->Protein'])\n",
    "for i, ele in enumerate(root):\n",
    "    print(i, end = '\\r')\n",
    "    \n",
    "    name = ParseXML.getName(ele)                               # Drug name\n",
    "    syn = [drug.lower() for drug in ParseXML.getSynonyms(ele)] # Drug synonyms\n",
    "    ID = ParseXML.getID(ele)    # DrugBank ID\n",
    "    indications = ParseXML.getIndication(ele)                  # Description of indications\n",
    "    pathways = ParseXML.getPathways(ele)                       # SMPDB Pathway information (drug targets pathways)\n",
    "    atc = ParseXML.getATCCode(ele)                             # ATC, drug classification code\n",
    "    \n",
    "    # Drug-[relationship]->Protein dictionary\n",
    "    d2p = []\n",
    "    for relation in ['carriers', 'targets', 'transporters' , 'enzymes']:\n",
    "        d2p.append({relation:ParseXML.getEntities(ele, relation)})\n",
    "\n",
    "    compoundprotein_df.loc[len(compoundprotein_df.index)] = [ID, name, syn, atc, pathways, indications,d2p]\n",
    "compoundprotein_df.head(2)"
   ]
  },
  {
   "cell_type": "markdown",
   "metadata": {},
   "source": [
    "## Drug->Protein dictionary\n",
    "Relationships: Targets, Carries, Transports, Enyzmes"
   ]
  },
  {
   "cell_type": "code",
   "execution_count": 74,
   "metadata": {
    "scrolled": true
   },
   "outputs": [
    {
     "name": "stdout",
     "output_type": "stream",
     "text": [
      "drugTargetsProtrelationships 14421\n",
      "Drug with Target: 5927\n",
      "Total Drug-action-Target Relationships: 7498 14654 2261\n",
      "Unique Actions: 47 Unique Proteins: 2802 Unique Drugs: 2261\n",
      "Actions:\n"
     ]
    },
    {
     "data": {
      "text/plain": [
       "{'inhibitor': 2422,\n",
       " 'binder': 377,\n",
       " 'agonist': 1240,\n",
       " 'antibody': 82,\n",
       " 'ligand': 335,\n",
       " 'activator': 176,\n",
       " 'inducer': 118,\n",
       " 'modulator': 74,\n",
       " 'substrate': 84,\n",
       " 'cofactor': 193,\n",
       " 'antagonist': 1693,\n",
       " 'chaperone': 17,\n",
       " 'product of': 41,\n",
       " 'downregulator': 16,\n",
       " 'other/unknown': 63,\n",
       " 'stimulator': 21,\n",
       " 'negative modulator': 33,\n",
       " 'positive allosteric modulator': 69,\n",
       " 'inverse agonist': 27,\n",
       " 'other': 31,\n",
       " 'partial agonist': 94,\n",
       " 'potentiator': 146,\n",
       " 'unknown': 18,\n",
       " 'blocker': 35,\n",
       " 'inhibitory allosteric modulator': 2,\n",
       " 'allosteric modulator': 11,\n",
       " 'multitarget': 7,\n",
       " 'stabilization': 9,\n",
       " 'partial antagonist': 1,\n",
       " 'suppressor': 3,\n",
       " 'binding': 9,\n",
       " 'degradation': 1,\n",
       " 'incorporation into and destabilization': 1,\n",
       " 'weak inhibitor': 1,\n",
       " 'neutralizer': 3,\n",
       " 'cleavage': 5,\n",
       " 'oxidizer': 3,\n",
       " 'inactivator': 6,\n",
       " 'nucleotide exchange blocker': 1,\n",
       " 'regulator': 14,\n",
       " 'inhibition of synthesis': 1,\n",
       " 'antisense oligonucleotide': 4,\n",
       " 'translocation inhibitor': 1,\n",
       " 'gene replacement': 1,\n",
       " 'inhibits downstream inflammation cascades': 1,\n",
       " 'chelator': 4,\n",
       " 'component of': 4}"
      ]
     },
     "execution_count": 74,
     "metadata": {},
     "output_type": "execute_result"
    }
   ],
   "source": [
    "# Option 2: Use Dictionaries for each relationship: {Drug: [upids], ...}\n",
    "count = 0\n",
    "drug_targets_prot, drug_carry_prot, drug_transport_prot, drug_enzyme_prot = dict(), dict(), dict(), dict()\n",
    "drugTargetsProtrelationships = 0\n",
    "with open('output/compound2protein/edges_compoundprotein_drugbank.csv', 'w') as fout,\\\n",
    "    open('output/compound2protein/edges_compoundprotein_mesh.csv','w') as fout1:\n",
    "    writer = csv.writer(fout)\n",
    "    writer.writerow(['Compound (DrugBank)', 'Protein (UniProt)','Relationship'])\n",
    "    \n",
    "    writer2 = csv.writer(fout1)\n",
    "    writer2.writerow(['Compound (MeSH)', 'Protein (UniProt)', 'Relationship'])\n",
    "    \n",
    "    for count, ele in enumerate(root):\n",
    "        ID = ParseXML.getID(ele)\n",
    "        for relation in ['carriers', 'targets', 'transporters' , 'enzymes']:\n",
    "            prots = ParseXML.getEntities(ele, relation)\n",
    "            \n",
    "            for prot in prots:\n",
    "                upid = prot['uniprot_id']\n",
    "                if(upid != 'Null'):\n",
    "                    \n",
    "                    if(relation == 'carriers'):\n",
    "                        drug_carry_prot.setdefault(ID,[]).append(upid)\n",
    "\n",
    "                    elif(relation == 'targets'):\n",
    "                        drug_targets_prot.setdefault(ID,[]).append(upid)\n",
    "                        drugTargetsProtrelationships += 1\n",
    "\n",
    "                    elif(relation == 'transporters'):\n",
    "                        drug_transport_prot.setdefault(ID,[]).append(upid)\n",
    "\n",
    "                    elif(relation == 'enzymes'):\n",
    "                        drug_enzyme_prot.setdefault(ID,[]).append(upid)\n",
    "\n",
    "            for prot in prots:\n",
    "                upid = prot['uniprot_id']\n",
    "                if(upid != 'Null'):\n",
    "                    if relation == 'targets':\n",
    "                        writer.writerow(['DrugBank_Compound:'+ID, 'UniProt:'+upid, '-drug_%s_protein->'%relation])\n",
    "                        try:\n",
    "                            mesh_compounds = db2mesh[ID]\n",
    "                            for mesh in mesh_compounds:\n",
    "                                writer2.writerow(['MeSH_Compound:'+mesh, 'UniProt:'+upid, '-drug_%s_protein->'%relation])\n",
    "                        except:\n",
    "                            continue\n",
    "\n",
    "                    else:\n",
    "                        writer.writerow(['DrugBank_Compound:'+ID, 'UniProt:'+upid, '-drug_uses_protein_as_%s-'%relation])\n",
    "                        try:\n",
    "                            mesh_compounds = db2mesh[ID]\n",
    "                            for mesh in mesh_compounds:\n",
    "                                writer2.writerow(['MeSH_Compound:'+mesh, 'UniProt:'+upid, '-drug_uses_protein_as_%s-'%relation])\n",
    "                        except:\n",
    "                            continue\n",
    "print('drugTargetsProtrelationships', drugTargetsProtrelationships)\n",
    "                        \n",
    "\n",
    "drugwithtarget = 0\n",
    "num_actions, num_prots, num_drugs = 0, 0, 0 \n",
    "uniq_acts, uniq_prot, unique_drug = dict(), set(), set()\n",
    "with open('output/compound2protein/edges_compoundsometargetsdetailed_drugbank.csv', 'w') as fout,\\\n",
    "    open('output/compound2protein/edges_compoundsometargetsdetailed_mesh.csv', 'w') as fout1:\n",
    "\n",
    "    writer = csv.writer(fout)\n",
    "    writer.writerow(['Compound (DrugBank)','Protein (UniProt)', 'Relationship'])\n",
    "    \n",
    "    writer2 = csv.writer(fout1)\n",
    "    writer2.writerow(['Compound (MeSH)', 'Protein (UniProt)', 'Relationship'])\n",
    "    \n",
    "    for ele in root:\n",
    "        ID = ParseXML.getID(ele)\n",
    "        prots = ParseXML.getEntities(ele, 'targets')\n",
    "        \n",
    "        if len(prots) > 0:\n",
    "            drugwithtarget += 1\n",
    "            has_action = False\n",
    "            for prot in prots:\n",
    "                upid = prot['uniprot_id']\n",
    "                actions = prot['actions']\n",
    "                uniq_prot.add(upid)\n",
    "                num_prots += 1\n",
    "                \n",
    "                if(upid != 'Null'):\n",
    "                    if len(actions) > 0:\n",
    "                        has_action = True\n",
    "                        for action in actions:\n",
    "                            \n",
    "                            # DrugBank Compound\n",
    "                            writer.writerow(['DrugBank_Compound:'+ID, 'UniProt:'+upid, '-%s->'%action.replace(' ','_')])\n",
    "                            uniq_acts.setdefault(action,0)\n",
    "                            num_actions += 1\n",
    "                            uniq_acts[action] += 1\n",
    "                            \n",
    "                            # MeSH Compound\n",
    "                            try:\n",
    "                                mesh_compounds = db2mesh[ID]\n",
    "                                for mesh in mesh_compounds:\n",
    "                                    writer2.writerow(['MeSH_Compound:'+mesh, 'UniProt:'+upid, '-%s->'%action.replace(' ','_')])\n",
    "                            except:\n",
    "                                continue\n",
    "                    else:\n",
    "                        # DrugBank Compound\n",
    "                        writer.writerow(['DrugBank_Compound:'+ID, 'UniProt:'+upid, '-drug_targets_protein->'])\n",
    "                        \n",
    "                        # MeSH Compound\n",
    "                        try:\n",
    "                            mesh_compounds = db2mesh[ID]\n",
    "                            for mesh in mesh_compounds:\n",
    "                                writer2.writerow(['MeSH_Compound:'+mesh, 'UniProt:'+upid, '-drug_targets_protein->'])\n",
    "                        except:\n",
    "                            continue\n",
    "\n",
    "\n",
    "            if has_action == True:\n",
    "                num_drugs += 1\n",
    "                unique_drug.add(ID)\n",
    "\n",
    "! cp 'output/compound2protein/edges_compoundsometargetsdetailed_drugbank.csv' 'output/edges/edges_compoundsometargetsdetailed_drugbank.csv'\n",
    "! cp 'output/compound2protein/edges_compoundsometargetsdetailed_mesh.csv' 'output/edges/edges_compoundsometargetsdetailed_mesh.csv'\n",
    "! cp 'output/compound2protein/edges_compoundprotein_drugbank.csv' 'output/edges/edges_compoundprotein_drugbank.csv'\n",
    "! cp 'output/compound2protein/edges_compoundprotein_mesh.csv' 'output/edges/edges_compoundprotein_mesh.csv'\n",
    "                \n",
    "print('Drug with Target:', drugwithtarget)\n",
    "print('Total Drug-action-Target Relationships:',num_actions, num_prots, num_drugs)\n",
    "print('Unique Actions:',len(uniq_acts), 'Unique Proteins:',len(uniq_prot), 'Unique Drugs:',len(unique_drug))\n",
    "print('Actions:')\n",
    "uniq_acts"
   ]
  },
  {
   "cell_type": "markdown",
   "metadata": {},
   "source": [
    "#### Get Proteins in Drug-Protein Relationships"
   ]
  },
  {
   "cell_type": "code",
   "execution_count": 1,
   "metadata": {},
   "outputs": [],
   "source": [
    "d = {'inhibitor': 2422,\n",
    " 'binder': 377,\n",
    " 'agonist': 1240,\n",
    " 'antibody': 82,\n",
    " 'ligand': 335,\n",
    " 'activator': 176,\n",
    " 'inducer': 118,\n",
    " 'modulator': 74,\n",
    " 'substrate': 84,\n",
    " 'cofactor': 193,\n",
    " 'antagonist': 1693,\n",
    " 'chaperone': 17,\n",
    " 'product of': 41,\n",
    " 'downregulator': 16,\n",
    " 'other/unknown': 63,\n",
    " 'stimulator': 21,\n",
    " 'negative modulator': 33,\n",
    " 'positive allosteric modulator': 69,\n",
    " 'inverse agonist': 27,\n",
    " 'other': 31,\n",
    " 'partial agonist': 94,\n",
    " 'potentiator': 146,\n",
    " 'unknown': 18,\n",
    " 'blocker': 35,\n",
    " 'inhibitory allosteric modulator': 2,\n",
    " 'allosteric modulator': 11,\n",
    " 'multitarget': 7,\n",
    " 'stabilization': 9,\n",
    " 'partial antagonist': 1,\n",
    " 'suppressor': 3,\n",
    " 'binding': 9,\n",
    " 'degradation': 1,\n",
    " 'incorporation into and destabilization': 1,\n",
    " 'weak inhibitor': 1,\n",
    " 'neutralizer': 3,\n",
    " 'cleavage': 5,\n",
    " 'oxidizer': 3,\n",
    " 'inactivator': 6,\n",
    " 'nucleotide exchange blocker': 1,\n",
    " 'regulator': 14,\n",
    " 'inhibition of synthesis': 1,\n",
    " 'antisense oligonucleotide': 4,\n",
    " 'translocation inhibitor': 1,\n",
    " 'gene replacement': 1,\n",
    " 'inhibits downstream inflammation cascades': 1,\n",
    " 'chelator': 4,\n",
    " 'component of': 4}"
   ]
  },
  {
   "cell_type": "code",
   "execution_count": 5,
   "metadata": {},
   "outputs": [
    {
     "data": {
      "text/plain": [
       "(array([42.,  2.,  0.,  0.,  0.,  1.,  1.,  0.,  0.,  1.]),\n",
       " array([1.0000e+00, 2.4310e+02, 4.8520e+02, 7.2730e+02, 9.6940e+02,\n",
       "        1.2115e+03, 1.4536e+03, 1.6957e+03, 1.9378e+03, 2.1799e+03,\n",
       "        2.4220e+03]),\n",
       " <BarContainer object of 10 artists>)"
      ]
     },
     "execution_count": 5,
     "metadata": {},
     "output_type": "execute_result"
    },
    {
     "data": {
      "image/png": "[encoded data removed]",
      "text/plain": [
       "<Figure size 432x288 with 1 Axes>"
      ]
     },
     "metadata": {
      "needs_background": "light"
     },
     "output_type": "display_data"
    }
   ],
   "source": [
    "import matplotlib.pyplot as plt\n",
    "plt.hist([i[1] for i in sorted(d.items(), key = lambda x:x[1], reverse=True)])"
   ]
  },
  {
   "cell_type": "code",
   "execution_count": 3,
   "metadata": {},
   "outputs": [
    {
     "data": {
      "text/plain": [
       "[('inhibitor', 2422),\n",
       " ('antagonist', 1693),\n",
       " ('agonist', 1240),\n",
       " ('binder', 377),\n",
       " ('ligand', 335),\n",
       " ('cofactor', 193),\n",
       " ('activator', 176),\n",
       " ('potentiator', 146),\n",
       " ('inducer', 118),\n",
       " ('partial agonist', 94),\n",
       " ('substrate', 84),\n",
       " ('antibody', 82),\n",
       " ('modulator', 74),\n",
       " ('positive allosteric modulator', 69),\n",
       " ('other/unknown', 63),\n",
       " ('product of', 41),\n",
       " ('blocker', 35),\n",
       " ('negative modulator', 33),\n",
       " ('other', 31),\n",
       " ('inverse agonist', 27),\n",
       " ('stimulator', 21),\n",
       " ('unknown', 18),\n",
       " ('chaperone', 17),\n",
       " ('downregulator', 16),\n",
       " ('regulator', 14),\n",
       " ('allosteric modulator', 11),\n",
       " ('stabilization', 9),\n",
       " ('binding', 9),\n",
       " ('multitarget', 7),\n",
       " ('inactivator', 6),\n",
       " ('cleavage', 5),\n",
       " ('antisense oligonucleotide', 4),\n",
       " ('chelator', 4),\n",
       " ('component of', 4),\n",
       " ('suppressor', 3),\n",
       " ('neutralizer', 3),\n",
       " ('oxidizer', 3),\n",
       " ('inhibitory allosteric modulator', 2),\n",
       " ('partial antagonist', 1),\n",
       " ('degradation', 1),\n",
       " ('incorporation into and destabilization', 1),\n",
       " ('weak inhibitor', 1),\n",
       " ('nucleotide exchange blocker', 1),\n",
       " ('inhibition of synthesis', 1),\n",
       " ('translocation inhibitor', 1),\n",
       " ('gene replacement', 1),\n",
       " ('inhibits downstream inflammation cascades', 1)]"
      ]
     },
     "execution_count": 3,
     "metadata": {},
     "output_type": "execute_result"
    }
   ],
   "source": [
    "sorted(d.items(), key = lambda x:x[1], reverse=True)"
   ]
  },
  {
   "cell_type": "code",
   "execution_count": 44,
   "metadata": {},
   "outputs": [],
   "source": [
    "d_proteins = set()\n",
    "\n",
    "for count, ele in enumerate(root):\n",
    "    for relation in ['carriers', 'targets', 'transporters' , 'enzymes']:\n",
    "        \n",
    "        prots = ParseXML.getEntities(ele, relation)\n",
    "        for prot in prots:\n",
    "            upid = prot['uniprot_id']\n",
    "            if(upid != 'Null'):\n",
    "                d_proteins.add(upid)"
   ]
  },
  {
   "cell_type": "markdown",
   "metadata": {},
   "source": [
    "### Export Drugs, Drug-Protein"
   ]
  },
  {
   "cell_type": "code",
   "execution_count": null,
   "metadata": {},
   "outputs": [],
   "source": [
    "drugbankIDs = list(compoundprotein_df['ID'])\n",
    "compoundprotein_df['ID'].to_csv('output/compound2compound/drugbankIDs')\n",
    "\n",
    "# Export Drug-Protein\n",
    "json.dump(drug_targets_prot, open(\"output/compound2protein/compound_targets_prot.json\",\"w\"))\n",
    "json.dump(drug_carry_prot, open(\"output/compound2protein/compound_carry_prot.json\",\"w\"))\n",
    "json.dump(drug_transport_prot,open(\"output/compound2protein/compound_transport_prot.json\",\"w\"))\n",
    "json.dump(drug_enzyme_prot,open(\"output/compound2protein/compound_enzyme_prot.json\",\"w\"))\n",
    "json.dump(list(d_proteins),open(\"output/compound2protein/drugs_proteins.json\",\"w\"))\n"
   ]
  },
  {
   "cell_type": "markdown",
   "metadata": {},
   "source": [
    "## Resume Drug-Target"
   ]
  },
  {
   "cell_type": "markdown",
   "metadata": {},
   "source": [
    "## TTD: Drug-Target\n",
    "Therapeutic Targets Database"
   ]
  },
  {
   "cell_type": "code",
   "execution_count": 3,
   "metadata": {
    "scrolled": true
   },
   "outputs": [],
   "source": [
    "# TTD Drug -is- DrugBank Drug\n",
    "ttd2db = json.load(open('output/compound2compound/ttd2db.json'))"
   ]
  },
  {
   "cell_type": "markdown",
   "metadata": {},
   "source": [
    "### TTD Drug -targets-> UniProt Protein"
   ]
  },
  {
   "cell_type": "markdown",
   "metadata": {},
   "source": [
    "#### TTD Drug-[targets]-> TTD Protein \n"
   ]
  },
  {
   "cell_type": "code",
   "execution_count": 4,
   "metadata": {
    "scrolled": true
   },
   "outputs": [
    {
     "name": "stdout",
     "output_type": "stream",
     "text": [
      "--2023-06-06 21:09:59--  http://db.idrblab.net/ttd/sites/default/files/ttd_database/P1-07-Drug-TargetMapping.xlsx\n",
      "Resolving db.idrblab.net (db.idrblab.net)... 47.88.56.212\n",
      "Connecting to db.idrblab.net (db.idrblab.net)|47.88.56.212|:80... connected.\n",
      "HTTP request sent, awaiting response... 302 Found\n",
      "Location: https://db.idrblab.net/ttd/sites/default/files/ttd_database/P1-07-Drug-TargetMapping.xlsx [following]\n",
      "--2023-06-06 21:10:00--  https://db.idrblab.net/ttd/sites/default/files/ttd_database/P1-07-Drug-TargetMapping.xlsx\n",
      "Connecting to db.idrblab.net (db.idrblab.net)|47.88.56.212|:443... connected.\n",
      "HTTP request sent, awaiting response... 200 OK\n",
      "Length: 1171234 (1.1M)\n",
      "Saving to: ‘input/P1-07-Drug-TargetMapping.xlsx’\n",
      "\n",
      "P1-07-Drug-TargetMa 100%[===================>]   1.12M  5.84MB/s    in 0.2s    \n",
      "\n",
      "2023-06-06 21:10:00 (5.84 MB/s) - ‘input/P1-07-Drug-TargetMapping.xlsx’ saved [1171234/1171234]\n",
      "\n"
     ]
    },
    {
     "data": {
      "text/plain": [
       "Investigative                      24859\n",
       "Patented                            6017\n",
       "Phase 2                             2624\n",
       "Approved                            2617\n",
       "Phase 1                             2497\n",
       "Terminated                          1449\n",
       "Phase 3                             1088\n",
       "Discontinued in Phase 2              922\n",
       "Phase 1/2                            734\n",
       "Discontinued in Phase 1              576\n",
       "Preclinical                          520\n",
       "Discontinued in Phase 3              218\n",
       "Phase 2/3                            128\n",
       "Clinical trial                        70\n",
       "Withdrawn from market                 56\n",
       "Phase 4                               54\n",
       "Phase 3 Trial                         48\n",
       "Discontinued in Phase 1/2             33\n",
       "Phase 2 Trial                         27\n",
       "Discontinued in Preregistration       26\n",
       "Preregistration                       12\n",
       "Phase 2/3 Trial                       12\n",
       "Phase 2a                              11\n",
       "Phase 1 Trial                          9\n",
       "Registered                             6\n",
       "approved                               6\n",
       "Phase 0                                6\n",
       "Phase 1b                               5\n",
       "Phase 2b                               5\n",
       "Approved (orphan drug)                 5\n",
       "Phase 1/2 Trial                        3\n",
       "Phase 1/2a                             3\n",
       "NDA filed                              3\n",
       "Discontinued in Phase 2/3              3\n",
       "Discontinue in Phase 1 Trial           2\n",
       "Discontinued in Phase 4                2\n",
       "Phase 1b/2a                            2\n",
       "Application submitted                  1\n",
       "Discontinued in Phase 2a               1\n",
       "Discontinued in Phase 2b               1\n",
       "BLA submitted                          1\n",
       "Approval submitted                     1\n",
       "Name: Highest_status, dtype: int64"
      ]
     },
     "execution_count": 4,
     "metadata": {},
     "output_type": "execute_result"
    }
   ],
   "source": [
    "! wget -N -P input/ http://db.idrblab.net/ttd/sites/default/files/ttd_database/P1-07-Drug-TargetMapping.xlsx\n",
    "target2compound_df = pd.read_excel('input/P1-07-Drug-TargetMapping.xlsx')\n",
    "target2compound_df['Highest_status'].value_counts()"
   ]
  },
  {
   "cell_type": "code",
   "execution_count": 6,
   "metadata": {},
   "outputs": [
    {
     "data": {
      "text/html": [
       "<div>\n",
       "<style scoped>\n",
       "    .dataframe tbody tr th:only-of-type {\n",
       "        vertical-align: middle;\n",
       "    }\n",
       "\n",
       "    .dataframe tbody tr th {\n",
       "        vertical-align: top;\n",
       "    }\n",
       "\n",
       "    .dataframe thead th {\n",
       "        text-align: right;\n",
       "    }\n",
       "</style>\n",
       "<table border=\"1\" class=\"dataframe\">\n",
       "  <thead>\n",
       "    <tr style=\"text-align: right;\">\n",
       "      <th></th>\n",
       "      <th>TargetID</th>\n",
       "      <th>DrugID</th>\n",
       "      <th>Highest_status</th>\n",
       "      <th>MOA</th>\n",
       "    </tr>\n",
       "  </thead>\n",
       "  <tbody>\n",
       "    <tr>\n",
       "      <th>0</th>\n",
       "      <td>T71390</td>\n",
       "      <td>D07OAC</td>\n",
       "      <td>Investigative</td>\n",
       "      <td>Inhibitor</td>\n",
       "    </tr>\n",
       "    <tr>\n",
       "      <th>1</th>\n",
       "      <td>T70309</td>\n",
       "      <td>D07OAC</td>\n",
       "      <td>Investigative</td>\n",
       "      <td>Inhibitor</td>\n",
       "    </tr>\n",
       "    <tr>\n",
       "      <th>2</th>\n",
       "      <td>T97071</td>\n",
       "      <td>D0Y6UB</td>\n",
       "      <td>Investigative</td>\n",
       "      <td>Inhibitor</td>\n",
       "    </tr>\n",
       "    <tr>\n",
       "      <th>3</th>\n",
       "      <td>T86679</td>\n",
       "      <td>D0J2UW</td>\n",
       "      <td>Investigative</td>\n",
       "      <td>Agonist</td>\n",
       "    </tr>\n",
       "    <tr>\n",
       "      <th>4</th>\n",
       "      <td>T19229</td>\n",
       "      <td>D0UZ9U</td>\n",
       "      <td>Investigative</td>\n",
       "      <td>Modulator</td>\n",
       "    </tr>\n",
       "    <tr>\n",
       "      <th>...</th>\n",
       "      <td>...</td>\n",
       "      <td>...</td>\n",
       "      <td>...</td>\n",
       "      <td>...</td>\n",
       "    </tr>\n",
       "    <tr>\n",
       "      <th>44658</th>\n",
       "      <td>T31543</td>\n",
       "      <td>D0U4EO</td>\n",
       "      <td>Patented</td>\n",
       "      <td>Inhibitor</td>\n",
       "    </tr>\n",
       "    <tr>\n",
       "      <th>44659</th>\n",
       "      <td>T12797</td>\n",
       "      <td>D03TTE</td>\n",
       "      <td>Patented</td>\n",
       "      <td>Inhibitor</td>\n",
       "    </tr>\n",
       "    <tr>\n",
       "      <th>44660</th>\n",
       "      <td>T12797</td>\n",
       "      <td>D0B1UL</td>\n",
       "      <td>Patented</td>\n",
       "      <td>Inhibitor</td>\n",
       "    </tr>\n",
       "    <tr>\n",
       "      <th>44661</th>\n",
       "      <td>T21357</td>\n",
       "      <td>D0X5XB</td>\n",
       "      <td>Patented</td>\n",
       "      <td>Inhibitor</td>\n",
       "    </tr>\n",
       "    <tr>\n",
       "      <th>44662</th>\n",
       "      <td>T12797</td>\n",
       "      <td>D0CR9A</td>\n",
       "      <td>Patented</td>\n",
       "      <td>Inhibitor</td>\n",
       "    </tr>\n",
       "  </tbody>\n",
       "</table>\n",
       "<p>44663 rows × 4 columns</p>\n",
       "</div>"
      ],
      "text/plain": [
       "      TargetID  DrugID Highest_status        MOA\n",
       "0       T71390  D07OAC  Investigative  Inhibitor\n",
       "1       T70309  D07OAC  Investigative  Inhibitor\n",
       "2       T97071  D0Y6UB  Investigative  Inhibitor\n",
       "3       T86679  D0J2UW  Investigative    Agonist\n",
       "4       T19229  D0UZ9U  Investigative  Modulator\n",
       "...        ...     ...            ...        ...\n",
       "44658   T31543  D0U4EO       Patented  Inhibitor\n",
       "44659   T12797  D03TTE       Patented  Inhibitor\n",
       "44660   T12797  D0B1UL       Patented  Inhibitor\n",
       "44661   T21357  D0X5XB       Patented  Inhibitor\n",
       "44662   T12797  D0CR9A       Patented  Inhibitor\n",
       "\n",
       "[44663 rows x 4 columns]"
      ]
     },
     "execution_count": 6,
     "metadata": {},
     "output_type": "execute_result"
    }
   ],
   "source": [
    "target2compound_df"
   ]
  },
  {
   "cell_type": "code",
   "execution_count": 7,
   "metadata": {},
   "outputs": [
    {
     "data": {
      "text/plain": [
       "451"
      ]
     },
     "execution_count": 7,
     "metadata": {},
     "output_type": "execute_result"
    }
   ],
   "source": [
    "''' TTD Drug-targets-> TTD Protein '''\n",
    "ttd2ttdtarget, ttd2ttdtarget_allstatuses = dict(), dict()\n",
    "all_ttdtargets = set()\n",
    "for i in range(0,len(target2compound_df)):\n",
    "    \n",
    "    # TTD Drug\n",
    "    drug = target2compound_df['DrugID'][i]\n",
    "    if drug in ttd2db:\n",
    "        \n",
    "        # Protein target\n",
    "        ttd_target = target2compound_df['TargetID'][i]\n",
    "        \n",
    "        # Approval status (e.g., Approved, Patented)\n",
    "        status = target2compound_df['Highest_status'][i]\n",
    "        \n",
    "        # Save drug->target mapping\n",
    "        ttd2ttdtarget_allstatuses.setdefault(drug,[]).append(ttd_target)\n",
    "        all_ttdtargets.add(ttd_target)\n",
    "        if status == 'Patented' or status == 'Approved' or status == 'Phase 3':\n",
    "            ttd2ttdtarget.setdefault(drug,[]).append(ttd_target)\n",
    "        \n",
    "len(all_ttdtargets)"
   ]
  },
  {
   "cell_type": "markdown",
   "metadata": {},
   "source": [
    "### TTD Target ID -[is]->  UniProt ID"
   ]
  },
  {
   "cell_type": "markdown",
   "metadata": {},
   "source": [
    "#### TTD Target ID-[is]-UniProt Name"
   ]
  },
  {
   "cell_type": "code",
   "execution_count": 24,
   "metadata": {},
   "outputs": [],
   "source": [
    "! wget -N -P input/ http://db.idrblab.net/ttd/sites/default/files/ttd_database/P1-01-TTD_target_download.txt\n",
    "\n",
    "''' Align UniProt name to TTD Target ID '''\n",
    "info = []\n",
    "up_name2ttdtarg, ttdtarg2up_name = dict(), dict()\n",
    "with open('input/P1-01-TTD_target_download.txt','r') as fin:\n",
    "    for i, line in enumerate(fin):\n",
    "        # Start when table starts\n",
    "        if i < 41:\n",
    "            continue\n",
    "            \n",
    "        ### TTD ID -is- UniProt Name\n",
    "        if ((line == '\\n' or line.startswith('\\t') or line == '') and info != []):\n",
    "            ttdid, uniprot = getTTD_to_UniProtname(info)\n",
    "            uniprots = uniprot.split(';')\n",
    "            for uniprot in uniprots:\n",
    "                #if '_HUMAN' in uniprot:\n",
    "                up_name2ttdtarg.setdefault(uniprot, set()).add(ttdid)\n",
    "                ttdtarg2up_name.setdefault(ttdid,set()).add(uniprot)\n",
    "                \n",
    "            info = []\n",
    "            continue\n",
    "        info.append(line.strip().split('\\t'))\n",
    "\n",
    "# Export (checkpoint)\n",
    "json.dump(switch_dictset_to_dictlist(up_name2ttdtarg), open('output/protein2protein/up_name2ttdtarg.json','w'))\n",
    "json.dump(switch_dictset_to_dictlist(ttdtarg2up_name), open('output/protein2protein/ttdtarg2up_name.json','w'))"
   ]
  },
  {
   "cell_type": "markdown",
   "metadata": {},
   "source": [
    "#### UniProt Name-[is]-UniProt ID"
   ]
  },
  {
   "cell_type": "code",
   "execution_count": 50,
   "metadata": {},
   "outputs": [
    {
     "data": {
      "text/plain": [
       "2530"
      ]
     },
     "execution_count": 50,
     "metadata": {},
     "output_type": "execute_result"
    }
   ],
   "source": [
    "up_name2ttdtarg = json.load(open('output/protein2protein/up_name2ttdtarg.json'))\n",
    "up_name2ttdtarg.pop('')\n",
    "len(up_name2ttdtarg)"
   ]
  },
  {
   "cell_type": "code",
   "execution_count": 56,
   "metadata": {},
   "outputs": [],
   "source": [
    "protein_names = [name.split('_HUMAN')[0].strip().split(' ')[0] for name in list(up_name2ttdtarg.keys()) if '_HUMAN' in name]\n",
    "with open('submit_this_to_uniprot.txt','w') as fout:\n",
    "    for protein_name in protein_names:\n",
    "        fout.write(protein_name+', ')"
   ]
  },
  {
   "cell_type": "code",
   "execution_count": 68,
   "metadata": {
    "scrolled": true
   },
   "outputs": [
    {
     "name": "stdout",
     "output_type": "stream",
     "text": [
      "2715 failed alignments\n",
      "1361 successful alignments\n",
      "\n",
      "Unaligned IDs 905\n",
      "Aligned Human IDs 1142\n"
     ]
    }
   ],
   "source": [
    "''' Proteins to map to ID '''\n",
    "up_name2ttdtarg = json.load(open('output/protein2protein/up_name2ttdtarg.json'))\n",
    "protein_names = [name.split('_HUMAN')[0].strip().split(' ')[0] for name in list(up_name2ttdtarg.keys()) if '_HUMAN' in name]\n",
    "\n",
    "\n",
    "''' Submit API mapping request'''\n",
    "#job_id = submit_id_mapping_UniProtAPI(\n",
    "#                  from_db = 'Gene_Name',\n",
    "#                  to_db = 'UniProtKB-Swiss-Prot', \n",
    "#                  ids = protein_names)\n",
    "\n",
    "job_id = 'c132df712c15699ae8f0575600e2bab1ae9183e3'\n",
    "\n",
    "\n",
    "''' Get API call's results'''\n",
    "if check_id_mapping_results_ready_UniProtAPI(job_id):\n",
    "    link = get_id_mapping_results_link_UniProtAPI(job_id)\n",
    "    results = get_id_mapping_results_search_UniProtAPI(link)\n",
    "    \n",
    "    \n",
    "''' Print summary '''\n",
    "try: print(len(results['failedIds']), 'failed alignments')\n",
    "except: results['failedIds'] = []\n",
    "try: print(len(results['results']), 'successful alignments')\n",
    "except: print()\n",
    "print('\\nUnaligned IDs', len(set(results['failedIds'])))\n",
    "print('Aligned Human IDs', len(name2up_id))    \n",
    "    \n",
    "    \n",
    "''' Store mapping results '''\n",
    "name2up_id = get_to_uniprotid_from_genename_mapping_dict_UniProtAPI(results, [9606])\n",
    "name2up_id = switch_dictset_to_dictlist(name2up_id)\n",
    "json.dump(name2up_id, open('output/protein2protein/uniprotname2uniprotid_from_ttd.json','w'))\n",
    "\n",
    "\n",
    "# Checks for an unexpected error in submitted names\n",
    "ID_not_in_submitted_IDs = set()\n",
    "for ID in results['failedIds']:\n",
    "    if ID not in protein_names:\n",
    "        ID_not_in_submitted_IDs.add(ID)\n",
    "if len(ID_not_in_submitted_IDs) > 0:\n",
    "    print('These IDs were not submitted but were failedIds')\n",
    "    print('There is probably a bad name submitted, e.g., ALT (123) instead of ALT')\n",
    "    display(ID_not_in_submitted_IDs)"
   ]
  },
  {
   "cell_type": "code",
   "execution_count": null,
   "metadata": {},
   "outputs": [],
   "source": [
    "20944 failed alignments\n",
    "13912 successful alignments\n",
    "\n",
    "Unaligned IDs 748\n",
    "Aligned Human IDs 1303"
   ]
  },
  {
   "cell_type": "code",
   "execution_count": 64,
   "metadata": {},
   "outputs": [
    {
     "name": "stdout",
     "output_type": "stream",
     "text": [
      "1142 1303\n"
     ]
    }
   ],
   "source": [
    "name2up_id_new = json.load(open('output/protein2protein/uniprotname2uniprotid_from_ttd.json'))\n",
    "name2up_id_prev = json.load(open('output/protein2protein/uniprotname2uniprotid.json'))\n",
    "print(len(name2up_id_new ), len(name2up_id_prev))"
   ]
  },
  {
   "cell_type": "code",
   "execution_count": 4,
   "metadata": {},
   "outputs": [],
   "source": [
    "# This was from the previous UniProt API\n",
    "upname2up_id_old = json.load(open('output/protein2protein/uniprotName2uniprotID.json'))\n",
    "name2up_id = json.load(open('output/protein2protein/uniprotname2uniprotid_from_ttd.json'))\n",
    "\n",
    "old_name2up_id = dict()\n",
    "for k,v in upname2up_id_old.copy().items():\n",
    "    key = k.split('_HUMAN')[0]\n",
    "    if '_' not in key:\n",
    "        old_name2up_id.setdefault(key, set()).add(v)\n",
    "\n",
    "merged_name2up_id = merge_two_dictionaries_setvalues(old_name2up_id, name2up_id)"
   ]
  },
  {
   "cell_type": "markdown",
   "metadata": {},
   "source": [
    "#### TTD Target ID -[is]- UniProt ID"
   ]
  },
  {
   "cell_type": "code",
   "execution_count": 5,
   "metadata": {},
   "outputs": [
    {
     "ename": "NameError",
     "evalue": "name 'up_name2ttdtarg' is not defined",
     "output_type": "error",
     "traceback": [
      "\u001b[0;31m---------------------------------------------------------------------------\u001b[0m",
      "\u001b[0;31mNameError\u001b[0m                                 Traceback (most recent call last)",
      "\u001b[0;32m/tmp/ipykernel_347/1184006066.py\u001b[0m in \u001b[0;36m<module>\u001b[0;34m\u001b[0m\n\u001b[1;32m      1\u001b[0m \u001b[0mttdtarg2up_id\u001b[0m \u001b[0;34m=\u001b[0m \u001b[0mdict\u001b[0m\u001b[0;34m(\u001b[0m\u001b[0;34m)\u001b[0m\u001b[0;34m\u001b[0m\u001b[0;34m\u001b[0m\u001b[0m\n\u001b[1;32m      2\u001b[0m \u001b[0;34m\u001b[0m\u001b[0m\n\u001b[0;32m----> 3\u001b[0;31m \u001b[0;32mfor\u001b[0m \u001b[0mup_name\u001b[0m\u001b[0;34m,\u001b[0m \u001b[0mttdtargs\u001b[0m \u001b[0;32min\u001b[0m \u001b[0mup_name2ttdtarg\u001b[0m\u001b[0;34m.\u001b[0m\u001b[0mitems\u001b[0m\u001b[0;34m(\u001b[0m\u001b[0;34m)\u001b[0m\u001b[0;34m:\u001b[0m\u001b[0;34m\u001b[0m\u001b[0;34m\u001b[0m\u001b[0m\n\u001b[0m\u001b[1;32m      4\u001b[0m     \u001b[0;32mfor\u001b[0m \u001b[0mttdtarg\u001b[0m \u001b[0;32min\u001b[0m \u001b[0mttdtargs\u001b[0m\u001b[0;34m:\u001b[0m\u001b[0;34m\u001b[0m\u001b[0;34m\u001b[0m\u001b[0m\n\u001b[1;32m      5\u001b[0m         \u001b[0;32mtry\u001b[0m\u001b[0;34m:\u001b[0m\u001b[0;34m\u001b[0m\u001b[0;34m\u001b[0m\u001b[0m\n",
      "\u001b[0;31mNameError\u001b[0m: name 'up_name2ttdtarg' is not defined"
     ]
    }
   ],
   "source": [
    "ttdtarg2up_id = dict()\n",
    "\n",
    "for up_name, ttdtargs in up_name2ttdtarg.items():\n",
    "    for ttdtarg in ttdtargs:\n",
    "        try:\n",
    "            up_name = up_name.split('_HUMAN')[0]\n",
    "            up_ids = merged_name2up_id[up_name]\n",
    "            for up_id in up_ids:\n",
    "                ttdtarg2up_id.setdefault(ttdtarg,set()).add(up_id)\n",
    "        except:\n",
    "            continue\n",
    "            \n",
    "# Switch set to list\n",
    "ttdtarg2up_id = switch_dictset_to_dictlist(ttdtarg2up_id)"
   ]
  },
  {
   "cell_type": "markdown",
   "metadata": {},
   "source": [
    "### DrugBank-[targets]-UniProt ID"
   ]
  },
  {
   "cell_type": "code",
   "execution_count": 29,
   "metadata": {},
   "outputs": [],
   "source": [
    "db2up = dict()\n",
    "for ttddrug, ttdtargets in ttd2ttdtarget.items():\n",
    "    \n",
    "    # DrugBank Drugs -are- TTD Drug\n",
    "    dbs = ttd2db[ttddrug]\n",
    "    for ttdtarg in ttdtargets:\n",
    "        try:\n",
    "            # UniProt Proteins -are- TTD Target\n",
    "            ups = ttdtarg2up_id[ttdtarg]\n",
    "            \n",
    "            # DrugBank Drug -targets- UniProt Protein\n",
    "            for db in dbs:\n",
    "                for up in ups:\n",
    "                    db2up.setdefault(db,set()).add(up)\n",
    "        except:\n",
    "            continue"
   ]
  },
  {
   "cell_type": "code",
   "execution_count": 30,
   "metadata": {},
   "outputs": [],
   "source": [
    "alignable_ttd_rows = list()\n",
    "\n",
    "for i in range(0,len(target2compound_df['DrugID'])):\n",
    "    TTD_drug = target2compound_df['DrugID'].iloc[i]\n",
    "    TTD_targ = target2compound_df['TargetID'].iloc[i]\n",
    "    \n",
    "    try:\n",
    "        dbs = ttd2db[TTD_drug]\n",
    "        for db in dbs:\n",
    "            if db in db2up:\n",
    "\n",
    "                ups = ttdtarg2up_id[TTD_targ]\n",
    "                for up in ups:\n",
    "                    if up in db2up[db]:\n",
    "                        alignable_ttd_rows.append(i)\n",
    "    except:\n",
    "        continue"
   ]
  },
  {
   "cell_type": "code",
   "execution_count": 37,
   "metadata": {},
   "outputs": [
    {
     "data": {
      "text/plain": [
       "Inhibitor     256\n",
       "Antagonist    196\n",
       "Modulator     173\n",
       "Agonist       114\n",
       "Binder         90\n",
       "Blocker        60\n",
       "Activator      21\n",
       ".              16\n",
       "Stimulator      8\n",
       "Breaker         2\n",
       "Cofactor        2\n",
       "Inducer         2\n",
       "Name: MOA, dtype: int64"
      ]
     },
     "metadata": {},
     "output_type": "display_data"
    },
    {
     "data": {
      "text/html": [
       "<div>\n",
       "<style scoped>\n",
       "    .dataframe tbody tr th:only-of-type {\n",
       "        vertical-align: middle;\n",
       "    }\n",
       "\n",
       "    .dataframe tbody tr th {\n",
       "        vertical-align: top;\n",
       "    }\n",
       "\n",
       "    .dataframe thead th {\n",
       "        text-align: right;\n",
       "    }\n",
       "</style>\n",
       "<table border=\"1\" class=\"dataframe\">\n",
       "  <thead>\n",
       "    <tr style=\"text-align: right;\">\n",
       "      <th></th>\n",
       "      <th>TargetID</th>\n",
       "      <th>DrugID</th>\n",
       "      <th>Highest_status</th>\n",
       "      <th>MOA</th>\n",
       "    </tr>\n",
       "  </thead>\n",
       "  <tbody>\n",
       "    <tr>\n",
       "      <th>431</th>\n",
       "      <td>T18477</td>\n",
       "      <td>D06NSS</td>\n",
       "      <td>Approved</td>\n",
       "      <td>Inhibitor</td>\n",
       "    </tr>\n",
       "    <tr>\n",
       "      <th>35827</th>\n",
       "      <td>T05409</td>\n",
       "      <td>D0WF7K</td>\n",
       "      <td>Phase 3</td>\n",
       "      <td>Inhibitor</td>\n",
       "    </tr>\n",
       "    <tr>\n",
       "      <th>35827</th>\n",
       "      <td>T05409</td>\n",
       "      <td>D0WF7K</td>\n",
       "      <td>Phase 3</td>\n",
       "      <td>Inhibitor</td>\n",
       "    </tr>\n",
       "    <tr>\n",
       "      <th>35852</th>\n",
       "      <td>T26623</td>\n",
       "      <td>D00EWR</td>\n",
       "      <td>Phase 3</td>\n",
       "      <td>Inhibitor</td>\n",
       "    </tr>\n",
       "    <tr>\n",
       "      <th>35852</th>\n",
       "      <td>T26623</td>\n",
       "      <td>D00EWR</td>\n",
       "      <td>Phase 3</td>\n",
       "      <td>Inhibitor</td>\n",
       "    </tr>\n",
       "    <tr>\n",
       "      <th>...</th>\n",
       "      <td>...</td>\n",
       "      <td>...</td>\n",
       "      <td>...</td>\n",
       "      <td>...</td>\n",
       "    </tr>\n",
       "    <tr>\n",
       "      <th>39120</th>\n",
       "      <td>T11448</td>\n",
       "      <td>D0K0MW</td>\n",
       "      <td>Approved</td>\n",
       "      <td>Agonist</td>\n",
       "    </tr>\n",
       "    <tr>\n",
       "      <th>39198</th>\n",
       "      <td>T71390</td>\n",
       "      <td>D08IWD</td>\n",
       "      <td>Approved</td>\n",
       "      <td>Inhibitor</td>\n",
       "    </tr>\n",
       "    <tr>\n",
       "      <th>39207</th>\n",
       "      <td>T34949</td>\n",
       "      <td>D05CEU</td>\n",
       "      <td>Approved</td>\n",
       "      <td>Inhibitor</td>\n",
       "    </tr>\n",
       "    <tr>\n",
       "      <th>39221</th>\n",
       "      <td>T59328</td>\n",
       "      <td>D0W5HK</td>\n",
       "      <td>Approved</td>\n",
       "      <td>Inhibitor</td>\n",
       "    </tr>\n",
       "    <tr>\n",
       "      <th>39348</th>\n",
       "      <td>T28226</td>\n",
       "      <td>D08NKJ</td>\n",
       "      <td>Phase 3</td>\n",
       "      <td>Inhibitor</td>\n",
       "    </tr>\n",
       "  </tbody>\n",
       "</table>\n",
       "<p>940 rows × 4 columns</p>\n",
       "</div>"
      ],
      "text/plain": [
       "      TargetID  DrugID Highest_status        MOA\n",
       "431     T18477  D06NSS       Approved  Inhibitor\n",
       "35827   T05409  D0WF7K        Phase 3  Inhibitor\n",
       "35827   T05409  D0WF7K        Phase 3  Inhibitor\n",
       "35852   T26623  D00EWR        Phase 3  Inhibitor\n",
       "35852   T26623  D00EWR        Phase 3  Inhibitor\n",
       "...        ...     ...            ...        ...\n",
       "39120   T11448  D0K0MW       Approved    Agonist\n",
       "39198   T71390  D08IWD       Approved  Inhibitor\n",
       "39207   T34949  D05CEU       Approved  Inhibitor\n",
       "39221   T59328  D0W5HK       Approved  Inhibitor\n",
       "39348   T28226  D08NKJ        Phase 3  Inhibitor\n",
       "\n",
       "[940 rows x 4 columns]"
      ]
     },
     "execution_count": 37,
     "metadata": {},
     "output_type": "execute_result"
    }
   ],
   "source": [
    "alignable_targ2comp_df = target2compound_df.iloc[alignable_ttd_rows]\n",
    "display(alignable_targ2comp_df['MOA'].value_counts())\n",
    "alignable_targ2comp_df"
   ]
  },
  {
   "cell_type": "code",
   "execution_count": 41,
   "metadata": {},
   "outputs": [],
   "source": [
    "''' Output DrugBank-[moa]->Protein (Source: TTD)'''\n",
    "with open('output/compound2protein/edges_drugbank-moa->protein_ttd.csv','w') as fout:\n",
    "    writer = csv.writer(fout)\n",
    "    writer.writerow(['Compound (DrugBank)','Protein (UniProt)','Relationship'])\n",
    "    \n",
    "    for i in range(0, len(alignable_targ2comp_df)):\n",
    "        dbs = ttd2db[alignable_targ2comp_df['DrugID'].iloc[i]]\n",
    "        ups = ttdtarg2up_id[alignable_targ2comp_df['TargetID'].iloc[i]]\n",
    "        moa = alignable_targ2comp_df['MOA'].iloc[i].lower()\n",
    "        if moa == '.':\n",
    "            moa = 'drug_targets_protein'\n",
    "            \n",
    "        # Write edge\n",
    "        for db in dbs:\n",
    "            for up in ups:\n",
    "                writer.writerow(['DrugBank_Compound:'+db, 'UniProt:'+up, '-'+moa+'->'])\n",
    "                \n",
    "! cp 'output/compound2protein/edges_drugbank-moa->protein_ttd.csv' 'output/edges/edges_drugbank-moa->protein_ttd.csv'"
   ]
  },
  {
   "cell_type": "code",
   "execution_count": 42,
   "metadata": {},
   "outputs": [],
   "source": [
    "''' Output MeSH-[moa]->Protein (Source: TTD)'''\n",
    "db2mesh = json.load(open('output/compound2compound/db2mesh.json'))\n",
    "\n",
    "with open('output/compound2protein/edges_MeSH-moa->protein_ttd.csv','w') as fout:\n",
    "    writer = csv.writer(fout)\n",
    "    writer.writerow(['Compound (MeSH)','Protein (UniProt)','Relationship'])\n",
    "    \n",
    "    for i in range(0, len(alignable_targ2comp_df)):\n",
    "        dbs = ttd2db[alignable_targ2comp_df['DrugID'].iloc[i]]\n",
    "        ups = ttdtarg2up_id[alignable_targ2comp_df['TargetID'].iloc[i]]\n",
    "        moa = alignable_targ2comp_df['MOA'].iloc[i].lower()\n",
    "        if moa == '.':\n",
    "            moa = 'drug_targets_protein'\n",
    "            \n",
    "        # Write edge\n",
    "        for db in dbs:\n",
    "            try:\n",
    "                meshes = db2mesh[db]\n",
    "            except:\n",
    "                continue\n",
    "            for mesh in meshes:\n",
    "                for up in ups:\n",
    "                    writer.writerow(['MeSH_Compound:'+mesh, 'UniProt:'+up, '-'+moa+'->'])\n",
    "                    \n",
    "!cp 'output/compound2protein/edges_MeSH-moa->protein.csv' 'output/edges/edges_MeSH-moa->protein.csv'"
   ]
  },
  {
   "cell_type": "code",
   "execution_count": 7,
   "metadata": {},
   "outputs": [],
   "source": [
    "import pandas as pd"
   ]
  },
  {
   "cell_type": "code",
   "execution_count": 8,
   "metadata": {
    "scrolled": true
   },
   "outputs": [
    {
     "name": "stdout",
     "output_type": "stream",
     "text": [
      "14664 rows from DrugBank\n",
      "1042 rows from TTD\n",
      "15586 combined rows\n"
     ]
    },
    {
     "data": {
      "text/html": [
       "<div>\n",
       "<style scoped>\n",
       "    .dataframe tbody tr th:only-of-type {\n",
       "        vertical-align: middle;\n",
       "    }\n",
       "\n",
       "    .dataframe tbody tr th {\n",
       "        vertical-align: top;\n",
       "    }\n",
       "\n",
       "    .dataframe thead th {\n",
       "        text-align: right;\n",
       "    }\n",
       "</style>\n",
       "<table border=\"1\" class=\"dataframe\">\n",
       "  <thead>\n",
       "    <tr style=\"text-align: right;\">\n",
       "      <th></th>\n",
       "      <th>Compound (DrugBank)</th>\n",
       "      <th>Protein (UniProt)</th>\n",
       "      <th>Relationship</th>\n",
       "    </tr>\n",
       "  </thead>\n",
       "  <tbody>\n",
       "    <tr>\n",
       "      <th>0</th>\n",
       "      <td>DrugBank_Compound:DB00001</td>\n",
       "      <td>UniProt:P00734</td>\n",
       "      <td>-inhibitor-&gt;</td>\n",
       "    </tr>\n",
       "    <tr>\n",
       "      <th>1</th>\n",
       "      <td>DrugBank_Compound:DB00002</td>\n",
       "      <td>UniProt:P00533</td>\n",
       "      <td>-binder-&gt;</td>\n",
       "    </tr>\n",
       "    <tr>\n",
       "      <th>2</th>\n",
       "      <td>DrugBank_Compound:DB00002</td>\n",
       "      <td>UniProt:O75015</td>\n",
       "      <td>-binder-&gt;</td>\n",
       "    </tr>\n",
       "    <tr>\n",
       "      <th>3</th>\n",
       "      <td>DrugBank_Compound:DB00002</td>\n",
       "      <td>UniProt:P02745</td>\n",
       "      <td>-binder-&gt;</td>\n",
       "    </tr>\n",
       "    <tr>\n",
       "      <th>4</th>\n",
       "      <td>DrugBank_Compound:DB00002</td>\n",
       "      <td>UniProt:P02746</td>\n",
       "      <td>-binder-&gt;</td>\n",
       "    </tr>\n",
       "    <tr>\n",
       "      <th>...</th>\n",
       "      <td>...</td>\n",
       "      <td>...</td>\n",
       "      <td>...</td>\n",
       "    </tr>\n",
       "    <tr>\n",
       "      <th>1037</th>\n",
       "      <td>DrugBank:DB04948</td>\n",
       "      <td>UniProt:P08913</td>\n",
       "      <td>-agonist-&gt;</td>\n",
       "    </tr>\n",
       "    <tr>\n",
       "      <th>1038</th>\n",
       "      <td>DrugBank:DB01216</td>\n",
       "      <td>UniProt:P31213</td>\n",
       "      <td>-inhibitor-&gt;</td>\n",
       "    </tr>\n",
       "    <tr>\n",
       "      <th>1039</th>\n",
       "      <td>DrugBank:DB04841</td>\n",
       "      <td>UniProt:O00555</td>\n",
       "      <td>-inhibitor-&gt;</td>\n",
       "    </tr>\n",
       "    <tr>\n",
       "      <th>1040</th>\n",
       "      <td>DrugBank:DB00398</td>\n",
       "      <td>UniProt:P00533</td>\n",
       "      <td>-inhibitor-&gt;</td>\n",
       "    </tr>\n",
       "    <tr>\n",
       "      <th>1041</th>\n",
       "      <td>DrugBank:DB02377</td>\n",
       "      <td>UniProt:P30793</td>\n",
       "      <td>-inhibitor-&gt;</td>\n",
       "    </tr>\n",
       "  </tbody>\n",
       "</table>\n",
       "<p>15586 rows × 3 columns</p>\n",
       "</div>"
      ],
      "text/plain": [
       "            Compound (DrugBank) Protein (UniProt)  Relationship\n",
       "0     DrugBank_Compound:DB00001    UniProt:P00734  -inhibitor->\n",
       "1     DrugBank_Compound:DB00002    UniProt:P00533     -binder->\n",
       "2     DrugBank_Compound:DB00002    UniProt:O75015     -binder->\n",
       "3     DrugBank_Compound:DB00002    UniProt:P02745     -binder->\n",
       "4     DrugBank_Compound:DB00002    UniProt:P02746     -binder->\n",
       "...                         ...               ...           ...\n",
       "1037           DrugBank:DB04948    UniProt:P08913    -agonist->\n",
       "1038           DrugBank:DB01216    UniProt:P31213  -inhibitor->\n",
       "1039           DrugBank:DB04841    UniProt:O00555  -inhibitor->\n",
       "1040           DrugBank:DB00398    UniProt:P00533  -inhibitor->\n",
       "1041           DrugBank:DB02377    UniProt:P30793  -inhibitor->\n",
       "\n",
       "[15586 rows x 3 columns]"
      ]
     },
     "execution_count": 8,
     "metadata": {},
     "output_type": "execute_result"
    }
   ],
   "source": [
    "d2p_TTD = pd.read_csv('output/compound2protein/edges_drugbank-moa->protein_ttd.csv')\n",
    "d2p_DB = pd.read_csv('output/compound2protein/edges_compoundsometargetsdetailed_drugbank.csv')\n",
    "d2p = d2p_DB.append(d2p_TTD).drop_duplicates()\n",
    "\n",
    "print(len(d2p_DB), 'rows from DrugBank')\n",
    "print(len(d2p_TTD), 'rows from TTD')\n",
    "print(len(d2p), 'combined rows')\n",
    "\n",
    "d2p"
   ]
  },
  {
   "cell_type": "code",
   "execution_count": 9,
   "metadata": {},
   "outputs": [
    {
     "data": {
      "text/plain": [
       "-drug_targets_protein->                         7179\n",
       "-inhibitor->                                    2674\n",
       "-antagonist->                                   1883\n",
       "-agonist->                                      1350\n",
       "-binder->                                        467\n",
       "-ligand->                                        335\n",
       "-modulator->                                     247\n",
       "-activator->                                     196\n",
       "-cofactor->                                      195\n",
       "-potentiator->                                   146\n",
       "-inducer->                                       120\n",
       "-blocker->                                        95\n",
       "-partial_agonist->                                94\n",
       "-substrate->                                      84\n",
       "-antibody->                                       82\n",
       "-positive_allosteric_modulator->                  69\n",
       "-other/unknown->                                  63\n",
       "-product_of->                                     41\n",
       "-negative_modulator->                             33\n",
       "-other->                                          31\n",
       "-stimulator->                                     29\n",
       "-inverse_agonist->                                27\n",
       "-unknown->                                        18\n",
       "-chaperone->                                      17\n",
       "-downregulator->                                  16\n",
       "-regulator->                                      14\n",
       "-allosteric_modulator->                           11\n",
       "-stabilization->                                   9\n",
       "-binding->                                         9\n",
       "-multitarget->                                     7\n",
       "-inactivator->                                     6\n",
       "-cleavage->                                        5\n",
       "-component_of->                                    4\n",
       "-chelator->                                        4\n",
       "-antisense_oligonucleotide->                       4\n",
       "-oxidizer->                                        3\n",
       "-suppressor->                                      3\n",
       "-neutralizer->                                     3\n",
       "-inhibitory_allosteric_modulator->                 2\n",
       "-breaker->                                         2\n",
       "-weak_inhibitor->                                  1\n",
       "-nucleotide_exchange_blocker->                     1\n",
       "-incorporation_into_and_destabilization->          1\n",
       "-inhibition_of_synthesis->                         1\n",
       "-degradation->                                     1\n",
       "-translocation_inhibitor->                         1\n",
       "-gene_replacement->                                1\n",
       "-inhibits_downstream_inflammation_cascades->       1\n",
       "-partial_antagonist->                              1\n",
       "Name: Relationship, dtype: int64"
      ]
     },
     "execution_count": 9,
     "metadata": {},
     "output_type": "execute_result"
    }
   ],
   "source": [
    "d2p['Relationship'].value_counts()"
   ]
  },
  {
   "cell_type": "code",
   "execution_count": 46,
   "metadata": {},
   "outputs": [],
   "source": [
    "d2p.to_csv('output/compound2protein/edges_drugbank-alltargetmoa->protein.csv', index=False)\n",
    "d2p.to_csv('output/edges/edges_drugbank-alltargetmoa->protein.csv', index=False)"
   ]
  },
  {
   "cell_type": "code",
   "execution_count": 379,
   "metadata": {},
   "outputs": [],
   "source": [
    "good, bad = 0, 0\n",
    "\n",
    "for db in list(d2p['Compound (DrugBank)']):\n",
    "    try:\n",
    "        db2mesh[db]\n",
    "    except:\n",
    "        bad +=1\n",
    "        continue\n",
    "    good += 1"
   ]
  },
  {
   "cell_type": "code",
   "execution_count": 380,
   "metadata": {},
   "outputs": [
    {
     "data": {
      "text/plain": [
       "11847"
      ]
     },
     "execution_count": 380,
     "metadata": {},
     "output_type": "execute_result"
    }
   ],
   "source": [
    "good"
   ]
  },
  {
   "cell_type": "code",
   "execution_count": 381,
   "metadata": {},
   "outputs": [
    {
     "data": {
      "text/plain": [
       "3317"
      ]
     },
     "execution_count": 381,
     "metadata": {},
     "output_type": "execute_result"
    }
   ],
   "source": [
    "bad"
   ]
  },
  {
   "cell_type": "markdown",
   "metadata": {},
   "source": [
    "## Compound-Reactome Pathway\n",
    "- Use Reactome download of Compound -may participate in- Pathway\n",
    "- Use Reactome webpages to say what the compound is (e.g., drug, chemical compound)\n",
    "- Construct Compound-Pathway relationships based on compound type"
   ]
  },
  {
   "cell_type": "code",
   "execution_count": 30,
   "metadata": {},
   "outputs": [
    {
     "name": "stdout",
     "output_type": "stream",
     "text": [
      "--2022-09-09 01:55:11--  https://reactome.org/download/current/ChEBI2Reactome_PE_Pathway.txt\n",
      "Resolving reactome.org (reactome.org)... 100.25.71.177\n",
      "Connecting to reactome.org (reactome.org)|100.25.71.177|:443... connected.\n",
      "HTTP request sent, awaiting response... 304 Not Modified\n",
      "File ‘input/ChEBI2Reactome_PE_Pathway.txt’ not modified on server. Omitting download.\n",
      "\n",
      "16763 rows\n"
     ]
    },
    {
     "data": {
      "text/html": [
       "<div>\n",
       "<style scoped>\n",
       "    .dataframe tbody tr th:only-of-type {\n",
       "        vertical-align: middle;\n",
       "    }\n",
       "\n",
       "    .dataframe tbody tr th {\n",
       "        vertical-align: top;\n",
       "    }\n",
       "\n",
       "    .dataframe thead th {\n",
       "        text-align: right;\n",
       "    }\n",
       "</style>\n",
       "<table border=\"1\" class=\"dataframe\">\n",
       "  <thead>\n",
       "    <tr style=\"text-align: right;\">\n",
       "      <th></th>\n",
       "      <th>ChEBI Compound ID</th>\n",
       "      <th>Reactome Compound ID</th>\n",
       "      <th>Reactome Compound Name</th>\n",
       "      <th>Reactome Pathway</th>\n",
       "      <th>Link</th>\n",
       "      <th>Pathway Name</th>\n",
       "      <th>Evidence</th>\n",
       "      <th>Species</th>\n",
       "    </tr>\n",
       "  </thead>\n",
       "  <tbody>\n",
       "    <tr>\n",
       "      <th>120719</th>\n",
       "      <td>9927</td>\n",
       "      <td>R-ALL-9615299</td>\n",
       "      <td>valsartan [extracellular region]</td>\n",
       "      <td>R-HSA-375276</td>\n",
       "      <td>https://reactome.org/PathwayBrowser/#/R-HSA-37...</td>\n",
       "      <td>Peptide ligand-binding receptors</td>\n",
       "      <td>TAS</td>\n",
       "      <td>Homo sapiens</td>\n",
       "    </tr>\n",
       "    <tr>\n",
       "      <th>120734</th>\n",
       "      <td>9948</td>\n",
       "      <td>R-ALL-9660998</td>\n",
       "      <td>verapamil [cytosol]</td>\n",
       "      <td>R-HSA-211945</td>\n",
       "      <td>https://reactome.org/PathwayBrowser/#/R-HSA-21...</td>\n",
       "      <td>Phase I - Functionalization of compounds</td>\n",
       "      <td>TAS</td>\n",
       "      <td>Homo sapiens</td>\n",
       "    </tr>\n",
       "    <tr>\n",
       "      <th>120735</th>\n",
       "      <td>9948</td>\n",
       "      <td>R-ALL-9614135</td>\n",
       "      <td>verapamil [extracellular region]</td>\n",
       "      <td>R-HSA-5576893</td>\n",
       "      <td>https://reactome.org/PathwayBrowser/#/R-HSA-55...</td>\n",
       "      <td>Phase 2 - plateau phase</td>\n",
       "      <td>TAS</td>\n",
       "      <td>Homo sapiens</td>\n",
       "    </tr>\n",
       "  </tbody>\n",
       "</table>\n",
       "</div>"
      ],
      "text/plain": [
       "        ChEBI Compound ID Reactome Compound ID  \\\n",
       "120719               9927        R-ALL-9615299   \n",
       "120734               9948        R-ALL-9660998   \n",
       "120735               9948        R-ALL-9614135   \n",
       "\n",
       "                  Reactome Compound Name Reactome Pathway  \\\n",
       "120719  valsartan [extracellular region]     R-HSA-375276   \n",
       "120734               verapamil [cytosol]     R-HSA-211945   \n",
       "120735  verapamil [extracellular region]    R-HSA-5576893   \n",
       "\n",
       "                                                     Link  \\\n",
       "120719  https://reactome.org/PathwayBrowser/#/R-HSA-37...   \n",
       "120734  https://reactome.org/PathwayBrowser/#/R-HSA-21...   \n",
       "120735  https://reactome.org/PathwayBrowser/#/R-HSA-55...   \n",
       "\n",
       "                                    Pathway Name Evidence       Species  \n",
       "120719          Peptide ligand-binding receptors      TAS  Homo sapiens  \n",
       "120734  Phase I - Functionalization of compounds      TAS  Homo sapiens  \n",
       "120735                   Phase 2 - plateau phase      TAS  Homo sapiens  "
      ]
     },
     "execution_count": 30,
     "metadata": {},
     "output_type": "execute_result"
    }
   ],
   "source": [
    "!wget -N -P input/ https://reactome.org/download/current/ChEBI2Reactome_PE_Pathway.txt\n",
    "chebi2reactome = pd.read_table('input/ChEBI2Reactome_PE_Pathway.txt', header=None)\n",
    "chebi2reactome.columns=['ChEBI Compound ID','Reactome Compound ID','Reactome Compound Name','Reactome Pathway', 'Link', 'Pathway Name','Evidence','Species']\n",
    "chebi2reactome = chebi2reactome[chebi2reactome['Species']=='Homo sapiens']\n",
    "print(len(chebi2reactome), 'rows')\n",
    "chebi2reactome.tail(3)"
   ]
  },
  {
   "cell_type": "code",
   "execution_count": 5,
   "metadata": {},
   "outputs": [
    {
     "ename": "SyntaxError",
     "evalue": "invalid syntax (3842525456.py, line 6)",
     "output_type": "error",
     "traceback": [
      "\u001b[0;36m  File \u001b[0;32m\"/tmp/ipykernel_32660/3842525456.py\"\u001b[0;36m, line \u001b[0;32m6\u001b[0m\n\u001b[0;31m    dontaccidentally run multiprocess_a_list(reactome_comps, reactome_compound_type_scraper_api)\u001b[0m\n\u001b[0m                     ^\u001b[0m\n\u001b[0;31mSyntaxError\u001b[0m\u001b[0;31m:\u001b[0m invalid syntax\n"
     ]
    }
   ],
   "source": [
    "'''Get Reactome Compound Types'''\n",
    "# Reactome Compound IDs\n",
    "reactome_comps = list(set(chebi2reactome['Reactome Compound ID']))\n",
    "\n",
    "# Use scraper to find Reactome Compounds' types \n",
    "dontaccidentally run multiprocess_a_list(reactome_comps, reactome_compound_type_scraper_api)"
   ]
  },
  {
   "cell_type": "code",
   "execution_count": 31,
   "metadata": {},
   "outputs": [],
   "source": [
    "'''Merge the files from above'''\n",
    "type2reactomecomp, reactomecomp2type = dict(),dict()\n",
    "\n",
    "procs = cpu_count()\n",
    "\n",
    "for b_id in range(procs):\n",
    "    temp_path = 'output/compound2compound/temp_reactomecomp'+str(b_id)+'.txt'\n",
    "\n",
    "    # Read in temp file\n",
    "    with open(temp_path) as fin:\n",
    "        for line in fin:\n",
    "            \n",
    "            # Reactome Compound, Compound Type\n",
    "            reactome_comp = line.split('|')[0]\n",
    "            compound_type = line.split('|')[1].strip()\n",
    "            \n",
    "            # Reactome Compound -is-> Compound Type\n",
    "            type2reactomecomp.setdefault(compound_type, set()).add(reactome_comp)\n",
    "            reactomecomp2type.setdefault(reactome_comp, set()).add(compound_type)\n",
    "            \n",
    "    # os.remove(temp_path)"
   ]
  },
  {
   "cell_type": "code",
   "execution_count": 32,
   "metadata": {},
   "outputs": [],
   "source": [
    "json.dump(switch_dictset_to_dictlist(type2reactomecomp), open('output/compound2compound/compoundtype2reactomecompound.json','w'))\n",
    "json.dump(switch_dictset_to_dictlist(reactomecomp2type), open('output/compound2compound/reactomecompound2compoundtype.json','w'))\n",
    "type2reactomecomp = json.load(open('output/compound2compound/compoundtype2reactomecompound.json'))"
   ]
  },
  {
   "cell_type": "code",
   "execution_count": 33,
   "metadata": {},
   "outputs": [
    {
     "data": {
      "text/html": [
       "<div>\n",
       "<style scoped>\n",
       "    .dataframe tbody tr th:only-of-type {\n",
       "        vertical-align: middle;\n",
       "    }\n",
       "\n",
       "    .dataframe tbody tr th {\n",
       "        vertical-align: top;\n",
       "    }\n",
       "\n",
       "    .dataframe thead th {\n",
       "        text-align: right;\n",
       "    }\n",
       "</style>\n",
       "<table border=\"1\" class=\"dataframe\">\n",
       "  <thead>\n",
       "    <tr style=\"text-align: right;\">\n",
       "      <th></th>\n",
       "      <th>ChEBI Compound ID</th>\n",
       "      <th>Reactome Compound ID</th>\n",
       "      <th>Reactome Compound Name</th>\n",
       "      <th>Reactome Pathway</th>\n",
       "      <th>Link</th>\n",
       "      <th>Pathway Name</th>\n",
       "      <th>Evidence</th>\n",
       "      <th>Species</th>\n",
       "    </tr>\n",
       "  </thead>\n",
       "  <tbody>\n",
       "    <tr>\n",
       "      <th>120735</th>\n",
       "      <td>9948</td>\n",
       "      <td>R-ALL-9614135</td>\n",
       "      <td>verapamil [extracellular region]</td>\n",
       "      <td>R-HSA-5576893</td>\n",
       "      <td>https://reactome.org/PathwayBrowser/#/R-HSA-55...</td>\n",
       "      <td>Phase 2 - plateau phase</td>\n",
       "      <td>TAS</td>\n",
       "      <td>Homo sapiens</td>\n",
       "    </tr>\n",
       "  </tbody>\n",
       "</table>\n",
       "</div>"
      ],
      "text/plain": [
       "        ChEBI Compound ID Reactome Compound ID  \\\n",
       "120735               9948        R-ALL-9614135   \n",
       "\n",
       "                  Reactome Compound Name Reactome Pathway  \\\n",
       "120735  verapamil [extracellular region]    R-HSA-5576893   \n",
       "\n",
       "                                                     Link  \\\n",
       "120735  https://reactome.org/PathwayBrowser/#/R-HSA-55...   \n",
       "\n",
       "                   Pathway Name Evidence       Species  \n",
       "120735  Phase 2 - plateau phase      TAS  Homo sapiens  "
      ]
     },
     "execution_count": 33,
     "metadata": {},
     "output_type": "execute_result"
    }
   ],
   "source": [
    "chebi2reactome.tail(1)"
   ]
  },
  {
   "cell_type": "code",
   "execution_count": 34,
   "metadata": {},
   "outputs": [],
   "source": [
    "chebis = [str(chebi) for chebi in list(set(chebi2reactome['ChEBI Compound ID']))]"
   ]
  },
  {
   "cell_type": "code",
   "execution_count": 35,
   "metadata": {},
   "outputs": [
    {
     "name": "stdout",
     "output_type": "stream",
     "text": [
      "548/2374 ChEBI -is- DrugBank (in SMPDB)\n",
      "587/2374 ChEBI -is- MeSH (in SMPDB)\n",
      "548/2374 ChEBI -is- MeSH&DrugBank (in SMPDB)\n"
     ]
    }
   ],
   "source": [
    "chebi2mesh = json.load(open('output/compound2compound/chebi2mesh.json'))\n",
    "chebi2db = json.load(open('output/compound2compound/chebi2db.json'))\n",
    "\n",
    "yes,no = 0,0\n",
    "for chebi in chebis:\n",
    "    if chebi in chebi2mesh: yes += 1\n",
    "    else: no +=1\n",
    "print(str(yes)+'/'+str(yes+no)+' ChEBI -is- DrugBank (in SMPDB)')\n",
    "\n",
    "yes,no = 0,0\n",
    "for chebi in chebis:\n",
    "    if chebi in chebi2db:  yes += 1\n",
    "    else:  no +=1\n",
    "        \n",
    "print(str(yes)+'/'+str(yes+no)+' ChEBI -is- MeSH (in SMPDB)')\n",
    "\n",
    "\n",
    "yes,no = 0,0\n",
    "for chebi in chebis:\n",
    "    if chebi in chebi2db and chebi in chebi2mesh:  yes += 1\n",
    "    else:  no +=1\n",
    "        \n",
    "print(str(yes)+'/'+str(yes+no)+' ChEBI -is- MeSH&DrugBank (in SMPDB)')"
   ]
  },
  {
   "cell_type": "code",
   "execution_count": 36,
   "metadata": {},
   "outputs": [],
   "source": [
    "chebi2mesh = json.load(open('output/compound2compound/chebi2mesh.json'))\n",
    "chebi2db = json.load(open('output/compound2compound/chebi2db.json'))\n",
    "\n",
    "with open('output/compound2pathway/edges_meshCompound-participates_in->reactomePathway.csv','w') as fout:\n",
    "    writer = csv.writer(fout)\n",
    "    writer.writerow(['Compound (MeSH)','Pathway (Reactome)','Relationship'])\n",
    "    \n",
    "    for i in range(0,len(chebi2reactome)):\n",
    "        \n",
    "        try:\n",
    "            # Compound, Compound Type, Reactome Pathway\n",
    "            chebi_comp = str(chebi2reactome['ChEBI Compound ID'].iloc[i])\n",
    "            mesh_comps = chebi2mesh[chebi_comp]\n",
    "            \n",
    "            react_comp = str(chebi2reactome['Reactome Compound ID'].iloc[i])\n",
    "            comp_type  = list(reactomecomp2type[react_comp])[0]\n",
    "            \n",
    "            react_pway = chebi2reactome['Reactome Pathway'].iloc[i]\n",
    "\n",
    "            # Write edge for drugs\n",
    "            if 'drug' in comp_type.lower():\n",
    "                for mesh_comp in mesh_comps:\n",
    "                    writer.writerow(['MeSH_Compound:'+mesh_comp,'Reactome_Pathway:'+react_pway,'-drug_participates_in_pathway->'])\n",
    "        except:\n",
    "            continue\n",
    "            \n",
    "! cp 'output/compound2pathway/edges_meshCompound-participates_in->reactomePathway.csv' 'output/edges/edges_meshCompound-participates_in->reactomePathway.csv'"
   ]
  },
  {
   "cell_type": "code",
   "execution_count": 37,
   "metadata": {},
   "outputs": [
    {
     "name": "stdout",
     "output_type": "stream",
     "text": [
      "241 MeSH Compounds\n",
      "95 Reactome Pathways\n",
      "433 Edges\n"
     ]
    }
   ],
   "source": [
    "mesh2reactomepw_df = pd.read_csv('output/edges/edges_meshCompound-participates_in->reactomePathway.csv')\n",
    "print(len(set(mesh2reactomepw_df['Compound (MeSH)'])), 'MeSH Compounds')\n",
    "print(len(set(mesh2reactomepw_df['Pathway (Reactome)'])), 'Reactome Pathways')\n",
    "print(len(mesh2reactomepw_df), 'Edges')"
   ]
  },
  {
   "cell_type": "code",
   "execution_count": 38,
   "metadata": {},
   "outputs": [],
   "source": [
    "chebi2db = json.load(open('output/compound2compound/chebi2db.json'))\n",
    "chebi2db = json.load(open('output/compound2compound/chebi2db.json'))\n",
    "\n",
    "with open('output/compound2pathway/edges_drugbankCompound-participates_in->reactomePathway.csv','w') as fout:\n",
    "    writer = csv.writer(fout)\n",
    "    writer.writerow(['Compound (DrugBank)','Pathway (Reactome)','Relationship'])\n",
    "\n",
    "    for i in range(0,len(chebi2reactome)):\n",
    "        chebi_comp = str(chebi2reactome['ChEBI Compound ID'].iloc[i])\n",
    "\n",
    "        try:\n",
    "            # Compound, Compound Type, Reactome Pathway\n",
    "            db_comps = chebi2db[chebi_comp]\n",
    "            comp_type  = list(reactomecomp2type[react_comp])[0]\n",
    "            react_pway = chebi2reactome['Reactome Pathway'].iloc[i]\n",
    "\n",
    "            # Write edge for drugs\n",
    "            if 'Drug' in comp_type:\n",
    "                for db_comp in db_comps:\n",
    "                    writer.writerow(['DrugBank_Compound:'+db_comp,'Reactome_Pathway:'+react_pway,'-drug_participates_in_pathway->'])\n",
    "        except:\n",
    "            continue\n",
    "            \n",
    "! cp 'output/compound2pathway/edges_drugbankCompound-participates_in->reactomePathway.csv' 'output/edges/edges_drugbankCompound-participates_in->reactomePathway.csv'"
   ]
  },
  {
   "cell_type": "code",
   "execution_count": 39,
   "metadata": {},
   "outputs": [
    {
     "name": "stdout",
     "output_type": "stream",
     "text": [
      "587 DrugBank Compounds\n",
      "1006 Reactome Pathways\n",
      "4098 Edges\n"
     ]
    }
   ],
   "source": [
    "drugbank2reactomepw_df = pd.read_csv('output/edges/edges_drugbankCompound-participates_in->reactomePathway.csv')\n",
    "print(len(set(drugbank2reactomepw_df['Compound (DrugBank)'])), 'DrugBank Compounds')\n",
    "print(len(set(drugbank2reactomepw_df['Pathway (Reactome)'])), 'Reactome Pathways')\n",
    "print(len(drugbank2reactomepw_df), 'Edges')"
   ]
  },
  {
   "cell_type": "markdown",
   "metadata": {},
   "source": [
    "### Compound - SMPDB\n",
    "- DrugBank ID ---> SMPDB\n",
    "- MeSH ID ---> SMPDB"
   ]
  },
  {
   "cell_type": "code",
   "execution_count": 45,
   "metadata": {},
   "outputs": [],
   "source": [
    "with open('output/compound2pathway/edges_drugbankCompound-participates_in-smpdbPathway.csv','w') as fout:\n",
    "    writer = csv.writer(fout)\n",
    "    writer.writerow(['Compound (DrugBank)','Pathway (SMPDB)','Relationship'])\n",
    "    smpdb_pws = dict()\n",
    "    \n",
    "    for count, ele in enumerate(root):\n",
    "        ID = ParseXML.getID(ele)\n",
    "        pathways = ParseXML.getPathways(ele)\n",
    "        \n",
    "        if len(pathways) > 0:\n",
    "            for pw in pathways:\n",
    "                smpdb_pws.setdefault(ID,set()).add(pw['smpdb_id'])\n",
    "                writer.writerow(['DrugBank_Compound:'+ID,'SMPDB_Pathway:'+pw['smpdb_id'],'-drug_participates_in_pathway->'])\n",
    "            smpdb_pws[ID] = list(smpdb_pws[ID])\n",
    "#smpdb_pws\n",
    "df = pd.read_csv('output/compound2pathway/edges_drugbankCompound-participates_in-smpdbPathway.csv').drop_duplicates()\n",
    "df.to_csv('output/edges/edges_drugbankCompound-participates_in-smpdbPathway.csv', index=False)"
   ]
  },
  {
   "cell_type": "code",
   "execution_count": 46,
   "metadata": {},
   "outputs": [
    {
     "data": {
      "text/html": [
       "<div>\n",
       "<style scoped>\n",
       "    .dataframe tbody tr th:only-of-type {\n",
       "        vertical-align: middle;\n",
       "    }\n",
       "\n",
       "    .dataframe tbody tr th {\n",
       "        vertical-align: top;\n",
       "    }\n",
       "\n",
       "    .dataframe thead th {\n",
       "        text-align: right;\n",
       "    }\n",
       "</style>\n",
       "<table border=\"1\" class=\"dataframe\">\n",
       "  <thead>\n",
       "    <tr style=\"text-align: right;\">\n",
       "      <th></th>\n",
       "      <th>Compound (DrugBank)</th>\n",
       "      <th>Pathway (SMPDB)</th>\n",
       "      <th>Relationship</th>\n",
       "    </tr>\n",
       "  </thead>\n",
       "  <tbody>\n",
       "    <tr>\n",
       "      <th>0</th>\n",
       "      <td>DrugBank_Compound:DB00001</td>\n",
       "      <td>SMPDB_Pathway:SMP0000278</td>\n",
       "      <td>-drug_participates_in_pathway-&gt;</td>\n",
       "    </tr>\n",
       "    <tr>\n",
       "      <th>1</th>\n",
       "      <td>DrugBank_Compound:DB00002</td>\n",
       "      <td>SMPDB_Pathway:SMP0000474</td>\n",
       "      <td>-drug_participates_in_pathway-&gt;</td>\n",
       "    </tr>\n",
       "    <tr>\n",
       "      <th>2</th>\n",
       "      <td>DrugBank_Compound:DB00006</td>\n",
       "      <td>SMPDB_Pathway:SMP0000277</td>\n",
       "      <td>-drug_participates_in_pathway-&gt;</td>\n",
       "    </tr>\n",
       "    <tr>\n",
       "      <th>3</th>\n",
       "      <td>DrugBank_Compound:DB00009</td>\n",
       "      <td>SMPDB_Pathway:SMP0000280</td>\n",
       "      <td>-drug_participates_in_pathway-&gt;</td>\n",
       "    </tr>\n",
       "    <tr>\n",
       "      <th>4</th>\n",
       "      <td>DrugBank_Compound:DB00013</td>\n",
       "      <td>SMPDB_Pathway:SMP0000284</td>\n",
       "      <td>-drug_participates_in_pathway-&gt;</td>\n",
       "    </tr>\n",
       "    <tr>\n",
       "      <th>...</th>\n",
       "      <td>...</td>\n",
       "      <td>...</td>\n",
       "      <td>...</td>\n",
       "    </tr>\n",
       "    <tr>\n",
       "      <th>3775</th>\n",
       "      <td>DrugBank_Compound:DB13679</td>\n",
       "      <td>SMPDB_Pathway:SMP0056811</td>\n",
       "      <td>-drug_participates_in_pathway-&gt;</td>\n",
       "    </tr>\n",
       "    <tr>\n",
       "      <th>3776</th>\n",
       "      <td>DrugBank_Compound:DB13711</td>\n",
       "      <td>SMPDB_Pathway:SMP0062895</td>\n",
       "      <td>-drug_participates_in_pathway-&gt;</td>\n",
       "    </tr>\n",
       "    <tr>\n",
       "      <th>3777</th>\n",
       "      <td>DrugBank_Compound:DB13808</td>\n",
       "      <td>SMPDB_Pathway:SMP0061052</td>\n",
       "      <td>-drug_participates_in_pathway-&gt;</td>\n",
       "    </tr>\n",
       "    <tr>\n",
       "      <th>3778</th>\n",
       "      <td>DrugBank_Compound:DB13820</td>\n",
       "      <td>SMPDB_Pathway:SMP0059738</td>\n",
       "      <td>-drug_participates_in_pathway-&gt;</td>\n",
       "    </tr>\n",
       "    <tr>\n",
       "      <th>3779</th>\n",
       "      <td>DrugBank_Compound:DB13840</td>\n",
       "      <td>SMPDB_Pathway:SMP0059710</td>\n",
       "      <td>-drug_participates_in_pathway-&gt;</td>\n",
       "    </tr>\n",
       "  </tbody>\n",
       "</table>\n",
       "<p>3780 rows × 3 columns</p>\n",
       "</div>"
      ],
      "text/plain": [
       "            Compound (DrugBank)           Pathway (SMPDB)  \\\n",
       "0     DrugBank_Compound:DB00001  SMPDB_Pathway:SMP0000278   \n",
       "1     DrugBank_Compound:DB00002  SMPDB_Pathway:SMP0000474   \n",
       "2     DrugBank_Compound:DB00006  SMPDB_Pathway:SMP0000277   \n",
       "3     DrugBank_Compound:DB00009  SMPDB_Pathway:SMP0000280   \n",
       "4     DrugBank_Compound:DB00013  SMPDB_Pathway:SMP0000284   \n",
       "...                         ...                       ...   \n",
       "3775  DrugBank_Compound:DB13679  SMPDB_Pathway:SMP0056811   \n",
       "3776  DrugBank_Compound:DB13711  SMPDB_Pathway:SMP0062895   \n",
       "3777  DrugBank_Compound:DB13808  SMPDB_Pathway:SMP0061052   \n",
       "3778  DrugBank_Compound:DB13820  SMPDB_Pathway:SMP0059738   \n",
       "3779  DrugBank_Compound:DB13840  SMPDB_Pathway:SMP0059710   \n",
       "\n",
       "                         Relationship  \n",
       "0     -drug_participates_in_pathway->  \n",
       "1     -drug_participates_in_pathway->  \n",
       "2     -drug_participates_in_pathway->  \n",
       "3     -drug_participates_in_pathway->  \n",
       "4     -drug_participates_in_pathway->  \n",
       "...                               ...  \n",
       "3775  -drug_participates_in_pathway->  \n",
       "3776  -drug_participates_in_pathway->  \n",
       "3777  -drug_participates_in_pathway->  \n",
       "3778  -drug_participates_in_pathway->  \n",
       "3779  -drug_participates_in_pathway->  \n",
       "\n",
       "[3780 rows x 3 columns]"
      ]
     },
     "execution_count": 46,
     "metadata": {},
     "output_type": "execute_result"
    }
   ],
   "source": [
    "df = pd.read_csv('output/compound2pathway/edges_drugbankCompound-participates_in-smpdbPathway.csv').drop_duplicates()\n",
    "df"
   ]
  },
  {
   "cell_type": "code",
   "execution_count": 47,
   "metadata": {},
   "outputs": [],
   "source": [
    "db2mesh = json.load(open('output/compound2compound/db2mesh.json'))"
   ]
  },
  {
   "cell_type": "code",
   "execution_count": 48,
   "metadata": {},
   "outputs": [],
   "source": [
    "with open('output/compound2pathway/edges_MeSHCompound-participates_in-smpdbPathway.csv','w') as fout:\n",
    "    writer = csv.writer(fout)\n",
    "    writer.writerow(['Compound (MeSH)','Pathway (SMPDB)','Relationship'])\n",
    "    smpdb_pws_mesh = dict()\n",
    "    \n",
    "    for count, ele in enumerate(root):\n",
    "        ID = ParseXML.getID(ele)\n",
    "        pathways = ParseXML.getPathways(ele)\n",
    "        \n",
    "        try:  mesh_compounds = db2mesh[ID]\n",
    "        except: continue\n",
    "        \n",
    "        if len(pathways) > 0:\n",
    "            for pw in pathways:\n",
    "                for mesh_compound in mesh_compounds:\n",
    "                    smpdb_pws_mesh.setdefault(mesh_compound, set()).add(pw['smpdb_id'])\n",
    "                    writer.writerow(['MeSH_Compound:'+mesh_compound, 'SMPDB_Pathway:'+pw['smpdb_id'],'-drug_participates_in_pathway->'])\n",
    "            #smpdb_pws_mesh[mesh_compound] = list(smpdb_pws_mesh[mesh_compound])\n",
    "#smpdb_pws_mesh\n",
    "df = pd.read_csv('output/compound2pathway/edges_MeSHCompound-participates_in-smpdbPathway.csv').drop_duplicates()\n",
    "df.to_csv('output/edges/edges_MeSHCompound-participates_in-smpdbPathway.csv', index=False)\n",
    "\n",
    "json.dump(smpdb_pws,open(\"output/compound2pathway/compound_to_pathway.json\",\"w\"))"
   ]
  },
  {
   "cell_type": "markdown",
   "metadata": {},
   "source": [
    "## KEGG"
   ]
  },
  {
   "cell_type": "markdown",
   "metadata": {},
   "source": [
    "### Edge: Compound/Drug to Pathway\n",
    "MeSH to KEGG Pathway"
   ]
  },
  {
   "cell_type": "code",
   "execution_count": 4,
   "metadata": {},
   "outputs": [],
   "source": [
    "keggcompound2mesh = json.load(open('output/compound2compound/keggcompound2mesh.json'))\n",
    "keggcompound2keggdrug = json.load(open('output/compound2compound/keggcompound2keggdrug.json'))"
   ]
  },
  {
   "cell_type": "code",
   "execution_count": 5,
   "metadata": {},
   "outputs": [
    {
     "name": "stdout",
     "output_type": "stream",
     "text": [
      "  % Total    % Received % Xferd  Average Speed   Time    Time     Time  Current\n",
      "                                 Dload  Upload   Total   Spent    Left  Speed\n",
      "100  454k    0  454k    0     0   230k      0 --:--:--  0:00:01 --:--:--  230k\n"
     ]
    }
   ],
   "source": [
    "! curl https://rest.kegg.jp/link/pathway/cpd > input/KEGG/kegg_cpd_to_pathway.tsv"
   ]
  },
  {
   "cell_type": "code",
   "execution_count": 6,
   "metadata": {},
   "outputs": [
    {
     "name": "stdout",
     "output_type": "stream",
     "text": [
      "360 KEGG Pathways\n",
      "462 MeSH Compounds\n"
     ]
    }
   ],
   "source": [
    "'''Compound-Pathway (Non-drug)'''\n",
    "keggpathway2meshcompound = dict()\n",
    "meshcompound2keggpathway = dict()\n",
    "\n",
    "for line in open('input/KEGG/kegg_cpd_to_pathway.tsv'):\n",
    "    line = line.split('\\t')\n",
    "    \n",
    "    try:\n",
    "        # MeSH Compound, KEGG Pathway\n",
    "        kegg_cpd = line[0].split('cpd:')[1]\n",
    "        mesh_cpds = keggcompound2mesh[kegg_cpd]\n",
    "        kegg_pathway = line[1].strip().replace('path:','path_')\n",
    "\n",
    "        # MeSH Compound -> KEGG Pathway\n",
    "        if kegg_cpd not in keggcompound2keggdrug:\n",
    "            for mesh_cpd in mesh_cpds:\n",
    "                meshcompound2keggpathway.setdefault(mesh_cpd, set()).add(kegg_pathway)\n",
    "                keggpathway2meshcompound.setdefault(kegg_pathway,set()).add(mesh_cpd)\n",
    "    except:\n",
    "        continue\n",
    "    \n",
    "print(len(keggpathway2meshcompound), 'KEGG Pathways')\n",
    "print(len(meshcompound2keggpathway), 'MeSH Compounds')\n",
    "    \n",
    "file = 'Compound_(MeSH)_compound_participates_in_Pathway_(KEGG).csv'\n",
    "outpath = os.path.join('output/compound2pathway',file)\n",
    "output_edgefile_onerel_noweight(\n",
    "    outpath = outpath,\n",
    "    columns = ['Compound (MeSH)','Pathway (KEGG)','Relationship'],\n",
    "    dictionary = meshcompound2keggpathway,\n",
    "    rel = '-compound_participates_in->',\n",
    "    prefix_col1='MeSH_Compound:',\n",
    "    prefix_col2='KEGG_Pathway:'\n",
    ")\n",
    "df = pd.read_csv(outpath)\n",
    "df.to_csv(os.path.join('output/edges',file),index=False)\n",
    "df.to_csv(os.path.join('output/edges to use/',file),index=False)"
   ]
  },
  {
   "cell_type": "code",
   "execution_count": 41,
   "metadata": {},
   "outputs": [],
   "source": [
    "keggcompound2db = json.load(open('output/compound2compound/keggcompound2db.json'))"
   ]
  },
  {
   "cell_type": "code",
   "execution_count": 42,
   "metadata": {},
   "outputs": [
    {
     "name": "stdout",
     "output_type": "stream",
     "text": [
      "371 KEGG Pathways\n",
      "578 DrugBank Compounds\n"
     ]
    }
   ],
   "source": [
    "''' DrugBank Compound-Pathway (Non-drug)'''\n",
    "keggpathway2dbcompound = dict()\n",
    "dbcompound2keggpathway = dict()\n",
    "\n",
    "for line in open('input/KEGG/kegg_cpd_to_pathway.tsv'):\n",
    "    line = line.split('\\t')\n",
    "    \n",
    "    try:\n",
    "        # db Compound, KEGG Pathway\n",
    "        kegg_cpd = line[0].split('cpd:')[1]\n",
    "        db_cpds = keggcompound2db[kegg_cpd]\n",
    "        kegg_pathway = line[1].strip().replace('path:','path_')\n",
    "\n",
    "        # db Compound -> KEGG Pathway\n",
    "        if kegg_cpd not in keggcompound2keggdrug:\n",
    "            for db_cpd in db_cpds:\n",
    "                dbcompound2keggpathway.setdefault(db_cpd, set()).add(kegg_pathway)\n",
    "                keggpathway2dbcompound.setdefault(kegg_pathway,set()).add(db_cpd)\n",
    "    except:\n",
    "        continue\n",
    "    \n",
    "print(len(keggpathway2dbcompound), 'KEGG Pathways')\n",
    "print(len(dbcompound2keggpathway), 'DrugBank Compounds')\n",
    " \n",
    "    \n",
    "file = 'Compound_(DrugBank)_compound_participates_in_Pathway_(KEGG).csv'\n",
    "outpath = os.path.join('output/compound2pathway/',file)\n",
    "output_edgefile_onerel_noweight(\n",
    "    outpath = outpath,\n",
    "    columns = ['Compound (DrugBank)','Pathway (KEGG)','Relationship'],\n",
    "    dictionary = dbcompound2keggpathway,\n",
    "    rel = '-compound_participates_in->',\n",
    "    prefix_col1='DrugBank_Compound:',\n",
    "    prefix_col2='KEGG_Pathway:'\n",
    ")\n",
    "df = pd.read_csv(outpath)\n",
    "df.to_csv(os.path.join('output/edges',file),index=False)\n",
    "df.to_csv(os.path.join('output/edges to use/',file),index=False)"
   ]
  },
  {
   "cell_type": "code",
   "execution_count": 43,
   "metadata": {},
   "outputs": [],
   "source": [
    "keggdrug2mesh = json.load(open('output/compound2compound/keggdrug2mesh.json'))"
   ]
  },
  {
   "cell_type": "code",
   "execution_count": 44,
   "metadata": {},
   "outputs": [
    {
     "name": "stdout",
     "output_type": "stream",
     "text": [
      "  % Total    % Received % Xferd  Average Speed   Time    Time     Time  Current\n",
      "                                 Dload  Upload   Total   Spent    Left  Speed\n",
      "100 77544    0 77544    0     0  85550      0 --:--:-- --:--:-- --:--:-- 85495\n"
     ]
    }
   ],
   "source": [
    "! curl https://rest.kegg.jp/link/pathway/drug > input/KEGG/kegg_drug_to_pathway.tsv"
   ]
  },
  {
   "cell_type": "code",
   "execution_count": 45,
   "metadata": {},
   "outputs": [
    {
     "name": "stdout",
     "output_type": "stream",
     "text": [
      "913 KEGG Pathways\n",
      "944 MeSH Drugs\n"
     ]
    }
   ],
   "source": [
    "'''MeSH Compound-Pathway (Drug)'''\n",
    "keggpathway2meshdrug = dict()\n",
    "meshdrug2keggpathway = dict()\n",
    "\n",
    "for line in open('input/KEGG/kegg_drug_to_pathway.tsv'):\n",
    "    line = line.split('\\t')\n",
    "    \n",
    "    try:\n",
    "        # MeSH drug, KEGG Pathway\n",
    "        kegg_drug = line[0].split('dr:')[1]\n",
    "        mesh_drugs = keggdrug2mesh[kegg_drug]\n",
    "        kegg_pathway = line[1].strip().replace('path:','path_')\n",
    "\n",
    "        # MeSH drug -> KEGG Pathway\n",
    "        for mesh_drug in mesh_drugs:\n",
    "            meshdrug2keggpathway.setdefault(mesh_drug, set()).add(kegg_pathway)\n",
    "            keggpathway2meshdrug.setdefault(kegg_drug, set()).add(mesh_drug)\n",
    "    except:\n",
    "        continue\n",
    "\n",
    "print(len(keggpathway2meshdrug), 'KEGG Pathways')\n",
    "print(len(meshdrug2keggpathway), 'MeSH Drugs')\n",
    "    \n",
    "file = 'Compound_(MeSH)_drug_participates_in_Pathway_(KEGG).csv'\n",
    "outpath = os.path.join('output/compound2pathway',file)\n",
    "output_edgefile_onerel_noweight(\n",
    "    outpath = outpath,\n",
    "    columns = ['Compound (MeSH)','Pathway (KEGG)','Relationship'],\n",
    "    dictionary = meshdrug2keggpathway,\n",
    "    rel = '-drug_participates_in->',\n",
    "    prefix_col1='MeSH_Compound:',\n",
    "    prefix_col2='KEGG_Pathway:'\n",
    ")\n",
    "df = pd.read_csv(outpath)\n",
    "df.to_csv(os.path.join('output/edges',file),index=False)\n",
    "df.to_csv(os.path.join('output/edges to use/',file),index=False)"
   ]
  },
  {
   "cell_type": "code",
   "execution_count": 18,
   "metadata": {},
   "outputs": [],
   "source": [
    "keggdrug2db = json.load(open('output/compound2compound/keggdrug2db.json'))"
   ]
  },
  {
   "cell_type": "code",
   "execution_count": null,
   "metadata": {},
   "outputs": [],
   "source": [
    "# NOTE: Replaced map with hsa to align pathways, but we need to confirm\n",
    "# that this is always correct. "
   ]
  },
  {
   "cell_type": "code",
   "execution_count": 24,
   "metadata": {},
   "outputs": [
    {
     "name": "stdout",
     "output_type": "stream",
     "text": [
      "915 KEGG Pathways\n",
      "915 DrugBank Drugs\n"
     ]
    }
   ],
   "source": [
    "'''DrugBank Compound-Pathway (Drug)'''\n",
    "keggpathway2dbdrug = dict()\n",
    "dbdrug2keggpathway = dict()\n",
    "\n",
    "for line in open('input/KEGG/kegg_drug_to_pathway.tsv'):\n",
    "    line = line.split('\\t')\n",
    "    \n",
    "    try:\n",
    "        # db drug, KEGG Pathway\n",
    "        kegg_drug = line[0].split('dr:')[1]\n",
    "        db_drugs = keggdrug2db[kegg_drug]\n",
    "        kegg_pathway = line[1].strip().replace('path:','path_')\n",
    "        if '_map' in kegg_pathway:\n",
    "            kegg_pathway = kegg_pathway.replace('_map','_hsa') ### NOTE: Temp fix\n",
    "       \n",
    "    # db drug -> KEGG Pathway\n",
    "        for db_drug in db_drugs:\n",
    "            dbdrug2keggpathway.setdefault(db_drug, set()).add(kegg_pathway)\n",
    "            keggpathway2dbdrug.setdefault(kegg_drug, set()).add(db_drug)\n",
    "    except:\n",
    "        continue\n",
    "\n",
    "print(len(keggpathway2dbdrug), 'KEGG Pathways')\n",
    "print(len(dbdrug2keggpathway), 'DrugBank Drugs')\n",
    "\n",
    "file = 'Compound_(DrugBank)_compound_participates_in_Pathway_(KEGG).csv'\n",
    "outpath = os.path.join('output/compound2pathway', file)\n",
    "output_edgefile_onerel_noweight(\n",
    "    outpath = outpath,\n",
    "    columns = ['Compound (DrugBank)','Pathway (KEGG)','Relationship'],\n",
    "    dictionary = dbdrug2keggpathway,\n",
    "    rel = '-drug_participates_in->',\n",
    "    prefix_col1='DrugBank_Compound:',\n",
    "    prefix_col2='KEGG_Pathway:'\n",
    ")\n",
    "df = pd.read_csv(outpath)\n",
    "df.to_csv(os.path.join('output/edges',file),index=False)\n",
    "df.to_csv(os.path.join('output/edges to use/',file),index=False)"
   ]
  },
  {
   "cell_type": "code",
   "execution_count": 26,
   "metadata": {},
   "outputs": [
    {
     "name": "stdout",
     "output_type": "stream",
     "text": [
      "360 KEGG Pathways\n",
      "462 MeSH Compounds\n"
     ]
    },
    {
     "ename": "NameError",
     "evalue": "name 'keggpathway2dbcompound' is not defined",
     "output_type": "error",
     "traceback": [
      "\u001b[0;31m---------------------------------------------------------------------------\u001b[0m",
      "\u001b[0;31mNameError\u001b[0m                                 Traceback (most recent call last)",
      "\u001b[0;32m/tmp/ipykernel_6549/2034655011.py\u001b[0m in \u001b[0;36m<module>\u001b[0;34m\u001b[0m\n\u001b[1;32m      1\u001b[0m \u001b[0mprint\u001b[0m\u001b[0;34m(\u001b[0m\u001b[0mlen\u001b[0m\u001b[0;34m(\u001b[0m\u001b[0mkeggpathway2meshcompound\u001b[0m\u001b[0;34m)\u001b[0m\u001b[0;34m,\u001b[0m \u001b[0;34m'KEGG Pathways'\u001b[0m\u001b[0;34m)\u001b[0m\u001b[0;34m\u001b[0m\u001b[0;34m\u001b[0m\u001b[0m\n\u001b[1;32m      2\u001b[0m \u001b[0mprint\u001b[0m\u001b[0;34m(\u001b[0m\u001b[0mlen\u001b[0m\u001b[0;34m(\u001b[0m\u001b[0mmeshcompound2keggpathway\u001b[0m\u001b[0;34m)\u001b[0m\u001b[0;34m,\u001b[0m \u001b[0;34m'MeSH Compounds'\u001b[0m\u001b[0;34m)\u001b[0m\u001b[0;34m\u001b[0m\u001b[0;34m\u001b[0m\u001b[0m\n\u001b[0;32m----> 3\u001b[0;31m \u001b[0mprint\u001b[0m\u001b[0;34m(\u001b[0m\u001b[0mlen\u001b[0m\u001b[0;34m(\u001b[0m\u001b[0mkeggpathway2dbcompound\u001b[0m\u001b[0;34m)\u001b[0m\u001b[0;34m,\u001b[0m \u001b[0;34m'KEGG Pathways'\u001b[0m\u001b[0;34m)\u001b[0m\u001b[0;34m\u001b[0m\u001b[0;34m\u001b[0m\u001b[0m\n\u001b[0m\u001b[1;32m      4\u001b[0m \u001b[0mprint\u001b[0m\u001b[0;34m(\u001b[0m\u001b[0mlen\u001b[0m\u001b[0;34m(\u001b[0m\u001b[0mdbcompound2keggpathway\u001b[0m\u001b[0;34m)\u001b[0m\u001b[0;34m,\u001b[0m \u001b[0;34m'DrugBank Compounds'\u001b[0m\u001b[0;34m)\u001b[0m\u001b[0;34m\u001b[0m\u001b[0;34m\u001b[0m\u001b[0m\n\u001b[1;32m      5\u001b[0m \u001b[0mprint\u001b[0m\u001b[0;34m(\u001b[0m\u001b[0mlen\u001b[0m\u001b[0;34m(\u001b[0m\u001b[0mkeggpathway2dbdrug\u001b[0m\u001b[0;34m)\u001b[0m\u001b[0;34m,\u001b[0m \u001b[0;34m'KEGG Pathways'\u001b[0m\u001b[0;34m)\u001b[0m\u001b[0;34m\u001b[0m\u001b[0;34m\u001b[0m\u001b[0m\n",
      "\u001b[0;31mNameError\u001b[0m: name 'keggpathway2dbcompound' is not defined"
     ]
    }
   ],
   "source": [
    "print(len(keggpathway2meshcompound), 'KEGG Pathways')\n",
    "print(len(meshcompound2keggpathway), 'MeSH Compounds')\n",
    "print(len(keggpathway2dbcompound), 'KEGG Pathways')\n",
    "print(len(dbcompound2keggpathway), 'DrugBank Compounds')\n",
    "print(len(keggpathway2dbdrug), 'KEGG Pathways')\n",
    "print(len(dbdrug2keggpathway), 'DrugBank Drugs')\n",
    "print(len(keggpathway2meshdrug), 'KEGG Pathways')\n",
    "print(len(meshdrug2keggpathway), 'MeSH Drugs')"
   ]
  }
 ],
 "metadata": {
  "kernelspec": {
   "display_name": "Python 3 (ipykernel)",
   "language": "python",
   "name": "python3"
  },
  "language_info": {
   "codemirror_mode": {
    "name": "ipython",
    "version": 3
   },
   "file_extension": ".py",
   "mimetype": "text/x-python",
   "name": "python",
   "nbconvert_exporter": "python",
   "pygments_lexer": "ipython3",
   "version": "3.9.7"
  }
 },
 "nbformat": 4,
 "nbformat_minor": 4
}
