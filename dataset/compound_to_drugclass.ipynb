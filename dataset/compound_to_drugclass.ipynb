{
 "cells": [
  {
   "cell_type": "code",
   "execution_count": 1,
   "id": "c7e23d09",
   "metadata": {},
   "outputs": [],
   "source": [
    "import json\n",
    "import csv\n",
    "import pandas as pd\n",
    "import os"
   ]
  },
  {
   "cell_type": "code",
   "execution_count": 3,
   "id": "8ba10b44",
   "metadata": {},
   "outputs": [
    {
     "name": "stdout",
     "output_type": "stream",
     "text": [
      "5721 ATC-ATC nodes\n",
      "5707 ATC edges\n"
     ]
    }
   ],
   "source": [
    "db_to_atc = json.load(open('output/compound2compound/db2atc.json'))\n",
    "\n",
    "\n",
    "with open('output/compound2atcclass/atc_class_tree.csv','w') as fout:\n",
    "    writer = csv.writer(fout)\n",
    "    writer.writerow(['ATC Child','ATC Parent','Relationship'])\n",
    "    rel = 'is_subclass_of->'\n",
    "    \n",
    "    for atc in atc_codes_in_db:\n",
    "        assert len(atc) == 7\n",
    "        first_level = atc[:1]  # main anatomical group\n",
    "        second_level = atc[:3] # therapeutic subgroup\n",
    "        third_level = atc[:4]  # pharmacological subgroup\n",
    "        fourth_level = atc[:5] # chemical subgroup\n",
    "        fifth_level = atc      # chemical substance \n",
    "        atc_list = [first_level, second_level, third_level, \n",
    "                    fourth_level, fifth_level]\n",
    "\n",
    "        writer.writerow(['ATC:'+second_level, 'ATC:'+first_level, rel])\n",
    "        writer.writerow(['ATC:'+third_level, 'ATC:'+second_level, rel])\n",
    "        writer.writerow(['ATC:'+fourth_level, 'ATC:'+third_level, rel])\n",
    "        writer.writerow(['ATC:'+fifth_level, 'ATC:'+fourth_level, rel])\n",
    "        \n",
    "atc_df = pd.read_csv('output/compound2atcclass/atc_class_tree.csv').drop_duplicates()\n",
    "atc_df.reset_index(inplace=True, drop=True)\n",
    "atc_df.to_csv('output/compound2atcclass/atc_class_tree.csv')\n",
    "\n",
    "print(len(set(atc_df['ATC Child']).union(set(atc_df['ATC Parent']))), 'ATC-ATC nodes')\n",
    "print(len(atc_df), 'ATC edges')\n",
    "atc_df.to_csv('output/compound2atcclass/atc_class_tree.csv',index=False)\n",
    "\n",
    "! cp 'output/compound2atcclass/atc_class_tree.csv' 'output/edges/edges_atc_to_atc.csv'\n",
    "! cp 'output/compound2atcclass/atc_class_tree.csv' 'output/edges to use/DrugClass_(ATC)_2_DrugClass_(ATC).csv'"
   ]
  }
 ],
 "metadata": {
  "kernelspec": {
   "display_name": "Python 3 (ipykernel)",
   "language": "python",
   "name": "python3"
  },
  "language_info": {
   "codemirror_mode": {
    "name": "ipython",
    "version": 3
   },
   "file_extension": ".py",
   "mimetype": "text/x-python",
   "name": "python",
   "nbconvert_exporter": "python",
   "pygments_lexer": "ipython3",
   "version": "3.9.7"
  }
 },
 "nbformat": 4,
 "nbformat_minor": 5
}
