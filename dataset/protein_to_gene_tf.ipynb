{
 "cells": [
  {
   "cell_type": "code",
   "execution_count": 1,
   "id": "eab17976",
   "metadata": {},
   "outputs": [],
   "source": [
    "import pandas as pd\n",
    "import csv\n",
    "import os\n",
    "import json\n",
    "import urllib.parse\n",
    "import urllib.request\n",
    "import numpy as np\n",
    "import matplotlib.pyplot as plt\n",
    "from biomed_apis import *\n",
    "from biomedkg_utils import *"
   ]
  },
  {
   "cell_type": "markdown",
   "id": "df516bf7",
   "metadata": {},
   "source": [
    "## Transcription Factors"
   ]
  },
  {
   "cell_type": "markdown",
   "id": "7576b7b6",
   "metadata": {},
   "source": [
    "##### TF Gene Name -targets-> Target Gene Name"
   ]
  },
  {
   "cell_type": "code",
   "execution_count": 3,
   "id": "370419ac",
   "metadata": {},
   "outputs": [],
   "source": [
    "tf_gene_name_2_target_gene_name = dict() # TF gene name to target gene name\n",
    "gene_names = set() # Gene Names (Tfs and targets)\n",
    "tf_gene_names = set() # Transcription Factor gene names\n",
    "target_gene_names = set() # Target gene names\n",
    "\n",
    "root = 'input/GRNdb/'\n",
    "\n",
    "for file in os.listdir(root):\n",
    "    if 'GTEx-regulons' in file:\n",
    "        \n",
    "        for line in open(root+file):\n",
    "            line = line.strip().split('\\t')\n",
    "        \n",
    "            confidence = line[5]\n",
    "            if confidence == 'High':\n",
    "\n",
    "                # Gene names\n",
    "                tf_gene_name = line[0]      \n",
    "                targ_gene_name = line[1]  \n",
    "\n",
    "                # Save gene names\n",
    "                gene_names.add(tf_gene_name)\n",
    "                gene_names.add(targ_gene_name)     \n",
    "                tf_gene_names.add(tf_gene_name)     \n",
    "                target_gene_names.add(targ_gene_name)\n",
    "\n",
    "                # TF Gene -targets-> Target Gene\n",
    "                tf_gene_name_2_target_gene_name.setdefault(tf_gene_name,set()).add(targ_gene_name)\n",
    "\n",
    "# Change the values from set into a list\n",
    "tf_gene_name_2_target_gene_name = switch_dictset_to_dictlist(tf_gene_name_2_target_gene_name)"
   ]
  },
  {
   "cell_type": "markdown",
   "id": "91d6d825",
   "metadata": {},
   "source": [
    "##### Gene Name -is- Protein ID"
   ]
  },
  {
   "cell_type": "code",
   "execution_count": 3,
   "id": "d9146eb5",
   "metadata": {},
   "outputs": [],
   "source": [
    "# You can use this link if the API isn't working: \n",
    "# https://www.uniprot.org/id-mapping\n",
    "with open('output/protein2gene/gene_names.txt','w') as fout:\n",
    "    for gene_name_count, gene_name in enumerate(gene_names):\n",
    "        fout.write(gene_name+',')"
   ]
  },
  {
   "cell_type": "code",
   "execution_count": 7,
   "id": "7b402ee5",
   "metadata": {},
   "outputs": [
    {
     "name": "stdout",
     "output_type": "stream",
     "text": [
      "Fetched: 19617 / 19617\r"
     ]
    }
   ],
   "source": [
    "'''API'''\n",
    "#job_id = submit_id_mapping_UniProtAPI(\n",
    "#                from_db = 'Gene_Name',\n",
    "#                to_db = 'UniProtKB-Swiss-Prot', \n",
    "#                ids = gene_names)\n",
    "\n",
    "job_id = 'f0752f32064b441b1b7959cae87a8eaeea058c07' # Pasted from the web tool\n",
    "\n",
    "# This checks on the job until it is finished\n",
    "if check_id_mapping_results_ready_UniProtAPI(job_id):\n",
    "    link = get_id_mapping_results_link_UniProtAPI(job_id)\n",
    "    results = get_id_mapping_results_search_UniProtAPI(link)"
   ]
  },
  {
   "cell_type": "code",
   "execution_count": 8,
   "id": "9a02b0be",
   "metadata": {},
   "outputs": [
    {
     "name": "stdout",
     "output_type": "stream",
     "text": [
      "38 genes removed because they were ambiguous\n",
      "Names mapped to multiple proteins (possibly ok, but possibly not)\n"
     ]
    }
   ],
   "source": [
    "'''Dictionary from API data'''\n",
    "gene_name_2_protein_id = get_to_uniprotid_from_genename_mapping_dict_UniProtAPI(\n",
    "                                                    results, \n",
    "                                                    [9606], \n",
    "                                                    filter_by_reviewed = True)\n",
    "\n",
    "removed_genes = 0\n",
    "for gene_name, protein_ids in gene_name_2_protein_id.copy().items():\n",
    "    if len(protein_ids) > 1:\n",
    "        gene_name_2_protein_id.pop(gene_name)\n",
    "        removed_genes += 1\n",
    "print(removed_genes, 'genes removed because they were ambiguous\\n'+\\\n",
    "                     'Names mapped to multiple proteins (possibly ok, but possibly not)')"
   ]
  },
  {
   "cell_type": "markdown",
   "id": "c52a2e4b",
   "metadata": {},
   "source": [
    "##### Protein ID -encoded by-> Gene ID"
   ]
  },
  {
   "cell_type": "code",
   "execution_count": 9,
   "id": "b9bf8afb",
   "metadata": {},
   "outputs": [],
   "source": [
    "'''Dictionary (all known mappings)'''\n",
    "protein_ids_2_gene_ids = json.load(open('output/protein2gene/all_uniprot2entrez.json','r'))\n",
    "gene_ids_2_protein_ids = json.load(open('output/protein2gene/all_entrez2uniprot.json','r'))"
   ]
  },
  {
   "cell_type": "markdown",
   "id": "be144233",
   "metadata": {},
   "source": [
    "##### Gene Name -is- Gene ID"
   ]
  },
  {
   "cell_type": "code",
   "execution_count": 10,
   "id": "f16af055",
   "metadata": {},
   "outputs": [],
   "source": [
    "'''Dictionary'''\n",
    "gene_name_2_gene_id = dict()\n",
    "\n",
    "# Gene Name\n",
    "for gene_name, protein_ids in gene_name_2_protein_id.items():\n",
    "    \n",
    "    # Protein IDs\n",
    "    for protein_id in protein_ids:\n",
    "        \n",
    "        # ProteinID -is- Gene IDs\n",
    "        try:\n",
    "            gene_ids = protein_ids_2_gene_ids[protein_id]\n",
    "            for gene_id in gene_ids:\n",
    "            \n",
    "                # Gene Name -is- Gene ID\n",
    "                gene_name_2_gene_id.setdefault(gene_name,set()).add(gene_id)\n",
    "        except:\n",
    "            continue"
   ]
  },
  {
   "cell_type": "code",
   "execution_count": 11,
   "id": "0c6d844b",
   "metadata": {},
   "outputs": [
    {
     "name": "stdout",
     "output_type": "stream",
     "text": [
      "173 gene names with multiple gene IDs (possibly bad)\n",
      "18140 gene names with one gene ID (good)\n"
     ]
    }
   ],
   "source": [
    "'''Check mappings'''\n",
    "multiple_gene_ids_per_gene_name, one_gene_id_per_gene_name = set(), set()\n",
    "\n",
    "for k,v in gene_name_2_gene_id.items():\n",
    "    if len(v) > 1:\n",
    "        multiple_gene_ids_per_gene_name.add(k)\n",
    "    else:\n",
    "        one_gene_id_per_gene_name.add(k)\n",
    "        \n",
    "print(len(multiple_gene_ids_per_gene_name), 'gene names with multiple gene IDs (possibly bad)')\n",
    "print(len(one_gene_id_per_gene_name), 'gene names with one gene ID (good)')\n",
    "\n",
    "'''Remove unclear mappings'''\n",
    "for gene_name, gene_ids in gene_name_2_gene_id.copy().items():\n",
    "    if len(gene_ids) > 1:\n",
    "        gene_name_2_gene_id.pop(gene_name)"
   ]
  },
  {
   "cell_type": "markdown",
   "id": "06aa13d9",
   "metadata": {},
   "source": [
    "### TF Gene's Protein ID -targets- Target Gene ID"
   ]
  },
  {
   "cell_type": "code",
   "execution_count": 15,
   "id": "4bb5e2c6",
   "metadata": {},
   "outputs": [
    {
     "name": "stdout",
     "output_type": "stream",
     "text": [
      "All good\n"
     ]
    }
   ],
   "source": [
    "'''Checking that no gene names correspond to multiple protein IDs'''\n",
    "something_went_wrong = False\n",
    "for gene_name, protein_ids in gene_name_2_protein_id.copy().items():\n",
    "    if len(protein_ids) > 1:\n",
    "        print(gene_name, protein_ids)\n",
    "        something_went_wrong = True\n",
    "if not something_went_wrong:\n",
    "    print('All good')"
   ]
  },
  {
   "cell_type": "code",
   "execution_count": 16,
   "id": "bc9a521c",
   "metadata": {},
   "outputs": [],
   "source": [
    "tf_protein_id_2_target_gene_id =  dict()\n",
    "tf_protein_id_2_target_protein_id = dict()\n",
    "target_protein_id_2_tf_protein_id = dict()\n",
    "\n",
    "for tf_gene_name, target_gene_names in tf_gene_name_2_target_gene_name.items():\n",
    "\n",
    "    # TF Gene Name -is- TF Protein ID\n",
    "    try:\n",
    "        tf_protein_ids = gene_name_2_protein_id[tf_gene_name]\n",
    "        tf_protein_ids = list(tf_protein_ids)\n",
    "    except:\n",
    "        continue\n",
    "    \n",
    "    # Target Gene Names -is- Target Gene ID\n",
    "    for target_gene_name in target_gene_names:\n",
    "        try:\n",
    "            target_gene_id = gene_name_2_gene_id[target_gene_name]\n",
    "            target_gene_id = list(target_gene_id)[0]\n",
    "            for tf_protein_id in tf_protein_ids:\n",
    "                tf_protein_id_2_target_gene_id.setdefault(tf_protein_id, set()).add(target_gene_id)\n",
    "        except:\n",
    "            continue    \n",
    "        \n",
    "        # Protein ID's Gene -is targeted by-> TF Gene \n",
    "        try:\n",
    "            target_gene_protein_ids = gene_ids_2_protein_ids[target_gene_id]\n",
    "            for target_gene_protein_id in target_gene_protein_ids:\n",
    "                for tf_protein_id in tf_protein_ids:\n",
    "                    tf_protein_id_2_target_protein_id.setdefault(tf_protein_id, set()).add(target_gene_protein_id)\n",
    "                    target_protein_id_2_tf_protein_id.setdefault(target_gene_protein_id, set()).add(tf_protein_id)\n",
    "        except:\n",
    "            continue"
   ]
  },
  {
   "cell_type": "code",
   "execution_count": 23,
   "id": "e7dc9e15",
   "metadata": {},
   "outputs": [
    {
     "data": {
      "text/html": [
       "<div>\n",
       "<style scoped>\n",
       "    .dataframe tbody tr th:only-of-type {\n",
       "        vertical-align: middle;\n",
       "    }\n",
       "\n",
       "    .dataframe tbody tr th {\n",
       "        vertical-align: top;\n",
       "    }\n",
       "\n",
       "    .dataframe thead th {\n",
       "        text-align: right;\n",
       "    }\n",
       "</style>\n",
       "<table border=\"1\" class=\"dataframe\">\n",
       "  <thead>\n",
       "    <tr style=\"text-align: right;\">\n",
       "      <th></th>\n",
       "      <th>Protein (UniProt)</th>\n",
       "      <th>Gene (Entrez)</th>\n",
       "      <th>Relationship</th>\n",
       "    </tr>\n",
       "  </thead>\n",
       "  <tbody>\n",
       "    <tr>\n",
       "      <th>748826</th>\n",
       "      <td>UniProt:Q7L945</td>\n",
       "      <td>Entrez:9187</td>\n",
       "      <td>-transcription_factor_targets-&gt;</td>\n",
       "    </tr>\n",
       "    <tr>\n",
       "      <th>748827</th>\n",
       "      <td>UniProt:Q7L945</td>\n",
       "      <td>Entrez:144165</td>\n",
       "      <td>-transcription_factor_targets-&gt;</td>\n",
       "    </tr>\n",
       "    <tr>\n",
       "      <th>748828</th>\n",
       "      <td>UniProt:Q7L945</td>\n",
       "      <td>Entrez:55711</td>\n",
       "      <td>-transcription_factor_targets-&gt;</td>\n",
       "    </tr>\n",
       "    <tr>\n",
       "      <th>748829</th>\n",
       "      <td>UniProt:Q7L945</td>\n",
       "      <td>Entrez:90</td>\n",
       "      <td>-transcription_factor_targets-&gt;</td>\n",
       "    </tr>\n",
       "    <tr>\n",
       "      <th>748830</th>\n",
       "      <td>UniProt:Q7L945</td>\n",
       "      <td>Entrez:55146</td>\n",
       "      <td>-transcription_factor_targets-&gt;</td>\n",
       "    </tr>\n",
       "  </tbody>\n",
       "</table>\n",
       "</div>"
      ],
      "text/plain": [
       "       Protein (UniProt)  Gene (Entrez)                     Relationship\n",
       "748826    UniProt:Q7L945    Entrez:9187  -transcription_factor_targets->\n",
       "748827    UniProt:Q7L945  Entrez:144165  -transcription_factor_targets->\n",
       "748828    UniProt:Q7L945   Entrez:55711  -transcription_factor_targets->\n",
       "748829    UniProt:Q7L945      Entrez:90  -transcription_factor_targets->\n",
       "748830    UniProt:Q7L945   Entrez:55146  -transcription_factor_targets->"
      ]
     },
     "execution_count": 23,
     "metadata": {},
     "output_type": "execute_result"
    }
   ],
   "source": [
    "''' Output the Protein-Gene relationships'''\n",
    "\n",
    "### JSONs\n",
    "tf_protein_id_2_target_gene_id = switch_dictset_to_dictlist(tf_protein_id_2_target_gene_id)\n",
    "target_protein_id_2_tf_protein_id = switch_dictset_to_dictlist(target_protein_id_2_tf_protein_id)\n",
    "tf_protein_id_2_target_protein_id = switch_dictset_to_dictlist(tf_protein_id_2_target_protein_id)\n",
    "\n",
    "json.dump(tf_protein_id_2_target_gene_id, open('output/protein2gene/tf_protein_id_2_target_gene_id.json','w'))\n",
    "json.dump(target_protein_id_2_tf_protein_id, open('output/protein2gene/target_protein_id_2_tf_protein_id.json', 'w'))\n",
    "json.dump(tf_protein_id_2_target_protein_id, open('output/protein2gene/tf_protein_id_2_target_protein_id.json','w'))\n",
    "\n",
    "\n",
    "### CSV\n",
    "output_file = 'edges_protein-TARGETS->gene.csv'\n",
    "\n",
    "with open('output/protein2gene/'+output_file,'w') as fout:\n",
    "    writer = csv.writer(fout)\n",
    "    writer.writerow(['Protein (UniProt)','Gene (Entrez)','Relationship'])\n",
    "        \n",
    "    for tf_protein_id,target_gene_ids in tf_protein_id_2_target_gene_id.items():\n",
    "        for gene_id in target_gene_ids:\n",
    "            writer.writerow(['UniProt:'+tf_protein_id, 'Entrez:'+str(gene_id),'-transcription_factor_targets->'])\n",
    "            \n",
    "df = pd.read_csv('output/protein2gene/'+output_file)\n",
    "df = df.drop_duplicates()\n",
    "df.drop_duplicates().to_csv('output/protein2gene/'+output_file, index=False)\n",
    "df.drop_duplicates().to_csv('output/edges/'+output_file, index=False)\n",
    "df.tail()"
   ]
  },
  {
   "cell_type": "code",
   "execution_count": 18,
   "id": "f8ce2e2e",
   "metadata": {},
   "outputs": [
    {
     "data": {
      "image/png": "[encoded data removed]",
      "text/plain": [
       "<Figure size 432x288 with 1 Axes>"
      ]
     },
     "metadata": {
      "needs_background": "light"
     },
     "output_type": "display_data"
    }
   ],
   "source": [
    "# Targets per TF\n",
    "target_genes_per_protein_count = list()\n",
    "\n",
    "for tf_protein_id, target_gene_ids in tf_protein_id_2_target_gene_id.items():\n",
    "    target_genes_per_protein_count.append(len(target_gene_ids))\n",
    "\n",
    "plt.yscale('log')\n",
    "plt.hist(target_genes_per_protein_count, bins = 100);"
   ]
  }
 ],
 "metadata": {
  "kernelspec": {
   "display_name": "Python 3 (ipykernel)",
   "language": "python",
   "name": "python3"
  },
  "language_info": {
   "codemirror_mode": {
    "name": "ipython",
    "version": 3
   },
   "file_extension": ".py",
   "mimetype": "text/x-python",
   "name": "python",
   "nbconvert_exporter": "python",
   "pygments_lexer": "ipython3",
   "version": "3.9.7"
  }
 },
 "nbformat": 4,
 "nbformat_minor": 5
}
